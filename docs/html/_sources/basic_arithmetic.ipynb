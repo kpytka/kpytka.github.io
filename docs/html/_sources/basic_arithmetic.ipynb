{
 "cells": [
  {
   "cell_type": "markdown",
   "metadata": {},
   "source": [
    "## Basic arithmetic operations"
   ]
  },
  {
   "cell_type": "markdown",
   "metadata": {},
   "source": [
    "On the surface, arithmetic operations (`+`, `-`, `*`, `/`) in `Julia` are very similar to the ones known from such languages as `Matlab`:\n"
   ]
  },
  {
   "cell_type": "code",
   "execution_count": null,
   "metadata": {},
   "outputs": [
    {
     "data": {
      "text/plain": [
       "3"
      ]
     },
     "metadata": {},
     "output_type": "display_data"
    }
   ],
   "source": [
    "x = 1\n",
    "y = 2\n",
    "x + y\n"
   ]
  },
  {
   "cell_type": "markdown",
   "metadata": {},
   "source": [
    "```{margin}\n",
    "For multiplication we do not have to use `*` for unambiguous cases. `2*x` and `2x` wille give the same results.\n",
    "However, I do not recommend it because in my opinion it makes the code a bit less legible.\n",
    "```"
   ]
  },
  {
   "cell_type": "markdown",
   "metadata": {},
   "source": [
    "For presenting results of the operation macro `@show` can be quite useful:"
   ]
  },
  {
   "cell_type": "code",
   "execution_count": null,
   "metadata": {},
   "outputs": [
    {
     "name": "stdout",
     "output_type": "stream",
     "text": [
      "x + y + 0.2 = 3.2\n"
     ]
    },
    {
     "data": {
      "text/plain": [
       "3.2"
      ]
     },
     "metadata": {},
     "output_type": "display_data"
    }
   ],
   "source": [
    "x = 1\n",
    "y = 2\n",
    "@show x + y + .2\n"
   ]
  },
  {
   "cell_type": "markdown",
   "metadata": {},
   "source": [
    "You can make several assignments in one line using separator `,`.\n",
    "Then, instead of three lines:"
   ]
  },
  {
   "cell_type": "code",
   "execution_count": 10,
   "metadata": {},
   "outputs": [],
   "source": [
    "x = 12.3;\n",
    "y = 1;\n",
    "🤩 = -10;"
   ]
  },
  {
   "cell_type": "markdown",
   "metadata": {},
   "source": [
    "you can just use one line:"
   ]
  },
  {
   "cell_type": "code",
   "execution_count": 15,
   "metadata": {},
   "outputs": [
    {
     "data": {
      "text/plain": [
       "(12.3, 1, -10)"
      ]
     },
     "execution_count": 15,
     "metadata": {},
     "output_type": "execute_result"
    }
   ],
   "source": [
    "x, y, 🤩 = 12.3, 1, -10\n"
   ]
  },
  {
   "cell_type": "markdown",
   "metadata": {},
   "source": [
    "```{margin}\n",
    "Yes, you can use emojis for naming objects in `Julia`. Nonetheless, you have to make sure that emojis are installed on the computer. \n",
    "This is rather the case for your own laptop but it is not so obious for UN*X distributions used on HPC clusters, which you may use at some point.\n",
    "Moreover, there is a documented problem with using emojis in Julia for VS Code.\n",
    "```"
   ]
  },
  {
   "cell_type": "code",
   "execution_count": 12,
   "metadata": {},
   "outputs": [
    {
     "name": "stdout",
     "output_type": "stream",
     "text": [
      "🤩 = -10\n",
      "x = 12.3\n",
      "y = 1\n",
      "(y, x) = (1, 12.3)\n"
     ]
    },
    {
     "data": {
      "text/plain": [
       "(1, 12.3)"
      ]
     },
     "execution_count": 12,
     "metadata": {},
     "output_type": "execute_result"
    }
   ],
   "source": [
    "@show 🤩\n",
    "@show x\n",
    "@show y\n",
    "@show y, x"
   ]
  },
  {
   "cell_type": "markdown",
   "metadata": {},
   "source": [
    "Operations (`+`,  `-`,  `*`,  `/`,  `\\`,  `÷`,  `%`,  `^`) where one object is on both sides of the assignment operator (_e.g._, `x=x+1`) can be shortened:"
   ]
  },
  {
   "cell_type": "code",
   "execution_count": 16,
   "metadata": {},
   "outputs": [
    {
     "name": "stdout",
     "output_type": "stream",
     "text": [
      "x = 12.3\n",
      "x += 1 = 13.3\n",
      "x *= 2 = 26.6\n",
      "x ^= 2 = 707.5600000000001\n"
     ]
    }
   ],
   "source": [
    "@show x;\n",
    "@show x += 1;\n",
    "@show x *= 2;\n",
    "@show x ^= 2;\n"
   ]
  },
  {
   "cell_type": "markdown",
   "metadata": {},
   "source": [
    "If we combine two different numeric types, `Julia` will try to coerce the less general object to more general one: "
   ]
  },
  {
   "cell_type": "code",
   "execution_count": null,
   "metadata": {},
   "outputs": [
    {
     "name": "stdout",
     "output_type": "stream",
     "text": [
      "z = x + y = 42.964\n"
     ]
    },
    {
     "data": {
      "text/plain": [
       "Float64"
      ]
     },
     "metadata": {},
     "output_type": "display_data"
    }
   ],
   "source": [
    "x = Int(42)\n",
    "y = float(.964)\n",
    "@show z = x+y\n",
    "\n",
    "typeof(z)"
   ]
  },
  {
   "cell_type": "markdown",
   "metadata": {},
   "source": [
    "You can use also `Lisp`-like syntax (which we find in `R` as well. Sometimes this can be very useful, and other times, it can be quite [scary](https://twitter.com/mjskay/status/1454952248937783304)):"
   ]
  },
  {
   "cell_type": "code",
   "execution_count": null,
   "metadata": {},
   "outputs": [
    {
     "data": {
      "text/plain": [
       "42.964"
      ]
     },
     "metadata": {},
     "output_type": "display_data"
    }
   ],
   "source": [
    "+(x, y)"
   ]
  },
  {
   "cell_type": "code",
   "execution_count": null,
   "metadata": {},
   "outputs": [
    {
     "name": "stdout",
     "output_type": "stream",
     "text": [
      "(3 * (1 + 2)) ^ 5 = 59049\n"
     ]
    },
    {
     "data": {
      "text/plain": [
       "59049"
      ]
     },
     "metadata": {},
     "output_type": "display_data"
    }
   ],
   "source": [
    "@show  ^(*( 3, +(1, 2) ), 5)"
   ]
  },
  {
   "cell_type": "markdown",
   "metadata": {},
   "source": [
    "There are several ways to divide numbers. \n",
    "The most natural one is by using `/`:"
   ]
  },
  {
   "cell_type": "code",
   "execution_count": null,
   "metadata": {},
   "outputs": [
    {
     "name": "stdout",
     "output_type": "stream",
     "text": [
      "1 / 2 = 0.5\n"
     ]
    },
    {
     "data": {
      "text/plain": [
       "0.5"
      ]
     },
     "metadata": {},
     "output_type": "display_data"
    }
   ],
   "source": [
    "@show 1/2 "
   ]
  },
  {
   "cell_type": "markdown",
   "metadata": {},
   "source": [
    "If for some reason, we want to use common fractions instead of decimals, then we have to use `//` instead:"
   ]
  },
  {
   "cell_type": "code",
   "execution_count": null,
   "metadata": {},
   "outputs": [
    {
     "data": {
      "text/plain": [
       "1//2"
      ]
     },
     "metadata": {},
     "output_type": "display_data"
    }
   ],
   "source": [
    "1//2"
   ]
  },
  {
   "cell_type": "markdown",
   "metadata": {},
   "source": [
    "Within common fractions, we can perform arithmetic operations:\n"
   ]
  },
  {
   "cell_type": "code",
   "execution_count": null,
   "metadata": {},
   "outputs": [
    {
     "name": "stdout",
     "output_type": "stream",
     "text": [
      "1 // 2 + 1 // 3 = 5//6\n"
     ]
    }
   ],
   "source": [
    "@show 1//2+1//3;\n"
   ]
  },
  {
   "cell_type": "code",
   "execution_count": null,
   "metadata": {},
   "outputs": [
    {
     "name": "stdout",
     "output_type": "stream",
     "text": [
      "(1 // 2) ^ 10 = 1//1024\n"
     ]
    }
   ],
   "source": [
    "@show (1//2)^10;"
   ]
  },
  {
   "cell_type": "markdown",
   "metadata": {},
   "source": [
    "But due to coercion in operations over different types, we might lose it:"
   ]
  },
  {
   "cell_type": "code",
   "execution_count": null,
   "metadata": {},
   "outputs": [
    {
     "name": "stdout",
     "output_type": "stream",
     "text": [
      "1 // 2 + 0.25 = 0.75\n",
      "1 // 2 + π = 3.641592653589793\n"
     ]
    }
   ],
   "source": [
    "@show 1//2 + .25;\n",
    "@show 1//2 + π;"
   ]
  },
  {
   "cell_type": "markdown",
   "metadata": {},
   "source": [
    "We perform integer division by using `div` or `÷` (to get this symbol type `\\div` and `<tab>`):"
   ]
  },
  {
   "cell_type": "code",
   "execution_count": null,
   "metadata": {},
   "outputs": [
    {
     "name": "stdout",
     "output_type": "stream",
     "text": [
      "div(5, 3) = 1\n",
      "5 ÷ 3 = 1\n",
      "5 ÷ 3 = 1\n"
     ]
    }
   ],
   "source": [
    "@show div(5,3);\n",
    "@show   ÷(5,3);\n",
    "@show     5÷3;"
   ]
  },
  {
   "cell_type": "markdown",
   "metadata": {},
   "source": [
    "We get remainder by using `rem` or `%`:"
   ]
  },
  {
   "cell_type": "code",
   "execution_count": null,
   "metadata": {},
   "outputs": [
    {
     "name": "stdout",
     "output_type": "stream",
     "text": [
      "rem(5, 3) = 2\n",
      "5 % 3 = 2\n",
      "5 % 3 = 2\n"
     ]
    }
   ],
   "source": [
    "@show rem(5,3);\n",
    "@show   %(5,3);\n",
    "@show     5%3;"
   ]
  }
 ],
 "metadata": {
  "kernelspec": {
   "display_name": "Julia 1.6.0",
   "language": "julia",
   "name": "julia-1.6"
  },
  "language_info": {
   "file_extension": ".jl",
   "mimetype": "application/julia",
   "name": "julia",
   "version": "1.6.0"
  },
  "orig_nbformat": 4
 },
 "nbformat": 4,
 "nbformat_minor": 2
}
