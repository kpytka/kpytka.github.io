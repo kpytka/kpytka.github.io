{
 "cells": [
  {
   "cell_type": "markdown",
   "metadata": {},
   "source": [
    "(broadcasting)=\n",
    "# Broadcasting: arrays meet scalars\n",
    "\n",
    "\n",
    "In [the section](arrays) describing arrays, we faced one seemingly bizzare obstacle in operating with objects of different data structures.\n",
    "In our discussed example we tried to add a scalar number, $1,$ to a matrix $\\mathbb{A}$ by running $\\mathbb{A}+1.$\n",
    "In `Julia` it is not possible. \n",
    "While trying running `A+1` you get an error message.\n",
    "We addressed this problem by using function `repeat`.\n",
    "Here I present a much more recommended approach and to this end I will use function `broadcast`.\n",
    "\n",
    "\n",
    "Broadcasting applies a certain function `f` over the sequence of elements of the provided input objects.\n",
    "In our example, we want to broadcast function `+()` over elements of `A` and `1`:"
   ]
  },
  {
   "cell_type": "code",
   "execution_count": 1,
   "metadata": {},
   "outputs": [
    {
     "data": {
      "text/plain": [
       "2×2 Matrix{Int64}:\n",
       " 2  3\n",
       " 4  5"
      ]
     },
     "execution_count": 1,
     "metadata": {},
     "output_type": "execute_result"
    }
   ],
   "source": [
    "A = [1 2; 3 4] #our matrix\n",
    "\n",
    "output = broadcast(+, A , 1)"
   ]
  },
  {
   "cell_type": "markdown",
   "metadata": {},
   "source": [
    "The broadcasting procedure adds `A[1,1]` and  `1` and assings the result to element `output[1,1]`. Next, it adds `A[2,1]` and `1` and assings the result to element `output[2,1]`. In total, the operation is conducted four times and as a result you get a new object `output` of size $2\\times 2.$\n",
    "\n",
    "Broadcasting allows to use not only arrays and scalars but also arrays of different sizes in a very similar way:"
   ]
  },
  {
   "cell_type": "code",
   "execution_count": 2,
   "metadata": {},
   "outputs": [
    {
     "data": {
      "text/plain": [
       "2×2 Matrix{Int64}:\n",
       " 2  4\n",
       " 4  6"
      ]
     },
     "execution_count": 2,
     "metadata": {},
     "output_type": "execute_result"
    }
   ],
   "source": [
    "broadcast(+, A , [1 2])"
   ]
  },
  {
   "cell_type": "markdown",
   "metadata": {},
   "source": [
    "## Dot (`.`) notation for broadcasting\n",
    "\n",
    "The number of input objects depends on the number of required inputs of the broadcasted function.\n",
    "To illustrate this, consider a following example:\n",
    "\n",
    "(exp-grid)=\n",
    "```{note}\n",
    "Suppose that we want to create an exponential grid of $n$ elements from $k_1$ to $k_n.$\n",
    "In a grid of this type, the elements are defined as follows:\n",
    "\n",
    "$$\\forall_{i\\in \\{1,\\ldots, n\\}} \\ln k_i = \\ln k_1 + (i-1)d,$$\n",
    "\n",
    "where $d=\\frac{\\ln k_n - \\ln k_1}{n-1}.$\n",
    "```\n",
    "\n",
    "The grid on the logarithmic scale $(\\ln k_i)_{i=1}^n$ can be computed as follows:"
   ]
  },
  {
   "cell_type": "code",
   "execution_count": 3,
   "metadata": {},
   "outputs": [],
   "source": [
    "k₁    =  1;\n",
    "kₙ    = 12;\n",
    "n     = 1000;\n",
    "d     = (kₙ-k₁)/(n-1);\n",
    "ln_k  = collect( range(log(k₁), stop=log(kₙ), length=n) );"
   ]
  },
  {
   "cell_type": "markdown",
   "metadata": {},
   "source": [
    "Equipped with $(\\ln k_i)_{i=1}^n$, we would like to recover the grid with true values of $(k_i)_{i=1}^n.$ \n",
    "We can do it by exponentiating each element of `ln_k`.\n",
    "`broadcast` might be very useful for this:"
   ]
  },
  {
   "cell_type": "code",
   "execution_count": 4,
   "metadata": {},
   "outputs": [
    {
     "data": {
      "text/plain": [
       "1000-element Vector{Float64}:\n",
       "  1.0\n",
       "  1.0024904901749636\n",
       "  1.004987182891239\n",
       "  1.007490093596194\n",
       "  1.0099992377756684\n",
       "  1.0125146309540696\n",
       "  1.0150362886944675\n",
       "  1.0175642265986928\n",
       "  1.0200984603074312\n",
       "  1.0226390055003225\n",
       "  1.0251858778960556\n",
       "  1.0277390932524673\n",
       "  1.0302986673666386\n",
       "  ⋮\n",
       " 11.676115152945892\n",
       " 11.705194403016046\n",
       " 11.734346074672795\n",
       " 11.76357034828139\n",
       " 11.792867404656281\n",
       " 11.822237425062225\n",
       " 11.851680591215429\n",
       " 11.881197085284661\n",
       " 11.910787089892368\n",
       " 11.940450788115827\n",
       " 11.97018836348827\n",
       " 12.0"
      ]
     },
     "execution_count": 4,
     "metadata": {},
     "output_type": "execute_result"
    }
   ],
   "source": [
    "k = broadcast(exp, ln_k)"
   ]
  },
  {
   "cell_type": "markdown",
   "metadata": {},
   "source": [
    "```{margin}\n",
    "Notice that the distance between two subsequent elements of `ln_k` is constant and equal to $d=\\frac{\\ln k_n - \\ln k_1}{n-1},$ while the distance on `k` is increasing with each element.\n",
    "Check this by comparing vectors of distances, `ln_k[2:end] - ln_k[1:end-1]` and `k[2:end] - k[1:end-1].`\n",
    "```"
   ]
  },
  {
   "cell_type": "markdown",
   "metadata": {},
   "source": [
    "Procedure `broadcast` has a convenient short dot (`.`) notation.\n",
    "Instead of using `broadcast(f, As)`, we can do exactly the same thing by adding `.` at the end of function `f`, _i.e._ `f.(As)`.\n",
    "In our example it will be:"
   ]
  },
  {
   "cell_type": "code",
   "execution_count": 5,
   "metadata": {},
   "outputs": [
    {
     "data": {
      "text/plain": [
       "1000-element Vector{Float64}:\n",
       "  1.0\n",
       "  1.0024904901749636\n",
       "  1.004987182891239\n",
       "  1.007490093596194\n",
       "  1.0099992377756684\n",
       "  1.0125146309540696\n",
       "  1.0150362886944675\n",
       "  1.0175642265986928\n",
       "  1.0200984603074312\n",
       "  1.0226390055003225\n",
       "  1.0251858778960556\n",
       "  1.0277390932524673\n",
       "  1.0302986673666386\n",
       "  ⋮\n",
       " 11.676115152945892\n",
       " 11.705194403016046\n",
       " 11.734346074672795\n",
       " 11.76357034828139\n",
       " 11.792867404656281\n",
       " 11.822237425062225\n",
       " 11.851680591215429\n",
       " 11.881197085284661\n",
       " 11.910787089892368\n",
       " 11.940450788115827\n",
       " 11.97018836348827\n",
       " 12.0"
      ]
     },
     "execution_count": 5,
     "metadata": {},
     "output_type": "execute_result"
    }
   ],
   "source": [
    "exp.(ln_k)"
   ]
  },
  {
   "cell_type": "markdown",
   "metadata": {},
   "source": [
    "Arithmetic operations such as `+`, `-`, `^`, `/`, `*` can be broadcasted by adding `.` *in front of* operators:"
   ]
  },
  {
   "cell_type": "markdown",
   "metadata": {},
   "source": [
    "```{margin}\n",
    "Sometimes `.` operator generates some ambiguity. For example, in `2.+A` `Julia` does not know whether `.` refers to `2.` or `.+`. In this case, you need to make a space in a proper place: `2 .+A` or `2. +A`.\n",
    "\n",
    "```"
   ]
  },
  {
   "cell_type": "code",
   "execution_count": 6,
   "metadata": {},
   "outputs": [
    {
     "data": {
      "text/plain": [
       "2×2 Matrix{Int64}:\n",
       " 2  4\n",
       " 4  6"
      ]
     },
     "execution_count": 6,
     "metadata": {},
     "output_type": "execute_result"
    }
   ],
   "source": [
    "A .+ [1 2]"
   ]
  },
  {
   "cell_type": "markdown",
   "metadata": {},
   "source": [
    "## Don't use `repeat` for what can be done with `broadcast`"
   ]
  },
  {
   "cell_type": "markdown",
   "metadata": {},
   "source": [
    "In [section on arrays](arrays), I discussed a method involving `repeat` instead of `broadcast`. \n",
    "Now, I will show how inefficient it is in comparison to broadcasting.\n",
    "For this, I am going compare both approaches in adding $1$ to each element of an array of size $100,000\\times 10,000.$\n",
    "In the exercise macro `@btime` from `BenchmarkTools` is used to measure the execution time of both methods."
   ]
  },
  {
   "cell_type": "code",
   "execution_count": 7,
   "metadata": {},
   "outputs": [
    {
     "name": "stdout",
     "output_type": "stream",
     "text": [
      "size(X) = (100000, 10000)\n"
     ]
    },
    {
     "data": {
      "text/plain": [
       "(100000, 10000)"
      ]
     },
     "execution_count": 7,
     "metadata": {},
     "output_type": "execute_result"
    }
   ],
   "source": [
    "using BenchmarkTools\n",
    "\n",
    "X = repeat(collect(1:100), 1000, 10000);\n",
    "@show size(X)"
   ]
  },
  {
   "cell_type": "code",
   "execution_count": 8,
   "metadata": {},
   "outputs": [
    {
     "name": "stdout",
     "output_type": "stream",
     "text": [
      "  2.894 s (4 allocations: 7.45 GiB)\n"
     ]
    }
   ],
   "source": [
    "@btime X .+ 1;"
   ]
  },
  {
   "cell_type": "code",
   "execution_count": 9,
   "metadata": {},
   "outputs": [],
   "source": [
    "@btime X + repeat([1], 100000, 10000);"
   ]
  },
  {
   "cell_type": "markdown",
   "metadata": {},
   "source": [
    "The broadcasted (execution time: 3.308 s) function is almost five times faster than using `repeat` (execution time: 15.541 s).\n",
    "The main reason for this is that `repeat([1], 100000, 10000)` generates a new large object, while in `broadcast` this step is skipped."
   ]
  },
  {
   "cell_type": "markdown",
   "metadata": {},
   "source": [
    "## Updating objects: new assignments  vs. elementwise updates"
   ]
  },
  {
   "cell_type": "markdown",
   "metadata": {},
   "source": [
    "Suppose that you have a large array of dimension $10,000\\times 10,000$ and you would like to increase the value of each element by $1.$ Below you can find three alternative and seemingly very similar implementations. Macro `@time` measure the execution time."
   ]
  },
  {
   "cell_type": "code",
   "execution_count": 131,
   "metadata": {},
   "outputs": [
    {
     "name": "stdout",
     "output_type": "stream",
     "text": [
      "  0.567747 seconds (4 allocations: 762.940 MiB, 18.89% gc time)\n",
      "  0.123577 seconds (2 allocations: 64 bytes)\n"
     ]
    }
   ],
   "source": [
    "\n",
    "A = repeat(1:10000, 10000)\n",
    "B = repeat(1:10000, 10000)\n",
    "\n",
    "\n",
    "\n",
    "@time B  = B .+ 1;\n",
    "@time A .+= 1;\n"
   ]
  },
  {
   "cell_type": "markdown",
   "metadata": {},
   "source": [
    "As you can see `B  = B .+ 1;` is around 5 times slower than `A .+= 1;`. The reason for this is that in `B  = B .+ 1;`, `Julia` creates a copy of `B`, adds $1$ and then assigns the output to matrix `B` again. In `A .+= 1;` the operations (assignment and adding) are performed elementwise and no copy of `A` is created in the operation."
   ]
  },
  {
   "cell_type": "markdown",
   "metadata": {},
   "source": [
    "```{note}\n",
    "For economists, this observation can be especially useful for solving dynamic programming problems, _e.g._ through value funcion iterations.\n",
    "```"
   ]
  },
  {
   "cell_type": "markdown",
   "metadata": {},
   "source": [
    "(at_dot)=\n",
    "## Too many dots? `@.` is the answer!"
   ]
  },
  {
   "cell_type": "markdown",
   "metadata": {},
   "source": [
    "```{note}\n",
    "Suppose that we have vector $\\mathbf{x} = \\left(1,2,3,4,5\\right)'$ and we would like to perform the following operation for each element of the vector:\n",
    "\n",
    "$$\\forall_{i\\in\\{1,\\ldots,5\\}}\\frac{{x_i}^2-1}{3}.$$\n",
    "```\n",
    "\n",
    "Using `broadcast`, this can be done in the following way:"
   ]
  },
  {
   "cell_type": "code",
   "execution_count": 68,
   "metadata": {},
   "outputs": [
    {
     "data": {
      "text/plain": [
       "5-element Vector{Float64}:\n",
       " 0.0\n",
       " 1.0\n",
       " 2.6666666666666665\n",
       " 5.0\n",
       " 8.0"
      ]
     },
     "execution_count": 68,
     "metadata": {},
     "output_type": "execute_result"
    }
   ],
   "source": [
    "x = 1:5;\n",
    "\n",
    "broadcast( /, broadcast( - , broadcast(^, x, 2), 1), 3)"
   ]
  },
  {
   "cell_type": "markdown",
   "metadata": {},
   "source": [
    "As can be seen, a relatively simple operation is written in a very complicated way making the code extremely illegible.\n",
    "With `.` notation it can be slightly improved:"
   ]
  },
  {
   "cell_type": "code",
   "execution_count": 69,
   "metadata": {},
   "outputs": [
    {
     "data": {
      "text/plain": [
       "5-element Vector{Float64}:\n",
       " 0.0\n",
       " 1.0\n",
       " 2.6666666666666665\n",
       " 5.0\n",
       " 8.0"
      ]
     },
     "execution_count": 69,
     "metadata": {},
     "output_type": "execute_result"
    }
   ],
   "source": [
    "(x.^2 .- 1)./3"
   ]
  },
  {
   "cell_type": "markdown",
   "metadata": {},
   "source": [
    "The code looks much better now but still the number of `.`'s might be overwhelming for some people.\n",
    "This issue can be addressed by applying `@.` at the beginning of the line.\n",
    "This macro converts _all_ functions in the line to broadcasted functions (actually `@.` can be put in any place of the line. The scope of the macro is from symbol `@.` to the the end of the current line).\n",
    "In our example we will have:\n"
   ]
  },
  {
   "cell_type": "code",
   "execution_count": 71,
   "metadata": {},
   "outputs": [
    {
     "data": {
      "text/plain": [
       "5-element Vector{Float64}:\n",
       " 0.0\n",
       " 1.0\n",
       " 2.6666666666666665\n",
       " 5.0\n",
       " 8.0"
      ]
     },
     "execution_count": 71,
     "metadata": {},
     "output_type": "execute_result"
    }
   ],
   "source": [
    "@. (x^2 - 1)/3"
   ]
  },
  {
   "cell_type": "markdown",
   "metadata": {},
   "source": [
    "(caveats-on-at-dot)=\n",
    "### Some caveats on thoughtless usage of `@.`"
   ]
  },
  {
   "cell_type": "markdown",
   "metadata": {},
   "source": [
    "```{note}\n",
    "Suppose that we have vector $\\mathbf{x} = \\left(1,2,3,4,5\\right)'$ and we would like to compute the variance of its elements by using a textbook formula:\n",
    "\n",
    "$$ \\text{Var}(\\mathbf{x}) = \\frac{\\sum_{i=1}^n\\left(x_i - \\frac{\\sum_{i=1}^n x_i}{n}\\right)^2}{n-1}.$$\n",
    "```\n",
    "\n",
    "To avoid multiple `.`'s, we might be tempted to use `@.` notation. \n",
    "However, the result can be quite surprising:"
   ]
  },
  {
   "cell_type": "code",
   "execution_count": 99,
   "metadata": {},
   "outputs": [
    {
     "data": {
      "text/plain": [
       "5-element Vector{Float64}:\n",
       " NaN\n",
       " NaN\n",
       " NaN\n",
       " NaN\n",
       " NaN"
      ]
     },
     "execution_count": 99,
     "metadata": {},
     "output_type": "execute_result"
    }
   ],
   "source": [
    "@. sum( (x - sum(x)/length(x))^2 )/(length(x) - 1)"
   ]
  },
  {
   "cell_type": "markdown",
   "metadata": {},
   "source": [
    "To understand what happens, recall that macro `@.` broadcasts _all_ functions in the line.\n",
    "In particular, it means that `sum` and `lenght` are broadcasted too.\n",
    "This is not what we want.\n",
    "`sum.(x)` computes for each element $s$ the sum of all elements, _i.e._ $\\sum_{i=s}^s x_i,$ which is nothing else than $x_s$ itself. \n",
    "In a similar fashion, `length.(x)`  computes for each element $s$ the length of this element, which is always $1.$\n",
    "As a result we have:"
   ]
  },
  {
   "cell_type": "code",
   "execution_count": 102,
   "metadata": {},
   "outputs": [
    {
     "name": "stdout",
     "output_type": "stream",
     "text": [
      "sum.(x) = [1, 2, 3, 4, 5]\n",
      "length.(x) = [1, 1, 1, 1, 1]\n"
     ]
    }
   ],
   "source": [
    "@show sum.(x);\n",
    "@show length.(x);"
   ]
  },
  {
   "cell_type": "markdown",
   "metadata": {},
   "source": [
    "```{margin}\n",
    "For illustration reasons, In this section,  intentionally I use neither `mean` nor `var` from package `Statistics`.\n",
    "```\n",
    "To compute the variance we need to use `.` notation only for `-()` and `^()`:\n"
   ]
  },
  {
   "cell_type": "code",
   "execution_count": 104,
   "metadata": {},
   "outputs": [
    {
     "data": {
      "text/plain": [
       "2.5"
      ]
     },
     "execution_count": 104,
     "metadata": {},
     "output_type": "execute_result"
    }
   ],
   "source": [
    "sum( (x .- sum(x)/length(x)).^2 )/(length(x) - 1)"
   ]
  },
  {
   "cell_type": "markdown",
   "metadata": {},
   "source": [
    "## `broadcast` vs. `map`\n",
    "\n",
    "to be written"
   ]
  },
  {
   "cell_type": "code",
   "execution_count": 107,
   "metadata": {},
   "outputs": [
    {
     "name": "stdout",
     "output_type": "stream",
     "text": [
      "map(+, A, 1) = [2]\n",
      "broadcast(+, A, 1) = [2 3; 4 5]\n"
     ]
    }
   ],
   "source": [
    "@show map(+, A, 1);\n",
    "@show broadcast(+, A, 1);"
   ]
  }
 ],
 "metadata": {
  "kernelspec": {
   "display_name": "Julia 1.6.0",
   "language": "julia",
   "name": "julia-1.6"
  },
  "language_info": {
   "file_extension": ".jl",
   "mimetype": "application/julia",
   "name": "julia",
   "version": "1.6.0"
  }
 },
 "nbformat": 4,
 "nbformat_minor": 2
}