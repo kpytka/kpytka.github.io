{
 "cells": [
  {
   "cell_type": "markdown",
   "metadata": {},
   "source": [
    "(pipes)=\n",
    "# Pipes\n",
    "\n",
    "\n",
    "Pipes are a very powerful tool for working with a sequence of commands.\n",
    "It consists on writing a sequence of jobs where the output of one task is the input of the next task.\n",
    "Suppose that you want to evaluate a composition of some functions:\n",
    "\n",
    "$$h \\circ g\\circ f (x)= h(g(f(x))).$$\n",
    "\n",
    "One way to perform this in `Julia` is simply copying this formula directly: _i.e._ `h(g(f(x)))`.\n",
    "However, working with this formulation can be problematic for two reasons. \n",
    "First, the code becomes not very clean quite quickly. \n",
    "Second, eliminating or adding some functions to the composition might be cumbersome due to a far location of the right bracket from a corresponding function.\n",
    "To address this problem we can use pipes.\n",
    "Piping is an efficient way for writing  sequences of jobs not only in many programming languages (e.g. `%>%` in `tidyverse` in `R`) but also in UN*X systems (by using `|` operator).\n",
    "\n",
    "In `Julia` pipes can be used either with a built-in base implementation or with package `Pipe`. In this section I am going to focus on the latter one, which is a more powerful solution. \n",
    "The considered composition of functions $h \\circ g\\circ f (x),$  can be written in the following way (note the different order than in $h \\circ g\\circ f (x)!$):\n",
    "\n",
    "```\n",
    "    @pipe x |> f(_) |> g(_) |> h(_)\n",
    "```\n",
    "\n",
    "In the presented example our pipe start with input `x` which is passed to function `f` and represented by `_`. \n",
    "Next, the result of the operation `f(x)` is passed as an argument (again represented as `_`) to function `g`.\n",
    "The output of `g` is the input of `h`. This way it is equivalent to `h(g(f(x)))`."
   ]
  },
  {
   "cell_type": "markdown",
   "metadata": {},
   "source": [
    "Let's study the exponential grid from [our previous example](exp-grid) once again.\n",
    "(I am aware that in this context `collect` converting a range to an array is not necessary. I keep  this to illustrate a few tasks in one line)"
   ]
  },
  {
   "cell_type": "code",
   "execution_count": 11,
   "metadata": {},
   "outputs": [
    {
     "data": {
      "text/plain": [
       "73-element Vector{Float64}:\n",
       "  1.0\n",
       "  1.0532831317160591\n",
       "  1.1094053555575891\n",
       "  1.1685179472442655\n",
       "  1.2307802429398609\n",
       "  1.2963600687379486\n",
       "  1.3654341930319522\n",
       "  1.4381888029888847\n",
       "  1.5148200064111028\n",
       "  1.5955343603388272\n",
       "  ⋮\n",
       " 27.726066345998433\n",
       " 29.203397991080454\n",
       " 30.7594464927957\n",
       " 32.3984061317844\n",
       " 34.12469467309464\n",
       " 35.94296527413145\n",
       " 37.85811902709873\n",
       " 39.87531816974189\n",
       " 42.00000000000001"
      ]
     },
     "metadata": {},
     "output_type": "display_data"
    }
   ],
   "source": [
    "exp.( collect( range(log(1), stop=log(42), length=73) ) )"
   ]
  },
  {
   "cell_type": "markdown",
   "metadata": {},
   "source": [
    "Using pipes, we can do this in the following way:"
   ]
  },
  {
   "cell_type": "code",
   "execution_count": 3,
   "metadata": {},
   "outputs": [
    {
     "data": {
      "text/plain": [
       "73-element Vector{Float64}:\n",
       "  1.0\n",
       "  1.0532831317160591\n",
       "  1.1094053555575891\n",
       "  1.1685179472442655\n",
       "  1.2307802429398609\n",
       "  1.2963600687379486\n",
       "  1.3654341930319522\n",
       "  1.4381888029888847\n",
       "  1.5148200064111028\n",
       "  1.5955343603388272\n",
       "  ⋮\n",
       " 27.726066345998433\n",
       " 29.203397991080454\n",
       " 30.7594464927957\n",
       " 32.3984061317844\n",
       " 34.12469467309464\n",
       " 35.94296527413145\n",
       " 37.85811902709873\n",
       " 39.87531816974189\n",
       " 42.00000000000001"
      ]
     },
     "metadata": {},
     "output_type": "display_data"
    }
   ],
   "source": [
    "using Pipe\n",
    "@pipe range(log(1), stop=log(42), length=73) |> collect |> exp.(_)"
   ]
  },
  {
   "cell_type": "markdown",
   "metadata": {},
   "source": [
    "Some numerical methods operate on standardized intervals (\\emph{e.g.}, Chebychev interpolation).\n",
    "(standardization)=\n",
    "```{note}\n",
    "Suppose that we want to standardize our grid to the interval $[-1,1]$\n",
    "\n",
    "$$x^s_i = 2\\cdot \\frac{x_i -1}{x_n-x_1} -1$$\n",
    "\n",
    "```\n",
    "\n",
    "Using pipes, we can do it by adding one additional step at the end and keep the code quite clean."
   ]
  },
  {
   "cell_type": "code",
   "execution_count": 15,
   "metadata": {},
   "outputs": [
    {
     "data": {
      "text/plain": [
       "73-element Vector{Float64}:\n",
       " -1.0\n",
       " -0.997400822843119\n",
       " -0.9946631533874347\n",
       " -0.991779612329548\n",
       " -0.9887424271736653\n",
       " -0.9855434112810757\n",
       " -0.9821739418033194\n",
       " -0.9786249364395666\n",
       " -0.974886828955556\n",
       " -0.970949543398106\n",
       "  ⋮\n",
       "  0.3037105534633382\n",
       "  0.3757755117600221\n",
       "  0.45168031672174136\n",
       "  0.5316295674041169\n",
       "  0.6158387645412018\n",
       "  0.7045348914210465\n",
       "  0.7979570257121331\n",
       "  0.8963569838898482\n",
       "  1.0000000000000004"
      ]
     },
     "metadata": {},
     "output_type": "display_data"
    }
   ],
   "source": [
    "@pipe range(log(1), stop=log(42), length=73) |> \n",
    "                                     collect |> \n",
    "                                     exp.(_) |>\n",
    "            map(x -> 2*(x-1)/(42-1) - 1, _ ) #standardizing to [-1, 1]"
   ]
  },
  {
   "cell_type": "markdown",
   "metadata": {},
   "source": [
    "The drawback of this approach is that ranges of the interval are hard-coded in the first operation `range(log(1), stop=log(42), length=73)` and the last operation `map(x -> 2*(x-1)/(42-1) - 1, _ )`.\n",
    "\n",
    "To make the pipe more flexible we can parametrize the first, $x_1,$ and the last element, $x_n.$"
   ]
  },
  {
   "cell_type": "markdown",
   "metadata": {},
   "source": [
    "Operator `_` representing the output of the previous process is optional for functions with one default input.\n",
    "\n",
    "Pipes from package `Pipe` allow to refer to certain elements of the output from the previous step. To this end, if we want to call the first and second elements of the earlier outcome we can use `_[1]` and `_[2]`, respectively.\n",
    "\n",
    "In our example we can split the process of building the logarithmic grid into: \n",
    "\n",
    "1. taking initial values $x_1$ and $x_n;$ \n",
    "1. computing logs of those values; \n",
    "1. building the equispaced grid for logs."
   ]
  },
  {
   "cell_type": "code",
   "execution_count": 16,
   "metadata": {},
   "outputs": [
    {
     "data": {
      "text/plain": [
       "73-element Vector{Float64}:\n",
       "  1.0\n",
       "  1.0532831317160591\n",
       "  1.1094053555575891\n",
       "  1.1685179472442655\n",
       "  1.2307802429398609\n",
       "  1.2963600687379486\n",
       "  1.3654341930319522\n",
       "  1.4381888029888847\n",
       "  1.5148200064111028\n",
       "  1.5955343603388272\n",
       "  ⋮\n",
       " 27.726066345998433\n",
       " 29.203397991080454\n",
       " 30.7594464927957\n",
       " 32.3984061317844\n",
       " 34.12469467309464\n",
       " 35.94296527413145\n",
       " 37.85811902709873\n",
       " 39.87531816974189\n",
       " 42.00000000000001"
      ]
     },
     "metadata": {},
     "output_type": "display_data"
    }
   ],
   "source": [
    "@pipe [1 42]|> \n",
    "            [log(_[1]) log(_[2])] |> \n",
    "range(_[1], stop=_[2], length=73) |> \n",
    "                          collect |> \n",
    "                            exp.(_)"
   ]
  },
  {
   "cell_type": "markdown",
   "metadata": {},
   "source": [
    "This way we can we have $x_1$ and $x_s$ as the very first inputs that can be easily changed.\n",
    "However, still process `map(x -> 2*(x-1)/(42-1) - 1, _ )` is hard-coded at $x_1 = 1$ and $x_n=42.$ Admittedly, we could try to make it more flexible by adding `maximum` and `minimum` in this step: \n",
    "\n",
    "```{margin}\n",
    "In this step  \n",
    "`map(x -> 2*(x-minimum(x))/(maximum(x)-minimum(x)) - 1, _ )` might be tempting.\n",
    "Nonetheless, this approach will fail for the same reason as an example with broadcasting too many elements discussed [here](caveats-on-at-dot).\n",
    "```\n",
    "\n"
   ]
  },
  {
   "cell_type": "code",
   "execution_count": 20,
   "metadata": {},
   "outputs": [
    {
     "data": {
      "text/plain": [
       "73-element Vector{Float64}:\n",
       " -1.0\n",
       " -0.997400822843119\n",
       " -0.9946631533874347\n",
       " -0.991779612329548\n",
       " -0.9887424271736653\n",
       " -0.9855434112810757\n",
       " -0.9821739418033194\n",
       " -0.9786249364395666\n",
       " -0.974886828955556\n",
       " -0.970949543398106\n",
       "  ⋮\n",
       "  0.303710553463338\n",
       "  0.3757755117600219\n",
       "  0.45168031672174114\n",
       "  0.5316295674041167\n",
       "  0.6158387645412016\n",
       "  0.7045348914210461\n",
       "  0.7979570257121329\n",
       "  0.896356983889848\n",
       "  1.0"
      ]
     },
     "metadata": {},
     "output_type": "display_data"
    }
   ],
   "source": [
    "@pipe [1 42]|> \n",
    "            [log(_[1]) log(_[2])] |> \n",
    "range(_[1], stop=_[2], length=73) |> \n",
    "                          collect |> \n",
    "                           exp.(_)|>\n",
    "map(x -> 2*(x-minimum(_))/(maximum(_)-minimum(_)) - 1, _ )"
   ]
  },
  {
   "cell_type": "markdown",
   "metadata": {},
   "source": [
    "Without pipes, a more Matlabian code will look like this:"
   ]
  },
  {
   "cell_type": "code",
   "execution_count": 23,
   "metadata": {},
   "outputs": [
    {
     "data": {
      "text/plain": [
       "73-element Vector{Float64}:\n",
       " -1.0\n",
       " -0.997400822843119\n",
       " -0.9946631533874347\n",
       " -0.991779612329548\n",
       " -0.9887424271736653\n",
       " -0.9855434112810757\n",
       " -0.9821739418033194\n",
       " -0.9786249364395666\n",
       " -0.974886828955556\n",
       " -0.970949543398106\n",
       "  ⋮\n",
       "  0.303710553463338\n",
       "  0.3757755117600219\n",
       "  0.45168031672174114\n",
       "  0.5316295674041167\n",
       "  0.6158387645412016\n",
       "  0.7045348914210461\n",
       "  0.7979570257121329\n",
       "  0.896356983889848\n",
       "  1.0"
      ]
     },
     "metadata": {},
     "output_type": "display_data"
    }
   ],
   "source": [
    "x₁ = 1\n",
    "xₙ = 42\n",
    "\n",
    "y_aux   = exp.( collect( range(log(x₁), stop=log(xₙ), length=73) ) )\n",
    "y_proc  = 2*(y_aux .- minimum(y_aux))./(maximum(y_aux).-minimum(y_aux)) .- 1\n",
    "\n",
    "y_aux = nothing\n",
    "x₁    = nothing\n",
    "xₙ    = nothing"
   ]
  },
  {
   "cell_type": "markdown",
   "metadata": {},
   "source": [
    "Now suppose that you want to create an equispaced grid instead, which still standardized to the interval of $[-1, 1].$ \n",
    "Using the `Matlab`-style syntax it would require manual modifications in `range` (elimination of logs in `log(x₁)` and  `log(xₙ)`) and getting rid of `exp.`. \n"
   ]
  },
  {
   "cell_type": "code",
   "execution_count": 24,
   "metadata": {},
   "outputs": [],
   "source": [
    "x₁ = 1\n",
    "xₙ = 42\n",
    "\n",
    "y_aux   = ( collect( range((x₁), stop=(xₙ), length=73) ) )\n",
    "y_proc  = 2*(y_aux .- minimum(y_aux))./(maximum(y_aux).-minimum(y_aux)) .- 1\n",
    "\n",
    "y_aux = nothing\n",
    "x₁    = nothing\n",
    "xₙ    = nothing"
   ]
  },
  {
   "cell_type": "markdown",
   "metadata": {},
   "source": [
    "On the other hand, using pipes, we would need to comment two lines:"
   ]
  },
  {
   "cell_type": "code",
   "execution_count": 25,
   "metadata": {},
   "outputs": [
    {
     "data": {
      "text/plain": [
       "73-element Vector{Float64}:\n",
       " -1.0\n",
       " -0.9722222222222222\n",
       " -0.9444444444444444\n",
       " -0.9166666666666666\n",
       " -0.8888888888888888\n",
       " -0.8611111111111112\n",
       " -0.8333333333333333\n",
       " -0.8055555555555556\n",
       " -0.7777777777777778\n",
       " -0.75\n",
       "  ⋮\n",
       "  0.7777777777777777\n",
       "  0.8055555555555554\n",
       "  0.8333333333333335\n",
       "  0.8611111111111112\n",
       "  0.8888888888888888\n",
       "  0.9166666666666665\n",
       "  0.9444444444444446\n",
       "  0.9722222222222223\n",
       "  1.0"
      ]
     },
     "metadata": {},
     "output_type": "display_data"
    }
   ],
   "source": [
    "@pipe [1 42]|> \n",
    "            # [log(_[1]) log(_[2])] |> \n",
    "range(_[1], stop=_[2], length=73) |> \n",
    "                          collect |> \n",
    "                        #    exp.(_)|>\n",
    "map(x -> 2*(x-minimum(_))/(maximum(_)-minimum(_)) - 1, _ )"
   ]
  },
  {
   "cell_type": "markdown",
   "metadata": {},
   "source": [
    "```{note}\n",
    "In my opinion, using pipes during an exploratory analysis of our models is less prone to some coding errors than the other approach.\n",
    "Nonetheless, some of my friends from the private sector criticize overusage of pipes.\n",
    "According to them, such codes are harder to be deployed to production and tougher to monitor its execution.\n",
    "However, in my opinion, in contrast to the industry where codes are run many times, in the academia most of the time it is enough to run the correct code once.\n",
    "```"
   ]
  },
  {
   "cell_type": "markdown",
   "metadata": {},
   "source": [
    "A very quick concluding  example. \n",
    "We can also use pipes on dictionaries.\n",
    "The problem discussed [here](polyn_eval) can be addressed with pipes too.\n",
    "It is not the nicest solution, but it exemplifies using pipes on dictionaries:\n"
   ]
  },
  {
   "cell_type": "code",
   "execution_count": 5,
   "metadata": {},
   "outputs": [],
   "source": [
    "equation  = Dict([\n",
    "                    (\"x\" , collect(range(1, step=.1, length=100)) ),\n",
    "                    (\"a\", 1),\n",
    "                    (\"b\", 12),\n",
    "                    (\"c\", π)\n",
    "                ])\n",
    "\n",
    "equation[\"y\"] = @pipe equation |>  @. _[\"a\"]*_[\"x\"]^2 + _[\"b\"]*_[\"x\"] + _[\"c\"];"
   ]
  }
 ],
 "metadata": {
  "interpreter": {
   "hash": "9a19e725c71bd9807afd10fcb005f46d6e251154a300764c3ce9e7e72379846b"
  },
  "kernelspec": {
   "display_name": "Julia 1.6.0",
   "language": "julia",
   "name": "julia-1.6"
  },
  "language_info": {
   "file_extension": ".jl",
   "mimetype": "application/julia",
   "name": "julia",
   "version": "1.6.0"
  },
  "orig_nbformat": 4
 },
 "nbformat": 4,
 "nbformat_minor": 2
}
