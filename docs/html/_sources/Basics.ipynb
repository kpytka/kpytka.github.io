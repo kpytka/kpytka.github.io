{
 "cells": [
  {
   "cell_type": "markdown",
   "metadata": {},
   "source": [
    "# Essentials\n",
    "\n",
    "\n",
    "In this part of the script I am going to go through some "
   ]
  },
  {
   "cell_type": "markdown",
   "metadata": {},
   "source": [
    "## Numeric types\n",
    "\n",
    "\n",
    "First, let's focus on different and most basic (and useful for daily use) numerical types of objects in `Julia`.\n",
    "\n",
    "\n",
    "| Type|Desc. |Smallest number|Largest number|\n",
    "|-|-|-|-|\n",
    "|`Int8` | signed integers   |$-2^7$| $2^7-1$|\n",
    "|`UInt8`| unsigned integers (_read:_ natural numbers)| $0$ | $2^8$|\n",
    "|`Int16` | signed integers   |$-2^{15}$| $2^{15}-1$|\n",
    "|`UInt16`| unsigned integers (_read:_ natural numbers)| $0$ | $2^{16}$|\n",
    "|`Int64` | signed integers   |$-2^{63}$| $2^{63}-1$|\n",
    "|`UInt64`| unsigned integers (_read:_ natural numbers)| $0$ | $2^{64}$|\n",
    "\n",
    "There is also an alias `Int` for integers with the default number of bits for your architecture (32 or 64).\n"
   ]
  },
  {
   "cell_type": "code",
   "execution_count": 27,
   "metadata": {},
   "outputs": [
    {
     "data": {
      "text/plain": [
       "1"
      ]
     },
     "execution_count": 27,
     "metadata": {},
     "output_type": "execute_result"
    }
   ],
   "source": [
    "x = 1"
   ]
  },
  {
   "cell_type": "code",
   "execution_count": null,
   "metadata": {},
   "outputs": [],
   "source": []
  },
  {
   "cell_type": "markdown",
   "metadata": {},
   "source": [
    "```{margin}\n",
    "\n",
    "For quiet execution of line `x = 1`, we should add `;` at the end of the line. \n",
    "This way the assignment will be made without printing the result.\n",
    "\n",
    "```"
   ]
  },
  {
   "cell_type": "code",
   "execution_count": 28,
   "metadata": {},
   "outputs": [
    {
     "data": {
      "text/plain": [
       "Int64"
      ]
     },
     "execution_count": 28,
     "metadata": {},
     "output_type": "execute_result"
    }
   ],
   "source": [
    "typeof(x)"
   ]
  },
  {
   "cell_type": "markdown",
   "metadata": {},
   "source": [
    "We can explicitly force `Julia` to set the precision of our integers:\n",
    "\n",
    "````{margin}\n",
    "```{note}\n",
    "In `Julia` we can use special unicode characters for naming objects, like `α`  or even `αₖʲ`. In VS Code, to get `α` you have to type `\\alpha` and press `tab`. `αₖʲ` can be obtained by typing combination `\\alpha`, `tab`, `\\_k`, `tab`, `\\^j`, `tab`.\n",
    "```\n",
    "````"
   ]
  },
  {
   "cell_type": "code",
   "execution_count": 86,
   "metadata": {},
   "outputs": [
    {
     "data": {
      "text/plain": [
       "2"
      ]
     },
     "execution_count": 86,
     "metadata": {},
     "output_type": "execute_result"
    }
   ],
   "source": [
    "α = Int8(2)\n"
   ]
  },
  {
   "cell_type": "code",
   "execution_count": 44,
   "metadata": {},
   "outputs": [
    {
     "data": {
      "text/plain": [
       "127"
      ]
     },
     "execution_count": 44,
     "metadata": {},
     "output_type": "execute_result"
    }
   ],
   "source": [
    "Int8(2^7-1)"
   ]
  },
  {
   "cell_type": "markdown",
   "metadata": {},
   "source": [
    "However, we have to remember about the ranges of used types:"
   ]
  },
  {
   "cell_type": "code",
   "execution_count": 41,
   "metadata": {},
   "outputs": [
    {
     "ename": "LoadError",
     "evalue": "InexactError: trunc(Int8, 256)",
     "output_type": "error",
     "traceback": [
      "InexactError: trunc(Int8, 256)",
      "",
      "Stacktrace:",
      " [1] throw_inexacterror(f::Symbol, #unused#::Type{Int8}, val::Int64)",
      "   @ Core ./boot.jl:602",
      " [2] checked_trunc_sint",
      "   @ ./boot.jl:624 [inlined]",
      " [3] toInt8",
      "   @ ./boot.jl:639 [inlined]",
      " [4] Int8(x::Int64)",
      "   @ Core ./boot.jl:749",
      " [5] top-level scope",
      "   @ In[41]:1",
      " [6] eval",
      "   @ ./boot.jl:360 [inlined]",
      " [7] include_string(mapexpr::typeof(REPL.softscope), mod::Module, code::String, filename::String)",
      "   @ Base ./loading.jl:1094"
     ]
    }
   ],
   "source": [
    "Int8(2^8) #Error message"
   ]
  },
  {
   "cell_type": "markdown",
   "metadata": {},
   "source": [
    "Unsigned integers are not super useful due to their default hexadecimal notation: "
   ]
  },
  {
   "cell_type": "code",
   "execution_count": 147,
   "metadata": {},
   "outputs": [
    {
     "name": "stdout",
     "output_type": "stream",
     "text": [
      "UInt(1018) = 0x00000000000003fa\n"
     ]
    }
   ],
   "source": [
    "@show UInt(1018);"
   ]
  },
  {
   "cell_type": "markdown",
   "metadata": {},
   "source": [
    "Another type of numbers in `Julia` are floating-point values\n",
    "\n",
    "\n",
    "|Type|Number of bits|\n",
    "|--|--|\n",
    "|`Float16`| 16|\n",
    "|`Float32`| 32|\n",
    "|`Float64`| 64|\n",
    "\n",
    "\n",
    "Similarly to integers, `float` refers to floating-point values with the default number of bits for your architecture (32 or 64).\n",
    "\n",
    "```{margin}\n",
    "Notice the difference in letter capitalization: `float` vs. `Int`!\n",
    "```"
   ]
  },
  {
   "cell_type": "code",
   "execution_count": 48,
   "metadata": {},
   "outputs": [
    {
     "data": {
      "text/plain": [
       "0.2"
      ]
     },
     "execution_count": 48,
     "metadata": {},
     "output_type": "execute_result"
    }
   ],
   "source": [
    "w = .2"
   ]
  },
  {
   "cell_type": "code",
   "execution_count": 49,
   "metadata": {},
   "outputs": [
    {
     "data": {
      "text/plain": [
       "Float64"
      ]
     },
     "execution_count": 49,
     "metadata": {},
     "output_type": "execute_result"
    }
   ],
   "source": [
    "typeof(w)"
   ]
  },
  {
   "cell_type": "markdown",
   "metadata": {},
   "source": [
    "## Basic arithmetic operations"
   ]
  },
  {
   "cell_type": "markdown",
   "metadata": {},
   "source": [
    "On the surface, arithmetic operations (`+`, `-`, `*`, `/`) in `Julia` are very similar to the ones known from such languages as `Matlab`:\n"
   ]
  },
  {
   "cell_type": "code",
   "execution_count": 64,
   "metadata": {},
   "outputs": [
    {
     "data": {
      "text/plain": [
       "3"
      ]
     },
     "execution_count": 64,
     "metadata": {},
     "output_type": "execute_result"
    }
   ],
   "source": [
    "x = 1\n",
    "y = 2\n",
    "x + y\n"
   ]
  },
  {
   "cell_type": "markdown",
   "metadata": {},
   "source": [
    "For presenting results of the operation macro `@show` can be quite useful:"
   ]
  },
  {
   "cell_type": "code",
   "execution_count": 65,
   "metadata": {},
   "outputs": [
    {
     "name": "stdout",
     "output_type": "stream",
     "text": [
      "x + y + 0.2 = 3.2\n"
     ]
    },
    {
     "data": {
      "text/plain": [
       "3.2"
      ]
     },
     "execution_count": 65,
     "metadata": {},
     "output_type": "execute_result"
    }
   ],
   "source": [
    "x = 1\n",
    "y = 2\n",
    "@show x + y + .2\n"
   ]
  },
  {
   "cell_type": "markdown",
   "metadata": {},
   "source": [
    "If we combine two different numeric types, `Julia` will try to coerce the less general object to more general one: "
   ]
  },
  {
   "cell_type": "code",
   "execution_count": 75,
   "metadata": {},
   "outputs": [
    {
     "name": "stdout",
     "output_type": "stream",
     "text": [
      "z = x + y = 42.964\n"
     ]
    },
    {
     "data": {
      "text/plain": [
       "Float64"
      ]
     },
     "execution_count": 75,
     "metadata": {},
     "output_type": "execute_result"
    }
   ],
   "source": [
    "x = Int(42)\n",
    "y = float(.964)\n",
    "@show z = x+y\n",
    "\n",
    "typeof(z)"
   ]
  },
  {
   "cell_type": "markdown",
   "metadata": {},
   "source": [
    "You can use also `Lisp`-like syntax (which we find in `R` as well. Sometimes this can be very useful, and other times, it can be quite [scary](https://twitter.com/mjskay/status/1454952248937783304)):"
   ]
  },
  {
   "cell_type": "code",
   "execution_count": 78,
   "metadata": {},
   "outputs": [
    {
     "data": {
      "text/plain": [
       "42.964"
      ]
     },
     "execution_count": 78,
     "metadata": {},
     "output_type": "execute_result"
    }
   ],
   "source": [
    "+(x, y)"
   ]
  },
  {
   "cell_type": "code",
   "execution_count": 83,
   "metadata": {},
   "outputs": [
    {
     "name": "stdout",
     "output_type": "stream",
     "text": [
      "(3 * (1 + 2)) ^ 5 = 59049\n"
     ]
    },
    {
     "data": {
      "text/plain": [
       "59049"
      ]
     },
     "execution_count": 83,
     "metadata": {},
     "output_type": "execute_result"
    }
   ],
   "source": [
    "@show  ^(*( 3, +(1, 2) ), 5)"
   ]
  },
  {
   "cell_type": "markdown",
   "metadata": {},
   "source": [
    "There are several ways to divide numbers. \n",
    "The most natural one is by using `/`:"
   ]
  },
  {
   "cell_type": "code",
   "execution_count": 93,
   "metadata": {},
   "outputs": [
    {
     "name": "stdout",
     "output_type": "stream",
     "text": [
      "1 / 2 = 0.5\n"
     ]
    },
    {
     "data": {
      "text/plain": [
       "0.5"
      ]
     },
     "execution_count": 93,
     "metadata": {},
     "output_type": "execute_result"
    }
   ],
   "source": [
    "@show 1/2 "
   ]
  },
  {
   "cell_type": "markdown",
   "metadata": {},
   "source": [
    "If for some reason, we want to use common fractions instead of decimals, then we have to use `//` instead:"
   ]
  },
  {
   "cell_type": "code",
   "execution_count": 94,
   "metadata": {},
   "outputs": [
    {
     "data": {
      "text/plain": [
       "1//2"
      ]
     },
     "execution_count": 94,
     "metadata": {},
     "output_type": "execute_result"
    }
   ],
   "source": [
    "1//2"
   ]
  },
  {
   "cell_type": "code",
   "execution_count": null,
   "metadata": {},
   "outputs": [],
   "source": [
    "Within common fractions, we can perform arithmetic operations:\n"
   ]
  },
  {
   "cell_type": "code",
   "execution_count": 107,
   "metadata": {},
   "outputs": [
    {
     "name": "stdout",
     "output_type": "stream",
     "text": [
      "1 // 2 + 1 // 3 = 5//6\n"
     ]
    }
   ],
   "source": [
    "@show 1//2+1//3;\n"
   ]
  },
  {
   "cell_type": "code",
   "execution_count": 113,
   "metadata": {},
   "outputs": [
    {
     "name": "stdout",
     "output_type": "stream",
     "text": [
      "(1 // 2) ^ 10 = 1//1024\n"
     ]
    }
   ],
   "source": [
    "@show (1//2)^10;"
   ]
  },
  {
   "cell_type": "markdown",
   "metadata": {},
   "source": [
    "But due to coercion in operations over different types, we might lose it:"
   ]
  },
  {
   "cell_type": "code",
   "execution_count": 101,
   "metadata": {},
   "outputs": [
    {
     "name": "stdout",
     "output_type": "stream",
     "text": [
      "1 // 2 + 0.25 = 0.75\n",
      "1 // 2 + π = 3.641592653589793\n"
     ]
    }
   ],
   "source": [
    "@show 1//2 + .25;\n",
    "@show 1//2 + π;"
   ]
  },
  {
   "cell_type": "markdown",
   "metadata": {},
   "source": [
    "We perform integer division by using `div` or `÷` (to get this symbol type `\\div` and `tab`):"
   ]
  },
  {
   "cell_type": "code",
   "execution_count": 105,
   "metadata": {},
   "outputs": [
    {
     "name": "stdout",
     "output_type": "stream",
     "text": [
      "div(5, 3) = 1\n",
      "5 ÷ 3 = 1\n",
      "5 ÷ 3 = 1\n"
     ]
    }
   ],
   "source": [
    "@show div(5,3);\n",
    "@show   ÷(5,3);\n",
    "@show     5÷3;"
   ]
  },
  {
   "cell_type": "markdown",
   "metadata": {},
   "source": [
    "We get remainder by using `rem` or `%`:"
   ]
  },
  {
   "cell_type": "code",
   "execution_count": 114,
   "metadata": {},
   "outputs": [
    {
     "name": "stdout",
     "output_type": "stream",
     "text": [
      "rem(5, 3) = 2\n",
      "5 % 3 = 2\n",
      "5 % 3 = 2\n"
     ]
    }
   ],
   "source": [
    "@show rem(5,3);\n",
    "@show   %(5,3);\n",
    "@show     5%3;"
   ]
  },
  {
   "cell_type": "markdown",
   "metadata": {},
   "source": [
    "## Data structures\n",
    "\n",
    "\n"
   ]
  },
  {
   "cell_type": "markdown",
   "metadata": {},
   "source": [
    "(arrays)=\n",
    "### Arrays\n",
    "\n",
    "Arrays are one of the most important data structures for economists. They are equivalent of vectors and matrices in `Matlab` or `R`. \n",
    "Arrays are multi-dimensional objects containing numbers (or different objects).\n"
   ]
  },
  {
   "cell_type": "markdown",
   "metadata": {},
   "source": [
    "A vector is a one-dimensional array. To get a row vector you use the following convention:"
   ]
  },
  {
   "cell_type": "code",
   "execution_count": 115,
   "metadata": {},
   "outputs": [
    {
     "data": {
      "text/plain": [
       "1×3 Matrix{Int64}:\n",
       " 1  2  3"
      ]
     },
     "execution_count": 115,
     "metadata": {},
     "output_type": "execute_result"
    }
   ],
   "source": [
    "A = [1 2 3]"
   ]
  },
  {
   "cell_type": "markdown",
   "metadata": {},
   "source": [
    "You get column vectors by using `;` as the separator of elements:"
   ]
  },
  {
   "cell_type": "code",
   "execution_count": 116,
   "metadata": {},
   "outputs": [
    {
     "data": {
      "text/plain": [
       "3-element Vector{Int64}:\n",
       " 1\n",
       " 2\n",
       " 3"
      ]
     },
     "execution_count": 116,
     "metadata": {},
     "output_type": "execute_result"
    }
   ],
   "source": [
    "B = [1; 2; 3]"
   ]
  },
  {
   "cell_type": "markdown",
   "metadata": {},
   "source": [
    "All elements of arrays must be of the same type. In case of type incompatibility across elements, coercion is performed:"
   ]
  },
  {
   "cell_type": "code",
   "execution_count": 125,
   "metadata": {},
   "outputs": [
    {
     "name": "stdout",
     "output_type": "stream",
     "text": [
      "c = [1 π 2.3] = [1.0 3.141592653589793 2.3]\n",
      "typeof(c) = Matrix{Float64}\n"
     ]
    },
    {
     "data": {
      "text/plain": [
       "Matrix{Float64} (alias for Array{Float64, 2})"
      ]
     },
     "execution_count": 125,
     "metadata": {},
     "output_type": "execute_result"
    }
   ],
   "source": [
    "@show c = [1 π 2.3]\n",
    "\n",
    "@show typeof(c) #It's Float64 despite the first element being an integer."
   ]
  },
  {
   "cell_type": "code",
   "execution_count": 126,
   "metadata": {},
   "outputs": [
    {
     "data": {
      "text/plain": [
       "2×3 Matrix{Int64}:\n",
       " 1  2  3\n",
       " 3  4  5"
      ]
     },
     "execution_count": 126,
     "metadata": {},
     "output_type": "execute_result"
    }
   ],
   "source": [
    "X = [1 2 3;\n",
    "     3 4 5]"
   ]
  },
  {
   "cell_type": "markdown",
   "metadata": {},
   "source": [
    "It is a good practice to initialize arrays before assigning values to their elements.\n",
    "To create an empty one-dimensional array with `K` elements of type `TYPE` \n",
    "you use `Array{TYPE}(undef, K)`.\n",
    "Below an illustrating example:"
   ]
  },
  {
   "cell_type": "code",
   "execution_count": 135,
   "metadata": {},
   "outputs": [
    {
     "data": {
      "text/plain": [
       "10-element Vector{Float64}:\n",
       " 2.2870031e-314\n",
       " 2.305650118e-314\n",
       " 2.287003298e-314\n",
       " 2.287003377e-314\n",
       " 2.2870034164e-314\n",
       " 2.287003456e-314\n",
       " 2.3056506396e-314\n",
       " 2.287003535e-314\n",
       " 2.2870032583e-314\n",
       " 2.3376373433e-314"
      ]
     },
     "execution_count": 135,
     "metadata": {},
     "output_type": "execute_result"
    }
   ],
   "source": [
    "Array{Float64}(undef, 10)"
   ]
  },
  {
   "cell_type": "markdown",
   "metadata": {},
   "source": [
    "Argument `undef` means that nothing particular is assigned to all elements.\n",
    "Instead, existing values stored previously in the memory are assigned."
   ]
  },
  {
   "cell_type": "markdown",
   "metadata": {},
   "source": [
    "To create an array of dimensions $K\\times N\\times S\\times W$ you use\n",
    "`Array{TYPE}(undef, K, N, S, W)`.\n",
    "Below an illustrating example:\n"
   ]
  },
  {
   "cell_type": "code",
   "execution_count": 136,
   "metadata": {},
   "outputs": [
    {
     "data": {
      "text/plain": [
       "2×3×2×2 Array{Int64, 4}:\n",
       "[:, :, 1, 1] =\n",
       " 1  4643474736  2\n",
       " 1  4643474816  4\n",
       "\n",
       "[:, :, 2, 1] =\n",
       " 4643474896  5  4643475056\n",
       " 4643474976  7  4643475136\n",
       "\n",
       "[:, :, 1, 2] =\n",
       " 8  4643475216  10\n",
       " 9  4643475296  11\n",
       "\n",
       "[:, :, 2, 2] =\n",
       " 4643475376  12  4643475536\n",
       " 4643475456  12  4643475616"
      ]
     },
     "execution_count": 136,
     "metadata": {},
     "output_type": "execute_result"
    }
   ],
   "source": [
    "Array{Int}(undef, 2, 3, 2, 2)"
   ]
  },
  {
   "cell_type": "markdown",
   "metadata": {},
   "source": [
    "To get an array with all elements constant, you use command `fill`:"
   ]
  },
  {
   "cell_type": "code",
   "execution_count": 156,
   "metadata": {},
   "outputs": [
    {
     "data": {
      "text/plain": [
       "4×3 Matrix{Float64}:\n",
       " 9.8696  9.8696  9.8696\n",
       " 9.8696  9.8696  9.8696\n",
       " 9.8696  9.8696  9.8696\n",
       " 9.8696  9.8696  9.8696"
      ]
     },
     "execution_count": 156,
     "metadata": {},
     "output_type": "execute_result"
    }
   ],
   "source": [
    "A = fill(π^2, 4, 3)"
   ]
  },
  {
   "cell_type": "markdown",
   "metadata": {},
   "source": [
    "Arrays with zero elements can be constructed with `zeros`:"
   ]
  },
  {
   "cell_type": "code",
   "execution_count": 158,
   "metadata": {},
   "outputs": [
    {
     "data": {
      "text/plain": [
       "3×2 Matrix{Float64}:\n",
       " 0.0  0.0\n",
       " 0.0  0.0\n",
       " 0.0  0.0"
      ]
     },
     "execution_count": 158,
     "metadata": {},
     "output_type": "execute_result"
    }
   ],
   "source": [
    "zeros(3,2)"
   ]
  },
  {
   "cell_type": "markdown",
   "metadata": {},
   "source": [
    "To get an identity square matrix of dimension $K$ function `I` from package `LinearAlgebra` can be used:\n",
    "\n",
    "````{margin}\n",
    "To load package to the memory, you use `using PackageName`. To install packages you use `Pkg` package:\n",
    "    ```\n",
    "    using Pkg; Pkg.add(\"PackageName\")\n",
    "    ```\n",
    "````"
   ]
  },
  {
   "cell_type": "code",
   "execution_count": 162,
   "metadata": {},
   "outputs": [
    {
     "data": {
      "text/plain": [
       "5×5 Diagonal{Bool, Vector{Bool}}:\n",
       " 1  ⋅  ⋅  ⋅  ⋅\n",
       " ⋅  1  ⋅  ⋅  ⋅\n",
       " ⋅  ⋅  1  ⋅  ⋅\n",
       " ⋅  ⋅  ⋅  1  ⋅\n",
       " ⋅  ⋅  ⋅  ⋅  1"
      ]
     },
     "execution_count": 162,
     "metadata": {},
     "output_type": "execute_result"
    }
   ],
   "source": [
    "using LinearAlgebra\n",
    "I(5)"
   ]
  },
  {
   "cell_type": "markdown",
   "metadata": {},
   "source": [
    "```{margin}\n",
    "`I` generates a matrix with boolean elements (with `true` and `false` values) but it can be used normally with arrays of other numeric types thanks to coercion.\n",
    "```"
   ]
  },
  {
   "cell_type": "markdown",
   "metadata": {},
   "source": [
    "Except square bracket notations, accessing arrays in `Julia` is almost one-to-one analogy to `Matlab`:"
   ]
  },
  {
   "cell_type": "code",
   "execution_count": 163,
   "metadata": {},
   "outputs": [
    {
     "data": {
      "text/plain": [
       "2×5 Matrix{Int64}:\n",
       " 1  2  3  4   5\n",
       " 6  7  5  9  12"
      ]
     },
     "execution_count": 163,
     "metadata": {},
     "output_type": "execute_result"
    }
   ],
   "source": [
    "A = [1 2 3 4 5;\n",
    "     6 7 5 9 12]"
   ]
  },
  {
   "cell_type": "code",
   "execution_count": 174,
   "metadata": {},
   "outputs": [
    {
     "data": {
      "text/plain": [
       "(2, 5)"
      ]
     },
     "execution_count": 174,
     "metadata": {},
     "output_type": "execute_result"
    }
   ],
   "source": [
    "size(A)"
   ]
  },
  {
   "cell_type": "code",
   "execution_count": 165,
   "metadata": {},
   "outputs": [
    {
     "data": {
      "text/plain": [
       "5-element Vector{Int64}:\n",
       " 1\n",
       " 2\n",
       " 3\n",
       " 4\n",
       " 5"
      ]
     },
     "execution_count": 165,
     "metadata": {},
     "output_type": "execute_result"
    }
   ],
   "source": [
    "A[1,:] #1st row"
   ]
  },
  {
   "cell_type": "code",
   "execution_count": 166,
   "metadata": {},
   "outputs": [
    {
     "data": {
      "text/plain": [
       "2-element Vector{Int64}:\n",
       " 1\n",
       " 6"
      ]
     },
     "execution_count": 166,
     "metadata": {},
     "output_type": "execute_result"
    }
   ],
   "source": [
    "A[:,1] #1st column"
   ]
  },
  {
   "cell_type": "code",
   "execution_count": 169,
   "metadata": {},
   "outputs": [
    {
     "data": {
      "text/plain": [
       "2×2 Matrix{Int64}:\n",
       " 1  3\n",
       " 6  5"
      ]
     },
     "execution_count": 169,
     "metadata": {},
     "output_type": "execute_result"
    }
   ],
   "source": [
    "A[:,[1,3]] #1st and 3rd column"
   ]
  },
  {
   "cell_type": "code",
   "execution_count": 172,
   "metadata": {},
   "outputs": [
    {
     "data": {
      "text/plain": [
       "2×3 Matrix{Int64}:\n",
       " 3  4   5\n",
       " 5  9  12"
      ]
     },
     "execution_count": 172,
     "metadata": {},
     "output_type": "execute_result"
    }
   ],
   "source": [
    "A[:,3:end] #from 3rd to the last columns"
   ]
  },
  {
   "cell_type": "code",
   "execution_count": 173,
   "metadata": {},
   "outputs": [
    {
     "data": {
      "text/plain": [
       "3-element Vector{Int64}:\n",
       " 3\n",
       " 4\n",
       " 5"
      ]
     },
     "execution_count": 173,
     "metadata": {},
     "output_type": "execute_result"
    }
   ],
   "source": [
    "A[1,3:end] #1st row and from 3rd to the last columns"
   ]
  },
  {
   "cell_type": "markdown",
   "metadata": {},
   "source": [
    "Just like with scalars, arithmetic operations on arrays of _the same dimensions_ work in an analogous way:"
   ]
  },
  {
   "cell_type": "code",
   "execution_count": 217,
   "metadata": {},
   "outputs": [],
   "source": [
    "A = [1 2;3 4];\n",
    "B = I(2);"
   ]
  },
  {
   "cell_type": "code",
   "execution_count": 218,
   "metadata": {},
   "outputs": [
    {
     "data": {
      "text/plain": [
       "2×2 Matrix{Int64}:\n",
       " 2  2\n",
       " 3  5"
      ]
     },
     "execution_count": 218,
     "metadata": {},
     "output_type": "execute_result"
    }
   ],
   "source": [
    "A + B"
   ]
  },
  {
   "cell_type": "code",
   "execution_count": 251,
   "metadata": {},
   "outputs": [
    {
     "data": {
      "text/plain": [
       "2×2 Matrix{Int64}:\n",
       "  7  10\n",
       " 15  22"
      ]
     },
     "execution_count": 251,
     "metadata": {},
     "output_type": "execute_result"
    }
   ],
   "source": [
    "A*A"
   ]
  },
  {
   "cell_type": "code",
   "execution_count": 260,
   "metadata": {},
   "outputs": [
    {
     "data": {
      "text/plain": [
       "2×2 Matrix{Int64}:\n",
       " 1  2\n",
       " 3  4"
      ]
     },
     "execution_count": 260,
     "metadata": {},
     "output_type": "execute_result"
    }
   ],
   "source": [
    "A"
   ]
  },
  {
   "cell_type": "code",
   "execution_count": 259,
   "metadata": {},
   "outputs": [
    {
     "data": {
      "text/plain": [
       "2×2 adjoint(::Matrix{Int64}) with eltype Int64:\n",
       " 1  3\n",
       " 2  4"
      ]
     },
     "execution_count": 259,
     "metadata": {},
     "output_type": "execute_result"
    }
   ],
   "source": [
    "A' #transposition"
   ]
  },
  {
   "cell_type": "code",
   "execution_count": 258,
   "metadata": {},
   "outputs": [
    {
     "data": {
      "text/plain": [
       "2×2 Matrix{Float64}:\n",
       " -2.0   1.0\n",
       "  1.5  -0.5"
      ]
     },
     "execution_count": 258,
     "metadata": {},
     "output_type": "execute_result"
    }
   ],
   "source": [
    "A^(-1) #invert matrix"
   ]
  },
  {
   "cell_type": "code",
   "execution_count": 257,
   "metadata": {},
   "outputs": [
    {
     "data": {
      "text/plain": [
       "2×2 Matrix{Float64}:\n",
       " 1.0          0.0\n",
       " 2.22045e-16  1.0"
      ]
     },
     "execution_count": 257,
     "metadata": {},
     "output_type": "execute_result"
    }
   ],
   "source": [
    "A^(-1)*A #in fact, it works"
   ]
  },
  {
   "cell_type": "markdown",
   "metadata": {},
   "source": [
    "Nonetheless, if we try to add an object of different dimensions (including scalars),\n",
    "we will get an error message, just like in an example below:"
   ]
  },
  {
   "cell_type": "code",
   "execution_count": 219,
   "metadata": {},
   "outputs": [
    {
     "ename": "LoadError",
     "evalue": "MethodError: no method matching +(::Matrix{Int64}, ::Int64)\nFor element-wise addition, use broadcasting with dot syntax: array .+ scalar\n\u001b[0mClosest candidates are:\n\u001b[0m  +(::Any, ::Any, \u001b[91m::Any\u001b[39m, \u001b[91m::Any...\u001b[39m) at operators.jl:560\n\u001b[0m  +(\u001b[91m::T\u001b[39m, ::T) where T<:Union{Int128, Int16, Int32, Int64, Int8, UInt128, UInt16, UInt32, UInt64, UInt8} at int.jl:87\n\u001b[0m  +(\u001b[91m::Rational\u001b[39m, ::Integer) at rational.jl:288\n\u001b[0m  ...",
     "output_type": "error",
     "traceback": [
      "MethodError: no method matching +(::Matrix{Int64}, ::Int64)\nFor element-wise addition, use broadcasting with dot syntax: array .+ scalar\n\u001b[0mClosest candidates are:\n\u001b[0m  +(::Any, ::Any, \u001b[91m::Any\u001b[39m, \u001b[91m::Any...\u001b[39m) at operators.jl:560\n\u001b[0m  +(\u001b[91m::T\u001b[39m, ::T) where T<:Union{Int128, Int16, Int32, Int64, Int8, UInt128, UInt16, UInt32, UInt64, UInt8} at int.jl:87\n\u001b[0m  +(\u001b[91m::Rational\u001b[39m, ::Integer) at rational.jl:288\n\u001b[0m  ...",
      "",
      "Stacktrace:",
      " [1] top-level scope",
      "   @ In[219]:1",
      " [2] eval",
      "   @ ./boot.jl:360 [inlined]",
      " [3] include_string(mapexpr::typeof(REPL.softscope), mod::Module, code::String, filename::String)",
      "   @ Base ./loading.jl:1094"
     ]
    }
   ],
   "source": [
    "A + 1"
   ]
  },
  {
   "cell_type": "markdown",
   "metadata": {},
   "source": [
    "This can be perceived as a particularly bizzare and excessively formal thing. \n",
    "That said, at the development stage there were reasons for this.\n",
    "Furthermore, notice that in Mathematics this type of operations, $\\mathbb{A}+1$, in most cases is also forbidden.\n",
    "One (extremely inefficient but didactically useful) solution to this problem is to increase the size of the smaller object by using `repeat`.\n",
    "This function constructs an array by repeating the input _array_ a given number of times in each out of the provided dimension.\n",
    "\n",
    "Thus, to compute $\\mathbb{A}+1,$ we have to increase the size of $1$ in such a way that the new object fits the size of $\\mathbb{A}$.\n",
    "As we remember the size of $\\mathbb{A}$ is $2\\times 2.$\n",
    "Just to double check, let's use function `size`."
   ]
  },
  {
   "cell_type": "code",
   "execution_count": 399,
   "metadata": {},
   "outputs": [
    {
     "data": {
      "text/plain": [
       "(2, 2)"
      ]
     },
     "execution_count": 399,
     "metadata": {},
     "output_type": "execute_result"
    }
   ],
   "source": [
    "size(A)"
   ]
  },
  {
   "cell_type": "markdown",
   "metadata": {},
   "source": [
    "```{margin}\n",
    "The first argument of `repeat` is the input array (note that we need to write the array form `[1]` fort this reason that a scalar object `1` is not accepted by the function), next arguments are how many times in each dimension the object should be repeated.\n",
    "```"
   ]
  },
  {
   "cell_type": "code",
   "execution_count": null,
   "metadata": {},
   "outputs": [],
   "source": [
    "Below you can find `repeat` at play:"
   ]
  },
  {
   "cell_type": "code",
   "execution_count": 403,
   "metadata": {},
   "outputs": [
    {
     "data": {
      "text/plain": [
       "3-element Vector{Int64}:\n",
       " 1\n",
       " 1\n",
       " 1"
      ]
     },
     "execution_count": 403,
     "metadata": {},
     "output_type": "execute_result"
    }
   ],
   "source": [
    "repeat([1], 3)"
   ]
  },
  {
   "cell_type": "code",
   "execution_count": 404,
   "metadata": {},
   "outputs": [
    {
     "data": {
      "text/plain": [
       "3×2 Matrix{Int64}:\n",
       " 1  1\n",
       " 1  1\n",
       " 1  1"
      ]
     },
     "execution_count": 404,
     "metadata": {},
     "output_type": "execute_result"
    }
   ],
   "source": [
    "repeat([1], 3, 2)"
   ]
  },
  {
   "cell_type": "code",
   "execution_count": 405,
   "metadata": {},
   "outputs": [
    {
     "data": {
      "text/plain": [
       "4×3×2 Array{Int64, 3}:\n",
       "[:, :, 1] =\n",
       " 1  1  1\n",
       " 1  1  1\n",
       " 1  1  1\n",
       " 1  1  1\n",
       "\n",
       "[:, :, 2] =\n",
       " 1  1  1\n",
       " 1  1  1\n",
       " 1  1  1\n",
       " 1  1  1"
      ]
     },
     "execution_count": 405,
     "metadata": {},
     "output_type": "execute_result"
    }
   ],
   "source": [
    "repeat([1], 4, 3, 2)"
   ]
  },
  {
   "cell_type": "code",
   "execution_count": 410,
   "metadata": {},
   "outputs": [
    {
     "data": {
      "text/plain": [
       "4×3 Matrix{Int64}:\n",
       " 1  1  1\n",
       " 2  2  2\n",
       " 1  1  1\n",
       " 2  2  2"
      ]
     },
     "execution_count": 410,
     "metadata": {},
     "output_type": "execute_result"
    }
   ],
   "source": [
    "repeat([1; 2], 2, 3) #input argument: column vector"
   ]
  },
  {
   "cell_type": "code",
   "execution_count": 408,
   "metadata": {},
   "outputs": [
    {
     "data": {
      "text/plain": [
       "2×6 Matrix{Int64}:\n",
       " 1  2  1  2  1  2\n",
       " 1  2  1  2  1  2"
      ]
     },
     "execution_count": 408,
     "metadata": {},
     "output_type": "execute_result"
    }
   ],
   "source": [
    "repeat([1 2], 2, 3) #input argument: row vector"
   ]
  },
  {
   "cell_type": "markdown",
   "metadata": {},
   "source": [
    "Consequently, we are in the position to compute $\\mathbb{A}+1:$"
   ]
  },
  {
   "cell_type": "code",
   "execution_count": 411,
   "metadata": {},
   "outputs": [
    {
     "data": {
      "text/plain": [
       "2×2 Matrix{Int64}:\n",
       " 2  3\n",
       " 4  5"
      ]
     },
     "execution_count": 411,
     "metadata": {},
     "output_type": "execute_result"
    }
   ],
   "source": [
    "A + repeat([1], 2, 2)"
   ]
  },
  {
   "cell_type": "markdown",
   "metadata": {},
   "source": [
    "An addition of two arrays of different sizes can be conducted analogously:"
   ]
  },
  {
   "cell_type": "code",
   "execution_count": 414,
   "metadata": {},
   "outputs": [
    {
     "data": {
      "text/plain": [
       "2×2 Matrix{Int64}:\n",
       " 1  2\n",
       " 4  5"
      ]
     },
     "execution_count": 414,
     "metadata": {},
     "output_type": "execute_result"
    }
   ],
   "source": [
    "A + repeat([0; 1], 1, 2)"
   ]
  },
  {
   "cell_type": "markdown",
   "metadata": {},
   "source": [
    ":::{note}\n",
    "That being said, by no means use this approach in your daily use.\n",
    "A _much more recommended_ and **efficient** way to operate on objects of different sizes is to use broadcasting or mapping.\n",
    "I discuss it in more details in [one of the further secions](broadcasting).\n",
    ":::"
   ]
  },
  {
   "cell_type": "markdown",
   "metadata": {},
   "source": [
    "#### Assignment operator (`=`) and arrays: easy for Pythonistas, confusing for Matlabians"
   ]
  },
  {
   "cell_type": "markdown",
   "metadata": {},
   "source": [
    "What can be quite confusing at first for people with the `Matlab` background is how the assignment operator (`=`) works with arrays in `Julia`. \n",
    "In `Matlab` if we want to create a matrix `V1` that is a copy of another matrix `V0` it is enough to write:\n",
    "\n",
    "```\n",
    "    V1=V0\n",
    "```\n",
    "\n",
    "Henceforth, there are two _separate_ matrices in the memory, `V1` and `V0`. \n",
    "Any changes in either of those will not affect the other one.\n",
    "In `Julia` this works in a very different way. \n",
    "Exactly like in `Python`, running `V1=V0` will create a new _pointer_ to the memory allocated for `V0`. \n",
    "Both objects, `V1` and `V0`, share the same information.\n",
    "Consequently, any changes in the memory through accessing `V1` will affect the data pointed by `V0`, and vice versa.\n",
    "Below you can find an illustration of this language feature."
   ]
  },
  {
   "cell_type": "code",
   "execution_count": 199,
   "metadata": {},
   "outputs": [
    {
     "name": "stdout",
     "output_type": "stream",
     "text": [
      "V₀ = [1 2 3] = [1 2 3]\n"
     ]
    }
   ],
   "source": [
    "@show V₀ = [1 2 3];"
   ]
  },
  {
   "cell_type": "code",
   "execution_count": 201,
   "metadata": {},
   "outputs": [
    {
     "name": "stdout",
     "output_type": "stream",
     "text": [
      "V₁ = V₀ = [1 2 3]\n"
     ]
    }
   ],
   "source": [
    "@show V₁ = V₀;\n"
   ]
  },
  {
   "cell_type": "markdown",
   "metadata": {},
   "source": [
    "Running `V₁ = V₀` will create a new pointer to the memory associated with `V₀`.\n",
    "Now changes in either of those objects will affect both pointers:"
   ]
  },
  {
   "cell_type": "code",
   "execution_count": 203,
   "metadata": {},
   "outputs": [
    {
     "name": "stdout",
     "output_type": "stream",
     "text": [
      "V₁[1] = 420 = 420\n",
      "V₁ = [420 2 128]\n",
      "V₀ = [420 2 128]\n",
      "V₀[3] = 128 = 128\n",
      "V₁ = [420 2 128]\n",
      "V₀ = [420 2 128]\n"
     ]
    }
   ],
   "source": [
    "@show V₁[1] = 420;\n",
    "@show V₁;\n",
    "@show V₀;\n",
    "\n",
    "@show V₀[3] = 128;\n",
    "@show V₁;\n",
    "@show V₀;"
   ]
  },
  {
   "cell_type": "markdown",
   "metadata": {},
   "source": [
    "```{margin}\n",
    "_Note to myself:_ explain it using better words.\n",
    "```\n",
    "\n",
    "This feature of `Julia` can be especially confusing in iterative procedures with updating values, such as value function iterations. \n",
    "In this case, trying to create a copy of one array but making rather a new pointer instead will result in meeting the convergence criterion immediately after the first iteration (_terrible sentence_).\n",
    "Obviously, this will not be correct.\n",
    "\n"
   ]
  },
  {
   "cell_type": "markdown",
   "metadata": {},
   "source": [
    "A remedy to this issue can be simply addressed by using `deepcopy`, which creates a _new object in the memory_ that contains the same information as the copied object."
   ]
  },
  {
   "cell_type": "code",
   "execution_count": 205,
   "metadata": {},
   "outputs": [
    {
     "name": "stdout",
     "output_type": "stream",
     "text": [
      "V₀ = [1 2 3] = [1 2 3]\n",
      "V₁ = deepcopy(V₀) = [1 2 3]\n"
     ]
    }
   ],
   "source": [
    "@show V₀ = [1 2 3];\n",
    "@show V₁ = deepcopy(V₀);"
   ]
  },
  {
   "cell_type": "markdown",
   "metadata": {},
   "source": [
    "Now changes in either of those objects _will not_ affect values pointed by the other object:"
   ]
  },
  {
   "cell_type": "code",
   "execution_count": 206,
   "metadata": {},
   "outputs": [
    {
     "name": "stdout",
     "output_type": "stream",
     "text": [
      "V₁[1] = 420 = 420\n",
      "V₁ = [420 2 3]\n",
      "V₀ = [1 2 3]\n",
      "V₀[3] = 128 = 128\n",
      "V₁ = [420 2 3]\n",
      "V₀ = [1 2 128]\n"
     ]
    }
   ],
   "source": [
    "@show V₁[1] = 420;\n",
    "@show V₁;\n",
    "@show V₀;\n",
    "\n",
    "@show V₀[3] = 128;\n",
    "@show V₁;\n",
    "@show V₀;"
   ]
  },
  {
   "cell_type": "markdown",
   "metadata": {},
   "source": [
    "An important thing that should be also stressed is that this feature works only in the presence of assignments without additional operations.\n",
    "If, for instance, code `V₁ = 2*V₀` involves two operations: (1) multiplication `*(2,V₀)`; and (2) making pointer `V₁` to memory containing _results_ from computing `*(2,V₀)` in the past.\n",
    "This means that memory spaces pointed by `V₁` and by `V₀` are two different things."
   ]
  },
  {
   "cell_type": "code",
   "execution_count": 209,
   "metadata": {},
   "outputs": [
    {
     "name": "stdout",
     "output_type": "stream",
     "text": [
      "V₀ = [1 2 3] = [1 2 3]\n",
      "V₁ = 2V₀ = [2 4 6]\n"
     ]
    }
   ],
   "source": [
    "@show V₀ = [1 2 3];\n",
    "@show V₁ = 2*V₀;"
   ]
  },
  {
   "cell_type": "code",
   "execution_count": 208,
   "metadata": {},
   "outputs": [
    {
     "name": "stdout",
     "output_type": "stream",
     "text": [
      "V₁[1] = 420 = 420\n",
      "V₁ = [420 4 6]\n",
      "V₀ = [1 2 3]\n",
      "V₀[3] = 128 = 128\n",
      "V₁ = [420 4 6]\n",
      "V₀ = [1 2 128]\n"
     ]
    }
   ],
   "source": [
    "@show V₁[1] = 420;\n",
    "@show V₁;\n",
    "@show V₀;\n",
    "\n",
    "@show V₀[3] = 128;\n",
    "@show V₁;\n",
    "@show V₀;"
   ]
  },
  {
   "cell_type": "markdown",
   "metadata": {},
   "source": [
    "### Dictionaries\n",
    "\n",
    "\n",
    "Dictionaries are very useful objects that are particularly useful in my daily workflow. \n",
    "They are \n",
    "\n"
   ]
  },
  {
   "cell_type": "markdown",
   "metadata": {},
   "source": [
    "### Ranges\n",
    "\n"
   ]
  },
  {
   "cell_type": "markdown",
   "metadata": {},
   "source": [
    "Ranges are quite intuitive objects.\n",
    "They collect elements from a certain range of values.\n",
    "They can be created either by using `:` operator (just like in `R` and `Matlab`) or by using `range` function.\n",
    "For instance, if we want to create a range from 5 through 120, we can use two options:"
   ]
  },
  {
   "cell_type": "code",
   "execution_count": 282,
   "metadata": {},
   "outputs": [
    {
     "name": "stdout",
     "output_type": "stream",
     "text": [
      "5:120 = 5:120\n",
      "range(5, stop = 120) = 5:120\n"
     ]
    }
   ],
   "source": [
    "@show 5:120;\n",
    "@show range(5, stop=120);"
   ]
  },
  {
   "cell_type": "markdown",
   "metadata": {},
   "source": [
    "Notice that you are not allowed to use `range(5,120)` because at least one of `length`, `stop`, or `step` must be specified explicitely.\n",
    "\n",
    "\n",
    "If we want, we can set the size step. Again, it can be done in two ways:"
   ]
  },
  {
   "cell_type": "code",
   "execution_count": 281,
   "metadata": {},
   "outputs": [
    {
     "name": "stdout",
     "output_type": "stream",
     "text": [
      "5:0.5:120 = 5.0:0.5:120.0\n",
      "range(5, stop = 120, step = 0.5) = 5.0:0.5:120.0\n"
     ]
    }
   ],
   "source": [
    "@show 5:.5:120;\n",
    "@show range(5, stop=120, step=.5);"
   ]
  },
  {
   "cell_type": "markdown",
   "metadata": {},
   "source": [
    "You can perform normal arithmetic operations:"
   ]
  },
  {
   "cell_type": "code",
   "execution_count": 289,
   "metadata": {},
   "outputs": [
    {
     "data": {
      "text/plain": [
       "2:2:10"
      ]
     },
     "execution_count": 289,
     "metadata": {},
     "output_type": "execute_result"
    }
   ],
   "source": [
    "(1:5)*2"
   ]
  },
  {
   "cell_type": "markdown",
   "metadata": {},
   "source": [
    "However, be careful about the order of operations. \n",
    "Arithmetic operations have a higher priority in `Julia`.\n",
    "For `Matlab` users that is the same, but it might be problematic for `R` users, where the order is different.\n",
    "In `Julia`if you type `1:5+1`, you will give you `1:6`, while in `R` you will get `2:6`."
   ]
  },
  {
   "cell_type": "code",
   "execution_count": 290,
   "metadata": {},
   "outputs": [
    {
     "data": {
      "text/plain": [
       "1:6"
      ]
     },
     "execution_count": 290,
     "metadata": {},
     "output_type": "execute_result"
    }
   ],
   "source": [
    "1:5+1"
   ]
  },
  {
   "cell_type": "markdown",
   "metadata": {},
   "source": [
    "Another important difference between other languages and `Julia` is the fact that arrays and ranges are not compatible with each other.\n",
    "This means that arithmetic operations will give you an error message, even if objects are of the same size: "
   ]
  },
  {
   "cell_type": "code",
   "execution_count": 293,
   "metadata": {},
   "outputs": [
    {
     "ename": "LoadError",
     "evalue": "MethodError: no method matching +(::Int64, ::Vector{Int64})\nFor element-wise addition, use broadcasting with dot syntax: scalar .+ array\n\u001b[0mClosest candidates are:\n\u001b[0m  +(::Any, ::Any, \u001b[91m::Any\u001b[39m, \u001b[91m::Any...\u001b[39m) at operators.jl:560\n\u001b[0m  +(::T, \u001b[91m::T\u001b[39m) where T<:Union{Int128, Int16, Int32, Int64, Int8, UInt128, UInt16, UInt32, UInt64, UInt8} at int.jl:87\n\u001b[0m  +(::Union{Int16, Int32, Int64, Int8}, \u001b[91m::BigInt\u001b[39m) at gmp.jl:534\n\u001b[0m  ...",
     "output_type": "error",
     "traceback": [
      "MethodError: no method matching +(::Int64, ::Vector{Int64})\nFor element-wise addition, use broadcasting with dot syntax: scalar .+ array\n\u001b[0mClosest candidates are:\n\u001b[0m  +(::Any, ::Any, \u001b[91m::Any\u001b[39m, \u001b[91m::Any...\u001b[39m) at operators.jl:560\n\u001b[0m  +(::T, \u001b[91m::T\u001b[39m) where T<:Union{Int128, Int16, Int32, Int64, Int8, UInt128, UInt16, UInt32, UInt64, UInt8} at int.jl:87\n\u001b[0m  +(::Union{Int16, Int32, Int64, Int8}, \u001b[91m::BigInt\u001b[39m) at gmp.jl:534\n\u001b[0m  ...",
      "",
      "Stacktrace:",
      " [1] top-level scope",
      "   @ In[293]:1",
      " [2] eval",
      "   @ ./boot.jl:360 [inlined]",
      " [3] include_string(mapexpr::typeof(REPL.softscope), mod::Module, code::String, filename::String)",
      "   @ Base ./loading.jl:1094"
     ]
    }
   ],
   "source": [
    "1:3 + [1; 2; 3]"
   ]
  },
  {
   "cell_type": "markdown",
   "metadata": {},
   "source": [
    "You can extract all element from a range and create an array by using `collect`:"
   ]
  },
  {
   "cell_type": "code",
   "execution_count": 297,
   "metadata": {},
   "outputs": [
    {
     "data": {
      "text/plain": [
       "3-element Vector{Int64}:\n",
       " 1\n",
       " 2\n",
       " 3"
      ]
     },
     "execution_count": 297,
     "metadata": {},
     "output_type": "execute_result"
    }
   ],
   "source": [
    "collect(1:3)"
   ]
  },
  {
   "cell_type": "markdown",
   "metadata": {},
   "source": [
    "In this case, arithmetic operations are allowed:\n"
   ]
  },
  {
   "cell_type": "code",
   "execution_count": 298,
   "metadata": {},
   "outputs": [
    {
     "data": {
      "text/plain": [
       "3-element Vector{Int64}:\n",
       " 2\n",
       " 4\n",
       " 6"
      ]
     },
     "execution_count": 298,
     "metadata": {},
     "output_type": "execute_result"
    }
   ],
   "source": [
    "collect(1:3) + [1; 2; 3]"
   ]
  },
  {
   "cell_type": "code",
   "execution_count": 311,
   "metadata": {},
   "outputs": [],
   "source": [
    "using FIGlet"
   ]
  },
  {
   "cell_type": "code",
   "execution_count": 317,
   "metadata": {},
   "outputs": [
    {
     "name": "stdout",
     "output_type": "stream",
     "text": [
      " _____ _              _     _                  _   _ _\n",
      "/  ___| |            (_)   | |                | | | | |\n",
      "\\ `--.| |_ __ _ _ __  _ ___| | __ ___      __ | | | | | __ _ _ __ ___\n",
      " `--. \\ __/ _` | '_ \\| / __| |/ _` \\ \\ /\\ / / | | | | |/ _` | '_ ` _ \\\n",
      "/\\__/ / || (_| | | | | \\__ \\ | (_| |\\ V  V /  | |_| | | (_| | | | | | |\n",
      "\\____/ \\__\\__,_|_| |_|_|___/_|\\__,_| \\_/\\_/    \\___/|_|\\__,_|_| |_| |_|\n",
      "\n",
      "\n",
      "\n"
     ]
    }
   ],
   "source": [
    "function random_economist()\n",
    "    using sample\n",
    "enddddd"
   ]
  },
  {
   "cell_type": "code",
   "execution_count": 310,
   "metadata": {},
   "outputs": [
    {
     "data": {
      "text/plain": [
       "6"
      ]
     },
     "execution_count": 310,
     "metadata": {},
     "output_type": "execute_result"
    }
   ],
   "source": [
    "Σ([1 2 3])"
   ]
  },
  {
   "cell_type": "markdown",
   "metadata": {},
   "source": [
    "### Tuples\n",
    "\n",
    "To be written. An example of a tuple:"
   ]
  },
  {
   "cell_type": "code",
   "execution_count": 301,
   "metadata": {},
   "outputs": [
    {
     "data": {
      "text/plain": [
       "(1, 2, 3)"
      ]
     },
     "execution_count": 301,
     "metadata": {},
     "output_type": "execute_result"
    }
   ],
   "source": [
    "(1,2,3)"
   ]
  },
  {
   "cell_type": "markdown",
   "metadata": {},
   "source": [
    "(broadcasting)=\n",
    "## Broadcasting (`.`): where arrays meet scalars\n",
    "\n",
    "\n",
    "In [the section](arrays) describing arrays, we faced one seemingly bizzare obstacle in operating with objects of different data structures.\n",
    "In our discussed example we tried to add a scalar number, $1,$ to a matrix $\\mathbb{A}$ by running $\\mathbb{A}+1.$\n",
    "In `Julia` it is not possible. \n",
    "While trying running `A+1` you get an error message.\n",
    "We addressed this problem by using function `repeat`.\n",
    "Here I present a much more recommended approach and to this end I will use function `broadcast`.\n",
    "\n",
    "\n",
    "To perform this type of procedures, you have to broadcast an addition operator `+`.\n",
    "Broadcasting functions allows to carry out elementwise operations on objects of different sizes.\n",
    "The procedure involves increasing the size of the smaller object in such a way that both have the same size.\n"
   ]
  },
  {
   "cell_type": "code",
   "execution_count": 425,
   "metadata": {},
   "outputs": [
    {
     "data": {
      "text/plain": [
       "2×2 Matrix{Int64}:\n",
       " 1  2\n",
       " 3  4"
      ]
     },
     "execution_count": 425,
     "metadata": {},
     "output_type": "execute_result"
    }
   ],
   "source": [
    "A "
   ]
  },
  {
   "cell_type": "code",
   "execution_count": 430,
   "metadata": {},
   "outputs": [
    {
     "data": {
      "text/plain": [
       "2×2 Matrix{Int64}:\n",
       " 2  3\n",
       " 4  5"
      ]
     },
     "execution_count": 430,
     "metadata": {},
     "output_type": "execute_result"
    }
   ],
   "source": [
    "broadcast(+, A, 1)"
   ]
  },
  {
   "cell_type": "code",
   "execution_count": 426,
   "metadata": {},
   "outputs": [
    {
     "name": "stdout",
     "output_type": "stream",
     "text": [
      "search: \u001b[0m\u001b[1mb\u001b[22m\u001b[0m\u001b[1mr\u001b[22m\u001b[0m\u001b[1mo\u001b[22m\u001b[0m\u001b[1ma\u001b[22m\u001b[0m\u001b[1md\u001b[22m\u001b[0m\u001b[1mc\u001b[22m\u001b[0m\u001b[1ma\u001b[22m\u001b[0m\u001b[1ms\u001b[22m\u001b[0m\u001b[1mt\u001b[22m \u001b[0m\u001b[1mb\u001b[22m\u001b[0m\u001b[1mr\u001b[22m\u001b[0m\u001b[1mo\u001b[22m\u001b[0m\u001b[1ma\u001b[22m\u001b[0m\u001b[1md\u001b[22m\u001b[0m\u001b[1mc\u001b[22m\u001b[0m\u001b[1ma\u001b[22m\u001b[0m\u001b[1ms\u001b[22m\u001b[0m\u001b[1mt\u001b[22m! \u001b[0m\u001b[1mB\u001b[22m\u001b[0m\u001b[1mr\u001b[22m\u001b[0m\u001b[1mo\u001b[22m\u001b[0m\u001b[1ma\u001b[22m\u001b[0m\u001b[1md\u001b[22m\u001b[0m\u001b[1mc\u001b[22m\u001b[0m\u001b[1ma\u001b[22m\u001b[0m\u001b[1ms\u001b[22m\u001b[0m\u001b[1mt\u001b[22m\n",
      "\n"
     ]
    },
    {
     "data": {
      "text/latex": [
       "\\begin{verbatim}\n",
       "broadcast(f, As...)\n",
       "\\end{verbatim}\n",
       "Broadcast the function \\texttt{f} over the arrays, tuples, collections, \\href{@ref}{\\texttt{Ref}}s and/or scalars \\texttt{As}.\n",
       "\n",
       "Broadcasting applies the function \\texttt{f} over the elements of the container arguments and the scalars themselves in \\texttt{As}. Singleton and missing dimensions are expanded to match the extents of the other arguments by virtually repeating the value. By default, only a limited number of types are considered scalars, including \\texttt{Number}s, \\texttt{String}s, \\texttt{Symbol}s, \\texttt{Type}s, \\texttt{Function}s and some common singletons like \\href{@ref}{\\texttt{missing}} and \\href{@ref}{\\texttt{nothing}}. All other arguments are iterated over or indexed into elementwise.\n",
       "\n",
       "The resulting container type is established by the following rules:\n",
       "\n",
       "\\begin{itemize}\n",
       "\\item If all the arguments are scalars or zero-dimensional arrays, it returns an unwrapped scalar.\n",
       "\n",
       "\n",
       "\\item If at least one argument is a tuple and all others are scalars or zero-dimensional arrays, it returns a tuple.\n",
       "\n",
       "\n",
       "\\item All other combinations of arguments default to returning an \\texttt{Array}, but custom container types can define their own implementation and promotion-like rules to customize the result when they appear as arguments.\n",
       "\n",
       "\\end{itemize}\n",
       "A special syntax exists for broadcasting: \\texttt{f.(args...)} is equivalent to \\texttt{broadcast(f, args...)}, and nested \\texttt{f.(g.(args...))} calls are fused into a single broadcast loop.\n",
       "\n",
       "\\section{Examples}\n",
       "\\begin{verbatim}\n",
       "julia> A = [1, 2, 3, 4, 5]\n",
       "5-element Vector{Int64}:\n",
       " 1\n",
       " 2\n",
       " 3\n",
       " 4\n",
       " 5\n",
       "\n",
       "julia> B = [1 2; 3 4; 5 6; 7 8; 9 10]\n",
       "5×2 Matrix{Int64}:\n",
       " 1   2\n",
       " 3   4\n",
       " 5   6\n",
       " 7   8\n",
       " 9  10\n",
       "\n",
       "julia> broadcast(+, A, B)\n",
       "5×2 Matrix{Int64}:\n",
       "  2   3\n",
       "  5   6\n",
       "  8   9\n",
       " 11  12\n",
       " 14  15\n",
       "\n",
       "julia> parse.(Int, [\"1\", \"2\"])\n",
       "2-element Vector{Int64}:\n",
       " 1\n",
       " 2\n",
       "\n",
       "julia> abs.((1, -2))\n",
       "(1, 2)\n",
       "\n",
       "julia> broadcast(+, 1.0, (0, -2.0))\n",
       "(1.0, -1.0)\n",
       "\n",
       "julia> (+).([[0,2], [1,3]], Ref{Vector{Int}}([1,-1]))\n",
       "2-element Vector{Vector{Int64}}:\n",
       " [1, 1]\n",
       " [2, 2]\n",
       "\n",
       "julia> string.((\"one\",\"two\",\"three\",\"four\"), \": \", 1:4)\n",
       "4-element Vector{String}:\n",
       " \"one: 1\"\n",
       " \"two: 2\"\n",
       " \"three: 3\"\n",
       " \"four: 4\"\n",
       "\n",
       "\\end{verbatim}\n"
      ],
      "text/markdown": [
       "```\n",
       "broadcast(f, As...)\n",
       "```\n",
       "\n",
       "Broadcast the function `f` over the arrays, tuples, collections, [`Ref`](@ref)s and/or scalars `As`.\n",
       "\n",
       "Broadcasting applies the function `f` over the elements of the container arguments and the scalars themselves in `As`. Singleton and missing dimensions are expanded to match the extents of the other arguments by virtually repeating the value. By default, only a limited number of types are considered scalars, including `Number`s, `String`s, `Symbol`s, `Type`s, `Function`s and some common singletons like [`missing`](@ref) and [`nothing`](@ref). All other arguments are iterated over or indexed into elementwise.\n",
       "\n",
       "The resulting container type is established by the following rules:\n",
       "\n",
       "  * If all the arguments are scalars or zero-dimensional arrays, it returns an unwrapped scalar.\n",
       "  * If at least one argument is a tuple and all others are scalars or zero-dimensional arrays, it returns a tuple.\n",
       "  * All other combinations of arguments default to returning an `Array`, but custom container types can define their own implementation and promotion-like rules to customize the result when they appear as arguments.\n",
       "\n",
       "A special syntax exists for broadcasting: `f.(args...)` is equivalent to `broadcast(f, args...)`, and nested `f.(g.(args...))` calls are fused into a single broadcast loop.\n",
       "\n",
       "# Examples\n",
       "\n",
       "```jldoctest\n",
       "julia> A = [1, 2, 3, 4, 5]\n",
       "5-element Vector{Int64}:\n",
       " 1\n",
       " 2\n",
       " 3\n",
       " 4\n",
       " 5\n",
       "\n",
       "julia> B = [1 2; 3 4; 5 6; 7 8; 9 10]\n",
       "5×2 Matrix{Int64}:\n",
       " 1   2\n",
       " 3   4\n",
       " 5   6\n",
       " 7   8\n",
       " 9  10\n",
       "\n",
       "julia> broadcast(+, A, B)\n",
       "5×2 Matrix{Int64}:\n",
       "  2   3\n",
       "  5   6\n",
       "  8   9\n",
       " 11  12\n",
       " 14  15\n",
       "\n",
       "julia> parse.(Int, [\"1\", \"2\"])\n",
       "2-element Vector{Int64}:\n",
       " 1\n",
       " 2\n",
       "\n",
       "julia> abs.((1, -2))\n",
       "(1, 2)\n",
       "\n",
       "julia> broadcast(+, 1.0, (0, -2.0))\n",
       "(1.0, -1.0)\n",
       "\n",
       "julia> (+).([[0,2], [1,3]], Ref{Vector{Int}}([1,-1]))\n",
       "2-element Vector{Vector{Int64}}:\n",
       " [1, 1]\n",
       " [2, 2]\n",
       "\n",
       "julia> string.((\"one\",\"two\",\"three\",\"four\"), \": \", 1:4)\n",
       "4-element Vector{String}:\n",
       " \"one: 1\"\n",
       " \"two: 2\"\n",
       " \"three: 3\"\n",
       " \"four: 4\"\n",
       "\n",
       "```\n"
      ],
      "text/plain": [
       "\u001b[36m  broadcast(f, As...)\u001b[39m\n",
       "\n",
       "  Broadcast the function \u001b[36mf\u001b[39m over the arrays, tuples, collections, \u001b[36mRef\u001b[39ms and/or\n",
       "  scalars \u001b[36mAs\u001b[39m.\n",
       "\n",
       "  Broadcasting applies the function \u001b[36mf\u001b[39m over the elements of the container\n",
       "  arguments and the scalars themselves in \u001b[36mAs\u001b[39m. Singleton and missing dimensions\n",
       "  are expanded to match the extents of the other arguments by virtually\n",
       "  repeating the value. By default, only a limited number of types are\n",
       "  considered scalars, including \u001b[36mNumber\u001b[39ms, \u001b[36mString\u001b[39ms, \u001b[36mSymbol\u001b[39ms, \u001b[36mType\u001b[39ms, \u001b[36mFunction\u001b[39ms\n",
       "  and some common singletons like \u001b[36mmissing\u001b[39m and \u001b[36mnothing\u001b[39m. All other arguments are\n",
       "  iterated over or indexed into elementwise.\n",
       "\n",
       "  The resulting container type is established by the following rules:\n",
       "\n",
       "    •  If all the arguments are scalars or zero-dimensional arrays, it\n",
       "       returns an unwrapped scalar.\n",
       "\n",
       "    •  If at least one argument is a tuple and all others are scalars or\n",
       "       zero-dimensional arrays, it returns a tuple.\n",
       "\n",
       "    •  All other combinations of arguments default to returning an \u001b[36mArray\u001b[39m, but\n",
       "       custom container types can define their own implementation and\n",
       "       promotion-like rules to customize the result when they appear as\n",
       "       arguments.\n",
       "\n",
       "  A special syntax exists for broadcasting: \u001b[36mf.(args...)\u001b[39m is equivalent to\n",
       "  \u001b[36mbroadcast(f, args...)\u001b[39m, and nested \u001b[36mf.(g.(args...))\u001b[39m calls are fused into a\n",
       "  single broadcast loop.\n",
       "\n",
       "\u001b[1m  Examples\u001b[22m\n",
       "\u001b[1m  ≡≡≡≡≡≡≡≡≡≡\u001b[22m\n",
       "\n",
       "\u001b[36m  julia> A = [1, 2, 3, 4, 5]\u001b[39m\n",
       "\u001b[36m  5-element Vector{Int64}:\u001b[39m\n",
       "\u001b[36m   1\u001b[39m\n",
       "\u001b[36m   2\u001b[39m\n",
       "\u001b[36m   3\u001b[39m\n",
       "\u001b[36m   4\u001b[39m\n",
       "\u001b[36m   5\u001b[39m\n",
       "\u001b[36m  \u001b[39m\n",
       "\u001b[36m  julia> B = [1 2; 3 4; 5 6; 7 8; 9 10]\u001b[39m\n",
       "\u001b[36m  5×2 Matrix{Int64}:\u001b[39m\n",
       "\u001b[36m   1   2\u001b[39m\n",
       "\u001b[36m   3   4\u001b[39m\n",
       "\u001b[36m   5   6\u001b[39m\n",
       "\u001b[36m   7   8\u001b[39m\n",
       "\u001b[36m   9  10\u001b[39m\n",
       "\u001b[36m  \u001b[39m\n",
       "\u001b[36m  julia> broadcast(+, A, B)\u001b[39m\n",
       "\u001b[36m  5×2 Matrix{Int64}:\u001b[39m\n",
       "\u001b[36m    2   3\u001b[39m\n",
       "\u001b[36m    5   6\u001b[39m\n",
       "\u001b[36m    8   9\u001b[39m\n",
       "\u001b[36m   11  12\u001b[39m\n",
       "\u001b[36m   14  15\u001b[39m\n",
       "\u001b[36m  \u001b[39m\n",
       "\u001b[36m  julia> parse.(Int, [\"1\", \"2\"])\u001b[39m\n",
       "\u001b[36m  2-element Vector{Int64}:\u001b[39m\n",
       "\u001b[36m   1\u001b[39m\n",
       "\u001b[36m   2\u001b[39m\n",
       "\u001b[36m  \u001b[39m\n",
       "\u001b[36m  julia> abs.((1, -2))\u001b[39m\n",
       "\u001b[36m  (1, 2)\u001b[39m\n",
       "\u001b[36m  \u001b[39m\n",
       "\u001b[36m  julia> broadcast(+, 1.0, (0, -2.0))\u001b[39m\n",
       "\u001b[36m  (1.0, -1.0)\u001b[39m\n",
       "\u001b[36m  \u001b[39m\n",
       "\u001b[36m  julia> (+).([[0,2], [1,3]], Ref{Vector{Int}}([1,-1]))\u001b[39m\n",
       "\u001b[36m  2-element Vector{Vector{Int64}}:\u001b[39m\n",
       "\u001b[36m   [1, 1]\u001b[39m\n",
       "\u001b[36m   [2, 2]\u001b[39m\n",
       "\u001b[36m  \u001b[39m\n",
       "\u001b[36m  julia> string.((\"one\",\"two\",\"three\",\"four\"), \": \", 1:4)\u001b[39m\n",
       "\u001b[36m  4-element Vector{String}:\u001b[39m\n",
       "\u001b[36m   \"one: 1\"\u001b[39m\n",
       "\u001b[36m   \"two: 2\"\u001b[39m\n",
       "\u001b[36m   \"three: 3\"\u001b[39m\n",
       "\u001b[36m   \"four: 4\"\u001b[39m\n",
       "\u001b[36m  \u001b[39m"
      ]
     },
     "execution_count": 426,
     "metadata": {},
     "output_type": "execute_result"
    }
   ],
   "source": [
    "?broadcast"
   ]
  },
  {
   "cell_type": "code",
   "execution_count": 422,
   "metadata": {},
   "outputs": [
    {
     "name": "stdout",
     "output_type": "stream",
     "text": [
      "size(X) = (100000, 10000)\n"
     ]
    },
    {
     "data": {
      "text/plain": [
       "(100000, 10000)"
      ]
     },
     "execution_count": 422,
     "metadata": {},
     "output_type": "execute_result"
    }
   ],
   "source": [
    "X = repeat(collect(1:100), 1000, 10000);\n",
    "@show size(X)"
   ]
  },
  {
   "cell_type": "markdown",
   "metadata": {},
   "source": [
    "````{margin}\n",
    "In addition to running the line of code, thanks to macro `@time` at the beginning of the line the execution time is returned.\n",
    "````"
   ]
  },
  {
   "cell_type": "code",
   "execution_count": 423,
   "metadata": {},
   "outputs": [
    {
     "name": "stdout",
     "output_type": "stream",
     "text": [
      "  8.262623 seconds (4 allocations: 7.451 GiB, 0.93% gc time)\n"
     ]
    }
   ],
   "source": [
    "@time X .+ 1;"
   ]
  },
  {
   "cell_type": "code",
   "execution_count": 442,
   "metadata": {},
   "outputs": [],
   "source": [
    "using Pipe"
   ]
  },
  {
   "cell_type": "code",
   "execution_count": 445,
   "metadata": {},
   "outputs": [
    {
     "data": {
      "text/plain": [
       "73-element Vector{Float64}:\n",
       "  1.0\n",
       "  1.0532831317160591\n",
       "  1.1094053555575891\n",
       "  1.1685179472442655\n",
       "  1.2307802429398609\n",
       "  1.2963600687379486\n",
       "  1.3654341930319522\n",
       "  1.4381888029888847\n",
       "  1.5148200064111028\n",
       "  1.5955343603388272\n",
       "  1.6805494278182591\n",
       "  1.7700943643360474\n",
       "  1.8644105355008187\n",
       "  ⋮\n",
       " 23.727548568154436\n",
       " 24.991826663810592\n",
       " 26.323469455763327\n",
       " 27.726066345998433\n",
       " 29.203397991080454\n",
       " 30.7594464927957\n",
       " 32.3984061317844\n",
       " 34.12469467309464\n",
       " 35.94296527413145\n",
       " 37.85811902709873\n",
       " 39.87531816974189\n",
       " 42.00000000000001"
      ]
     },
     "execution_count": 445,
     "metadata": {},
     "output_type": "execute_result"
    }
   ],
   "source": [
    "exp.( collect( range(log(1), stop=log(42), length=73) ) )"
   ]
  },
  {
   "cell_type": "code",
   "execution_count": 447,
   "metadata": {},
   "outputs": [
    {
     "data": {
      "text/plain": [
       "73-element Vector{Float64}:\n",
       "  1.0\n",
       "  1.0532831317160591\n",
       "  1.1094053555575891\n",
       "  1.1685179472442655\n",
       "  1.2307802429398609\n",
       "  1.2963600687379486\n",
       "  1.3654341930319522\n",
       "  1.4381888029888847\n",
       "  1.5148200064111028\n",
       "  1.5955343603388272\n",
       "  1.6805494278182591\n",
       "  1.7700943643360474\n",
       "  1.8644105355008187\n",
       "  ⋮\n",
       " 23.727548568154436\n",
       " 24.991826663810592\n",
       " 26.323469455763327\n",
       " 27.726066345998433\n",
       " 29.203397991080454\n",
       " 30.7594464927957\n",
       " 32.3984061317844\n",
       " 34.12469467309464\n",
       " 35.94296527413145\n",
       " 37.85811902709873\n",
       " 39.87531816974189\n",
       " 42.00000000000001"
      ]
     },
     "execution_count": 447,
     "metadata": {},
     "output_type": "execute_result"
    }
   ],
   "source": [
    "@pipe range(log(1), stop=log(42), length=73) |> collect |> exp.(_)"
   ]
  },
  {
   "cell_type": "code",
   "execution_count": 431,
   "metadata": {},
   "outputs": [
    {
     "data": {
      "text/plain": [
       "1×3 Matrix{Float64}:\n",
       " 2.71828  7.38906  20.0855"
      ]
     },
     "execution_count": 431,
     "metadata": {},
     "output_type": "execute_result"
    }
   ],
   "source": [
    "exp.([1 2 3])"
   ]
  },
  {
   "cell_type": "code",
   "execution_count": 432,
   "metadata": {},
   "outputs": [
    {
     "data": {
      "text/plain": [
       "1×3 Matrix{Float64}:\n",
       " 2.71828  7.38906  20.0855"
      ]
     },
     "execution_count": 432,
     "metadata": {},
     "output_type": "execute_result"
    }
   ],
   "source": [
    "broadcast(exp, [1 2 3])"
   ]
  },
  {
   "cell_type": "code",
   "execution_count": 424,
   "metadata": {},
   "outputs": [
    {
     "name": "stdout",
     "output_type": "stream",
     "text": [
      " 29.899487 seconds (7 allocations: 14.901 GiB, 0.27% gc time)\n"
     ]
    }
   ],
   "source": [
    "@time X + repeat([1], 100000, 10000);"
   ]
  },
  {
   "cell_type": "markdown",
   "metadata": {},
   "source": [
    "We see that the broadcasted function is more than three times faster in the presented example."
   ]
  },
  {
   "cell_type": "code",
   "execution_count": 385,
   "metadata": {},
   "outputs": [
    {
     "data": {
      "text/plain": [
       "4×2 Matrix{Int64}:\n",
       " 1  2\n",
       " 3  4\n",
       " 1  2\n",
       " 3  4"
      ]
     },
     "execution_count": 385,
     "metadata": {},
     "output_type": "execute_result"
    }
   ],
   "source": [
    "repeat(A, 2, 1)"
   ]
  },
  {
   "cell_type": "code",
   "execution_count": 383,
   "metadata": {},
   "outputs": [
    {
     "name": "stdout",
     "output_type": "stream",
     "text": [
      "search: \u001b[0m\u001b[1m+\u001b[22m\n",
      "\n"
     ]
    },
    {
     "data": {
      "text/latex": [
       "\\begin{verbatim}\n",
       "+(x, y...)\n",
       "\\end{verbatim}\n",
       "Addition operator. \\texttt{x+y+z+...} calls this function with all arguments, i.e. \\texttt{+(x, y, z, ...)}.\n",
       "\n",
       "\\section{Examples}\n",
       "\\begin{verbatim}\n",
       "julia> 1 + 20 + 4\n",
       "25\n",
       "\n",
       "julia> +(1, 20, 4)\n",
       "25\n",
       "\\end{verbatim}\n",
       "\\rule{\\textwidth}{1pt}\n",
       "\\begin{verbatim}\n",
       "dt::Date + t::Time -> DateTime\n",
       "\\end{verbatim}\n",
       "The addition of a \\texttt{Date} with a \\texttt{Time} produces a \\texttt{DateTime}. The hour, minute, second, and millisecond parts of the \\texttt{Time} are used along with the year, month, and day of the \\texttt{Date} to create the new \\texttt{DateTime}. Non-zero microseconds or nanoseconds in the \\texttt{Time} type will result in an \\texttt{InexactError} being thrown.\n",
       "\n"
      ],
      "text/markdown": [
       "```\n",
       "+(x, y...)\n",
       "```\n",
       "\n",
       "Addition operator. `x+y+z+...` calls this function with all arguments, i.e. `+(x, y, z, ...)`.\n",
       "\n",
       "# Examples\n",
       "\n",
       "```jldoctest\n",
       "julia> 1 + 20 + 4\n",
       "25\n",
       "\n",
       "julia> +(1, 20, 4)\n",
       "25\n",
       "```\n",
       "\n",
       "---\n",
       "\n",
       "```\n",
       "dt::Date + t::Time -> DateTime\n",
       "```\n",
       "\n",
       "The addition of a `Date` with a `Time` produces a `DateTime`. The hour, minute, second, and millisecond parts of the `Time` are used along with the year, month, and day of the `Date` to create the new `DateTime`. Non-zero microseconds or nanoseconds in the `Time` type will result in an `InexactError` being thrown.\n"
      ],
      "text/plain": [
       "\u001b[36m  +(x, y...)\u001b[39m\n",
       "\n",
       "  Addition operator. \u001b[36mx+y+z+...\u001b[39m calls this function with all arguments, i.e.\n",
       "  \u001b[36m+(x, y, z, ...)\u001b[39m.\n",
       "\n",
       "\u001b[1m  Examples\u001b[22m\n",
       "\u001b[1m  ≡≡≡≡≡≡≡≡≡≡\u001b[22m\n",
       "\n",
       "\u001b[36m  julia> 1 + 20 + 4\u001b[39m\n",
       "\u001b[36m  25\u001b[39m\n",
       "\u001b[36m  \u001b[39m\n",
       "\u001b[36m  julia> +(1, 20, 4)\u001b[39m\n",
       "\u001b[36m  25\u001b[39m\n",
       "\n",
       "  ────────────────────────────────────────────────────────────────────────────\n",
       "\n",
       "\u001b[36m  dt::Date + t::Time -> DateTime\u001b[39m\n",
       "\n",
       "  The addition of a \u001b[36mDate\u001b[39m with a \u001b[36mTime\u001b[39m produces a \u001b[36mDateTime\u001b[39m. The hour, minute,\n",
       "  second, and millisecond parts of the \u001b[36mTime\u001b[39m are used along with the year,\n",
       "  month, and day of the \u001b[36mDate\u001b[39m to create the new \u001b[36mDateTime\u001b[39m. Non-zero microseconds\n",
       "  or nanoseconds in the \u001b[36mTime\u001b[39m type will result in an \u001b[36mInexactError\u001b[39m being thrown."
      ]
     },
     "execution_count": 383,
     "metadata": {},
     "output_type": "execute_result"
    }
   ],
   "source": [
    "?+"
   ]
  },
  {
   "cell_type": "code",
   "execution_count": 369,
   "metadata": {},
   "outputs": [
    {
     "name": "stdout",
     "output_type": "stream",
     "text": [
      "broadcast(+, 1, [1 2; 3 4]) = [2 3; 4 5]\n",
      "broadcast(+, [0 1], [1 2; 3 4]) = [1 3; 3 5]\n"
     ]
    },
    {
     "data": {
      "text/plain": [
       "2×2 Matrix{Int64}:\n",
       " 1  3\n",
       " 3  5"
      ]
     },
     "execution_count": 369,
     "metadata": {},
     "output_type": "execute_result"
    }
   ],
   "source": [
    "@show broadcast(+, 1, [1 2;3 4])\n",
    "\n",
    "@show broadcast(+, [0 1], [1 2;3 4])\n",
    "\n",
    "\n",
    "# @show broadcast(+, [1 2 3], [1 2;3 4])"
   ]
  },
  {
   "cell_type": "code",
   "execution_count": 381,
   "metadata": {},
   "outputs": [
    {
     "data": {
      "text/plain": [
       "2×2 Matrix{Rational{Int64}}:\n",
       " 1//1  1//2\n",
       " 1//3  1//4"
      ]
     },
     "execution_count": 381,
     "metadata": {},
     "output_type": "execute_result"
    }
   ],
   "source": [
    ".//( 1, [1 2;3 4])"
   ]
  },
  {
   "cell_type": "code",
   "execution_count": 382,
   "metadata": {},
   "outputs": [
    {
     "ename": "LoadError",
     "evalue": "MethodError: no method matching +(::Matrix{Int64}, ::Int64)\nFor element-wise addition, use broadcasting with dot syntax: array .+ scalar\n\u001b[0mClosest candidates are:\n\u001b[0m  +(::Any, ::Any, \u001b[91m::Any\u001b[39m, \u001b[91m::Any...\u001b[39m) at operators.jl:560\n\u001b[0m  +(\u001b[91m::T\u001b[39m, ::T) where T<:Union{Int128, Int16, Int32, Int64, Int8, UInt128, UInt16, UInt32, UInt64, UInt8} at int.jl:87\n\u001b[0m  +(\u001b[91m::Rational\u001b[39m, ::Integer) at rational.jl:288\n\u001b[0m  ...",
     "output_type": "error",
     "traceback": [
      "MethodError: no method matching +(::Matrix{Int64}, ::Int64)\nFor element-wise addition, use broadcasting with dot syntax: array .+ scalar\n\u001b[0mClosest candidates are:\n\u001b[0m  +(::Any, ::Any, \u001b[91m::Any\u001b[39m, \u001b[91m::Any...\u001b[39m) at operators.jl:560\n\u001b[0m  +(\u001b[91m::T\u001b[39m, ::T) where T<:Union{Int128, Int16, Int32, Int64, Int8, UInt128, UInt16, UInt32, UInt64, UInt8} at int.jl:87\n\u001b[0m  +(\u001b[91m::Rational\u001b[39m, ::Integer) at rational.jl:288\n\u001b[0m  ...",
      "",
      "Stacktrace:",
      " [1] top-level scope",
      "   @ In[382]:1",
      " [2] eval",
      "   @ ./boot.jl:360 [inlined]",
      " [3] include_string(mapexpr::typeof(REPL.softscope), mod::Module, code::String, filename::String)",
      "   @ Base ./loading.jl:1094"
     ]
    }
   ],
   "source": [
    "[1 2]+1"
   ]
  },
  {
   "cell_type": "code",
   "execution_count": 374,
   "metadata": {},
   "outputs": [
    {
     "data": {
      "text/plain": [
       "1×3 Matrix{Float64}:\n",
       " 1.0  2.0  3.0"
      ]
     },
     "execution_count": 374,
     "metadata": {},
     "output_type": "execute_result"
    }
   ],
   "source": [
    "mean.([1 2 3])"
   ]
  },
  {
   "cell_type": "markdown",
   "metadata": {},
   "source": [
    "* map and broadcasting\n",
    "* dictionaries\n",
    "* ranges\n",
    "* functions\n",
    "* for loops: many iterators, break, continue\n",
    "* control flows: if ?:\n",
    "* broadcasting exisitng functions\n",
    "* anonymous functions\n",
    "* plots\n",
    "* DataFrames\n",
    "* Pipes\n"
   ]
  },
  {
   "cell_type": "markdown",
   "metadata": {},
   "source": []
  },
  {
   "cell_type": "code",
   "execution_count": 227,
   "metadata": {},
   "outputs": [],
   "source": [
    "using StatsBase"
   ]
  },
  {
   "cell_type": "code",
   "execution_count": 230,
   "metadata": {},
   "outputs": [
    {
     "data": {
      "text/plain": [
       "Dict{Int64, Int64} with 3 entries:\n",
       "  4 => 1\n",
       "  2 => 2\n",
       "  3 => 1"
      ]
     },
     "execution_count": 230,
     "metadata": {},
     "output_type": "execute_result"
    }
   ],
   "source": [
    "countmap([2; 2; 3; 4])"
   ]
  },
  {
   "cell_type": "code",
   "execution_count": 231,
   "metadata": {},
   "outputs": [
    {
     "name": "stdout",
     "output_type": "stream",
     "text": [
      "search: \u001b[0m\u001b[1mc\u001b[22m\u001b[0m\u001b[1mo\u001b[22m\u001b[0m\u001b[1mu\u001b[22m\u001b[0m\u001b[1mn\u001b[22m\u001b[0m\u001b[1mt\u001b[22m\u001b[0m\u001b[1mm\u001b[22m\u001b[0m\u001b[1ma\u001b[22m\u001b[0m\u001b[1mp\u001b[22m\n",
      "\n"
     ]
    },
    {
     "data": {
      "text/latex": [
       "\\begin{verbatim}\n",
       "countmap(x; alg = :auto)\n",
       "countmap(x::AbstractVector, w::AbstractVector{<:Real}; alg = :auto)\n",
       "\\end{verbatim}\n",
       "Return a dictionary mapping each unique value in \\texttt{x} to its number of occurrences. A vector of weights \\texttt{w} can be provided when \\texttt{x} is a vector.\n",
       "\n",
       "\\begin{itemize}\n",
       "\\item \\texttt{:auto} (default): if \\texttt{StatsBase.radixsort\\_safe(eltype(x)) == true} then use                    \\texttt{:radixsort}, otherwise use \\texttt{:dict}.\n",
       "\n",
       "\n",
       "\\item \\texttt{:radixsort}:      if \\texttt{radixsort\\_safe(eltype(x)) == true} then use the                    \\href{https://en.wikipedia.org/wiki/Radix_sort}{radix sort}                    algorithm to sort the input vector which will generally lead to                    shorter running time. However the radix sort algorithm creates a                    copy of the input vector and hence uses more RAM. Choose \\texttt{:dict}                    if the amount of available RAM is a limitation.\n",
       "\n",
       "\n",
       "\\item \\texttt{:dict}:           use \\texttt{Dict}-based method which is generally slower but uses less                    RAM and is safe for any data type.\n",
       "\n",
       "\\end{itemize}\n"
      ],
      "text/markdown": [
       "```\n",
       "countmap(x; alg = :auto)\n",
       "countmap(x::AbstractVector, w::AbstractVector{<:Real}; alg = :auto)\n",
       "```\n",
       "\n",
       "Return a dictionary mapping each unique value in `x` to its number of occurrences. A vector of weights `w` can be provided when `x` is a vector.\n",
       "\n",
       "  * `:auto` (default): if `StatsBase.radixsort_safe(eltype(x)) == true` then use                    `:radixsort`, otherwise use `:dict`.\n",
       "  * `:radixsort`:      if `radixsort_safe(eltype(x)) == true` then use the                    [radix sort](https://en.wikipedia.org/wiki/Radix_sort)                    algorithm to sort the input vector which will generally lead to                    shorter running time. However the radix sort algorithm creates a                    copy of the input vector and hence uses more RAM. Choose `:dict`                    if the amount of available RAM is a limitation.\n",
       "  * `:dict`:           use `Dict`-based method which is generally slower but uses less                    RAM and is safe for any data type.\n"
      ],
      "text/plain": [
       "\u001b[36m  countmap(x; alg = :auto)\u001b[39m\n",
       "\u001b[36m  countmap(x::AbstractVector, w::AbstractVector{<:Real}; alg = :auto)\u001b[39m\n",
       "\n",
       "  Return a dictionary mapping each unique value in \u001b[36mx\u001b[39m to its number of\n",
       "  occurrences. A vector of weights \u001b[36mw\u001b[39m can be provided when \u001b[36mx\u001b[39m is a vector.\n",
       "\n",
       "    •  \u001b[36m:auto\u001b[39m (default): if \u001b[36mStatsBase.radixsort_safe(eltype(x)) == true\u001b[39m then\n",
       "       use \u001b[36m:radixsort\u001b[39m, otherwise use \u001b[36m:dict\u001b[39m.\n",
       "\n",
       "    •  \u001b[36m:radixsort\u001b[39m: if \u001b[36mradixsort_safe(eltype(x)) == true\u001b[39m then use the radix\n",
       "       sort (https://en.wikipedia.org/wiki/Radix_sort) algorithm to sort the\n",
       "       input vector which will generally lead to shorter running time.\n",
       "       However the radix sort algorithm creates a copy of the input vector\n",
       "       and hence uses more RAM. Choose \u001b[36m:dict\u001b[39m if the amount of available RAM\n",
       "       is a limitation.\n",
       "\n",
       "    •  \u001b[36m:dict\u001b[39m: use \u001b[36mDict\u001b[39m-based method which is generally slower but uses less\n",
       "       RAM and is safe for any data type."
      ]
     },
     "execution_count": 231,
     "metadata": {},
     "output_type": "execute_result"
    }
   ],
   "source": [
    "?countmap"
   ]
  },
  {
   "cell_type": "code",
   "execution_count": 235,
   "metadata": {},
   "outputs": [
    {
     "ename": "LoadError",
     "evalue": "MethodError: no method matching counts(::Matrix{Float64})\n\u001b[0mClosest candidates are:\n\u001b[0m  counts(\u001b[91m::AbstractArray{T, N} where {T<:Integer, N}\u001b[39m) at /Users/pytka/.julia/packages/StatsBase/XT7PT/src/counts.jl:85\n\u001b[0m  counts(\u001b[91m::AbstractArray{T, N} where {T<:Integer, N}\u001b[39m, \u001b[91m::UnitRange{T} where T<:Integer\u001b[39m) at /Users/pytka/.julia/packages/StatsBase/XT7PT/src/counts.jl:79\n\u001b[0m  counts(\u001b[91m::AbstractArray{T, N} where {T<:Integer, N}\u001b[39m, \u001b[91m::UnitRange{T} where T<:Integer\u001b[39m, \u001b[91m::AbstractWeights\u001b[39m) at /Users/pytka/.julia/packages/StatsBase/XT7PT/src/counts.jl:81\n\u001b[0m  ...",
     "output_type": "error",
     "traceback": [
      "MethodError: no method matching counts(::Matrix{Float64})\n\u001b[0mClosest candidates are:\n\u001b[0m  counts(\u001b[91m::AbstractArray{T, N} where {T<:Integer, N}\u001b[39m) at /Users/pytka/.julia/packages/StatsBase/XT7PT/src/counts.jl:85\n\u001b[0m  counts(\u001b[91m::AbstractArray{T, N} where {T<:Integer, N}\u001b[39m, \u001b[91m::UnitRange{T} where T<:Integer\u001b[39m) at /Users/pytka/.julia/packages/StatsBase/XT7PT/src/counts.jl:79\n\u001b[0m  counts(\u001b[91m::AbstractArray{T, N} where {T<:Integer, N}\u001b[39m, \u001b[91m::UnitRange{T} where T<:Integer\u001b[39m, \u001b[91m::AbstractWeights\u001b[39m) at /Users/pytka/.julia/packages/StatsBase/XT7PT/src/counts.jl:81\n\u001b[0m  ...",
      "",
      "Stacktrace:",
      " [1] top-level scope",
      "   @ In[235]:1",
      " [2] eval",
      "   @ ./boot.jl:360 [inlined]",
      " [3] include_string(mapexpr::typeof(REPL.softscope), mod::Module, code::String, filename::String)",
      "   @ Base ./loading.jl:1094"
     ]
    }
   ],
   "source": [
    "counts([1.5 1.5 3 100])"
   ]
  },
  {
   "cell_type": "code",
   "execution_count": 236,
   "metadata": {},
   "outputs": [],
   "source": [
    "using FreqTables"
   ]
  },
  {
   "cell_type": "code",
   "execution_count": 237,
   "metadata": {},
   "outputs": [],
   "source": [
    "x = repeat([\"a\", \"b\", \"c\", \"d\"], outer=[100]);"
   ]
  },
  {
   "cell_type": "code",
   "execution_count": 245,
   "metadata": {},
   "outputs": [
    {
     "data": {
      "text/plain": [
       "3-element Named Vector{Int64}\n",
       "Dim1  │ \n",
       "──────┼──\n",
       "1     │ 2\n",
       "3     │ 1\n",
       "4     │ 1"
      ]
     },
     "execution_count": 245,
     "metadata": {},
     "output_type": "execute_result"
    }
   ],
   "source": [
    "x=[1; 1; 3; 4]\n",
    "qwe = freqtable(x)"
   ]
  },
  {
   "cell_type": "code",
   "execution_count": 248,
   "metadata": {},
   "outputs": [
    {
     "data": {
      "text/plain": [
       "1"
      ]
     },
     "execution_count": 248,
     "metadata": {},
     "output_type": "execute_result"
    }
   ],
   "source": []
  },
  {
   "cell_type": "code",
   "execution_count": 249,
   "metadata": {},
   "outputs": [],
   "source": [
    "using ProgressLogging"
   ]
  },
  {
   "cell_type": "code",
   "execution_count": 250,
   "metadata": {},
   "outputs": [],
   "source": [
    "@progress for i in 1:10\n",
    "    sleep(0.1)\n",
    "    \n",
    "end"
   ]
  },
  {
   "cell_type": "code",
   "execution_count": null,
   "metadata": {},
   "outputs": [],
   "source": []
  },
  {
   "cell_type": "code",
   "execution_count": 307,
   "metadata": {},
   "outputs": [
    {
     "name": "stdout",
     "output_type": "stream",
     "text": [
      "i=1, j=15.0\n",
      "i=1, j=15.25\n",
      "i=1, j=15.5\n",
      "i=1, j=15.75\n",
      "i=1, j=16.0\n",
      "i=2, j=15.0\n",
      "i=2, j=15.25\n",
      "i=2, j=15.5\n",
      "i=2, j=15.75\n",
      "i=2, j=16.0\n"
     ]
    }
   ],
   "source": [
    "for i∈1:2\n",
    "    for j∈ 15:.25:16 \n",
    "        println(\"i=$i, j=$j\")\n",
    "    end\n",
    "end"
   ]
  },
  {
   "cell_type": "code",
   "execution_count": 306,
   "metadata": {},
   "outputs": [
    {
     "name": "stdout",
     "output_type": "stream",
     "text": [
      "i=1, j=15.0\n",
      "i=1, j=15.25\n",
      "i=1, j=15.5\n",
      "i=1, j=15.75\n",
      "i=1, j=16.0\n",
      "i=2, j=15.0\n",
      "i=2, j=15.25\n",
      "i=2, j=15.5\n",
      "i=2, j=15.75\n",
      "i=2, j=16.0\n"
     ]
    }
   ],
   "source": [
    "for i∈1:2, j∈ 15:.25:16\n",
    "    println(\"i=$i, j=$j\")\n",
    "end"
   ]
  },
  {
   "cell_type": "code",
   "execution_count": 318,
   "metadata": {},
   "outputs": [
    {
     "data": {
      "text/plain": [
       "OLS (generic function with 1 method)"
      ]
     },
     "execution_count": 318,
     "metadata": {},
     "output_type": "execute_result"
    }
   ],
   "source": [
    "OLS(X,y) = inv(X'*X)*X'*y"
   ]
  },
  {
   "cell_type": "code",
   "execution_count": 319,
   "metadata": {},
   "outputs": [
    {
     "data": {
      "text/plain": [
       "100-element Vector{Int64}:\n",
       "   1\n",
       "   2\n",
       "   3\n",
       "   4\n",
       "   5\n",
       "   6\n",
       "   7\n",
       "   8\n",
       "   9\n",
       "  10\n",
       "  11\n",
       "  12\n",
       "  13\n",
       "   ⋮\n",
       "  89\n",
       "  90\n",
       "  91\n",
       "  92\n",
       "  93\n",
       "  94\n",
       "  95\n",
       "  96\n",
       "  97\n",
       "  98\n",
       "  99\n",
       " 100"
      ]
     },
     "execution_count": 319,
     "metadata": {},
     "output_type": "execute_result"
    }
   ],
   "source": [
    "qwe = collect(1:100)"
   ]
  },
  {
   "cell_type": "code",
   "execution_count": 324,
   "metadata": {},
   "outputs": [
    {
     "data": {
      "text/plain": [
       "100-element Vector{String}:\n",
       " \"Lucas\"\n",
       " \"Sargent\"\n",
       " \"Lucas\"\n",
       " \"Sargent\"\n",
       " \"Lucas\"\n",
       " \"Sargent\"\n",
       " \"Lucas\"\n",
       " \"Sargent\"\n",
       " \"Lucas\"\n",
       " \"Sargent\"\n",
       " \"Lucas\"\n",
       " \"Sargent\"\n",
       " \"Lucas\"\n",
       " ⋮\n",
       " \"Lucas\"\n",
       " \"Sargent\"\n",
       " \"Lucas\"\n",
       " \"Sargent\"\n",
       " \"Lucas\"\n",
       " \"Sargent\"\n",
       " \"Lucas\"\n",
       " \"Sargent\"\n",
       " \"Lucas\"\n",
       " \"Sargent\"\n",
       " \"Lucas\"\n",
       " \"Sargent\""
      ]
     },
     "execution_count": 324,
     "metadata": {},
     "output_type": "execute_result"
    }
   ],
   "source": [
    "map(x-> x%2==0 ? \"Sargent\" : \"Lucas\", qwe)"
   ]
  },
  {
   "cell_type": "code",
   "execution_count": 325,
   "metadata": {},
   "outputs": [
    {
     "data": {
      "text/plain": [
       "100-element Vector{String}:\n",
       " \"Lucas\"\n",
       " \"Sargent\"\n",
       " \"Lucas\"\n",
       " \"Sargent\"\n",
       " \"Lucas\"\n",
       " \"Sargent\"\n",
       " \"Lucas\"\n",
       " \"Sargent\"\n",
       " \"Lucas\"\n",
       " \"Sargent\"\n",
       " \"Lucas\"\n",
       " \"Sargent\"\n",
       " \"Lucas\"\n",
       " ⋮\n",
       " \"Lucas\"\n",
       " \"Sargent\"\n",
       " \"Lucas\"\n",
       " \"Sargent\"\n",
       " \"Lucas\"\n",
       " \"Sargent\"\n",
       " \"Lucas\"\n",
       " \"Sargent\"\n",
       " \"Lucas\"\n",
       " \"Sargent\"\n",
       " \"Lucas\"\n",
       " \"Sargent\""
      ]
     },
     "execution_count": 325,
     "metadata": {},
     "output_type": "execute_result"
    }
   ],
   "source": [
    "broadcast(x-> x%2==0 ? \"Sargent\" : \"Lucas\", qwe)"
   ]
  },
  {
   "cell_type": "code",
   "execution_count": null,
   "metadata": {},
   "outputs": [
    {
     "data": {
      "text/plain": [
       "2×3 Matrix{Tuple{Int64, Int64}}:\n",
       " (1, 1)  (1, 2)  (1, 3)\n",
       " (2, 1)  (2, 2)  (2, 3)"
      ]
     },
     "metadata": {},
     "output_type": "display_data"
    }
   ],
   "source": [
    "a = [(x,y) for x ∈ 1:2, y ∈ 1:1:3]"
   ]
  },
  {
   "cell_type": "code",
   "execution_count": null,
   "metadata": {},
   "outputs": [
    {
     "data": {
      "text/plain": [
       "2.0"
      ]
     },
     "metadata": {},
     "output_type": "display_data"
    }
   ],
   "source": [
    "((100-1)/(100-1))^1/.5 # * (10 - -2)"
   ]
  },
  {
   "cell_type": "code",
   "execution_count": null,
   "metadata": {},
   "outputs": [
    {
     "data": {
      "text/plain": [
       "22.0"
      ]
     },
     "metadata": {},
     "output_type": "display_data"
    }
   ],
   "source": [
    "-2 + ((100-1)/(100-1))^1/.5 * (10 - -2)"
   ]
  },
  {
   "cell_type": "code",
   "execution_count": null,
   "metadata": {},
   "outputs": [
    {
     "data": {
      "text/plain": [
       "100-element Vector{Float64}:\n",
       " -2.0\n",
       " -1.9987756351392716\n",
       " -1.995102540557086\n",
       " -1.9889807162534434\n",
       " -1.980410162228344\n",
       " -1.9693908784817875\n",
       " -1.955922865013774\n",
       " -1.9400061218243037\n",
       " -1.9216406489133762\n",
       " -1.9008264462809916\n",
       " -1.8775635139271503\n",
       " -1.8518518518518519\n",
       " -1.8236914600550964\n",
       "  ⋮\n",
       "  7.481481481481481\n",
       "  7.698194061830426\n",
       "  7.917355371900825\n",
       "  8.138965411692686\n",
       "  8.363024181205999\n",
       "  8.589531680440771\n",
       "  8.818487909397\n",
       "  9.049892868074686\n",
       "  9.28374655647383\n",
       "  9.52004897459443\n",
       "  9.758800122436487\n",
       " 10.0"
      ]
     },
     "metadata": {},
     "output_type": "display_data"
    }
   ],
   "source": [
    "balance_sheet = [(-2 + ((i-1)/(100-1))^(1/.5) * (10 - -2)) for i∈1:100]"
   ]
  },
  {
   "cell_type": "code",
   "execution_count": null,
   "metadata": {},
   "outputs": [
    {
     "data": {
      "text/plain": [
       "25-element Vector{Float64}:\n",
       " 1.0\n",
       " 1.029302236643492\n",
       " 1.0594630943592953\n",
       " 1.0905077326652577\n",
       " 1.122462048309373\n",
       " 1.155352696872273\n",
       " 1.189207115002721\n",
       " 1.2240535433046553\n",
       " 1.2599210498948732\n",
       " 1.2968395546510096\n",
       " 1.3348398541700344\n",
       " 1.3739536474580891\n",
       " 1.414213562373095\n",
       " 1.4556531828421875\n",
       " 1.4983070768766815\n",
       " 1.5422108254079407\n",
       " 1.5874010519681994\n",
       " 1.6339154532410998\n",
       " 1.681792830507429\n",
       " 1.7310731220122861\n",
       " 1.7817974362806785\n",
       " 1.8340080864093424\n",
       " 1.8877486253633868\n",
       " 1.9430638823072117\n",
       " 2.0"
      ]
     },
     "metadata": {},
     "output_type": "display_data"
    }
   ],
   "source": [
    "income_shocks = exp.( range(log(1), stop=log(2), length= 25) )"
   ]
  },
  {
   "cell_type": "code",
   "execution_count": 362,
   "metadata": {},
   "outputs": [
    {
     "data": {
      "text/plain": [
       "10-element Vector{Int64}:\n",
       "  2\n",
       "  3\n",
       "  4\n",
       "  5\n",
       "  6\n",
       "  7\n",
       "  8\n",
       "  9\n",
       " 10\n",
       " 11"
      ]
     },
     "execution_count": 362,
     "metadata": {},
     "output_type": "execute_result"
    }
   ],
   "source": [
    "map(x -> begin\n",
    "            x += 1\n",
    "            2+2\n",
    "            return(x)\n",
    "        end,\n",
    "        1:10)"
   ]
  },
  {
   "cell_type": "code",
   "execution_count": null,
   "metadata": {},
   "outputs": [
    {
     "data": {
      "text/plain": [
       "100×25 Matrix{Tuple{Float64, Float64}}:\n",
       " (-2.0, 1.0)      (-2.0, 1.0293)      (-2.0, 1.05946)      …  (-2.0, 2.0)\n",
       " (-1.99878, 1.0)  (-1.99878, 1.0293)  (-1.99878, 1.05946)     (-1.99878, 2.0)\n",
       " (-1.9951, 1.0)   (-1.9951, 1.0293)   (-1.9951, 1.05946)      (-1.9951, 2.0)\n",
       " (-1.98898, 1.0)  (-1.98898, 1.0293)  (-1.98898, 1.05946)     (-1.98898, 2.0)\n",
       " (-1.98041, 1.0)  (-1.98041, 1.0293)  (-1.98041, 1.05946)     (-1.98041, 2.0)\n",
       " (-1.96939, 1.0)  (-1.96939, 1.0293)  (-1.96939, 1.05946)  …  (-1.96939, 2.0)\n",
       " (-1.95592, 1.0)  (-1.95592, 1.0293)  (-1.95592, 1.05946)     (-1.95592, 2.0)\n",
       " (-1.94001, 1.0)  (-1.94001, 1.0293)  (-1.94001, 1.05946)     (-1.94001, 2.0)\n",
       " (-1.92164, 1.0)  (-1.92164, 1.0293)  (-1.92164, 1.05946)     (-1.92164, 2.0)\n",
       " (-1.90083, 1.0)  (-1.90083, 1.0293)  (-1.90083, 1.05946)     (-1.90083, 2.0)\n",
       " (-1.87756, 1.0)  (-1.87756, 1.0293)  (-1.87756, 1.05946)  …  (-1.87756, 2.0)\n",
       " (-1.85185, 1.0)  (-1.85185, 1.0293)  (-1.85185, 1.05946)     (-1.85185, 2.0)\n",
       " (-1.82369, 1.0)  (-1.82369, 1.0293)  (-1.82369, 1.05946)     (-1.82369, 2.0)\n",
       " ⋮                                                         ⋱  \n",
       " (7.48148, 1.0)   (7.48148, 1.0293)   (7.48148, 1.05946)      (7.48148, 2.0)\n",
       " (7.69819, 1.0)   (7.69819, 1.0293)   (7.69819, 1.05946)      (7.69819, 2.0)\n",
       " (7.91736, 1.0)   (7.91736, 1.0293)   (7.91736, 1.05946)   …  (7.91736, 2.0)\n",
       " (8.13897, 1.0)   (8.13897, 1.0293)   (8.13897, 1.05946)      (8.13897, 2.0)\n",
       " (8.36302, 1.0)   (8.36302, 1.0293)   (8.36302, 1.05946)      (8.36302, 2.0)\n",
       " (8.58953, 1.0)   (8.58953, 1.0293)   (8.58953, 1.05946)      (8.58953, 2.0)\n",
       " (8.81849, 1.0)   (8.81849, 1.0293)   (8.81849, 1.05946)      (8.81849, 2.0)\n",
       " (9.04989, 1.0)   (9.04989, 1.0293)   (9.04989, 1.05946)   …  (9.04989, 2.0)\n",
       " (9.28375, 1.0)   (9.28375, 1.0293)   (9.28375, 1.05946)      (9.28375, 2.0)\n",
       " (9.52005, 1.0)   (9.52005, 1.0293)   (9.52005, 1.05946)      (9.52005, 2.0)\n",
       " (9.7588, 1.0)    (9.7588, 1.0293)    (9.7588, 1.05946)       (9.7588, 2.0)\n",
       " (10.0, 1.0)      (10.0, 1.0293)      (10.0, 1.05946)         (10.0, 2.0)"
      ]
     },
     "metadata": {},
     "output_type": "display_data"
    }
   ],
   "source": [
    "states = [(κ,ε) for κ ∈ balance_sheet, ε ∈ income_shocks]"
   ]
  },
  {
   "cell_type": "code",
   "execution_count": null,
   "metadata": {},
   "outputs": [],
   "source": []
  }
 ],
 "metadata": {
  "kernelspec": {
   "display_name": "Julia 1.6.0",
   "language": "julia",
   "name": "julia-1.6"
  },
  "language_info": {
   "file_extension": ".jl",
   "mimetype": "application/julia",
   "name": "julia",
   "version": "1.6.0"
  },
  "orig_nbformat": 4
 },
 "nbformat": 4,
 "nbformat_minor": 2
}
