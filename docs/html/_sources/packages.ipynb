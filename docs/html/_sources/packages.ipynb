{
 "cells": [
  {
   "cell_type": "markdown",
   "metadata": {},
   "source": [
    "# Packages\n",
    "\n",
    "The list of packages that I use: \n",
    "\n",
    "\n",
    "\n",
    "\n",
    "* `Parameters`   - required by: `@unpack`\n",
    "* `Dates`        - required by: `Dates.now``\n",
    "* `LinearAlgebra`\n",
    "* `Printf`  - required by: @sprintf\n",
    "* `Statistics` - required by statistical functions (`mean`, `var`, etc.)\n",
    "* `Plots`\n",
    "* `IterTools`\n",
    "* `JLD2, FileIO`\n",
    "* `StatsBase` - required by `countmap`\n",
    "* `FreqTables`\n",
    "* `SpecialFunctions` - required by `zeta`\n",
    "* `DataFrames`\n",
    "* `Pipe`\n",
    "* `Optim`\n",
    "* `Optim` -  `converged`, `maximum`, `maximizer`, `minimizer`, `iterations`\n",
    "* `Crayons`\n",
    "* `FIGlet`\n",
    "* `ProgressLogging`\n",
    "* `SparseArrays`\n",
    "* `Base.Threads`\n",
    "* `InvertedIndices`\n",
    "* `CSV`\n"
   ]
  },
  {
   "cell_type": "markdown",
   "metadata": {},
   "source": []
  }
 ],
 "metadata": {
  "kernelspec": {
   "display_name": "Julia 1.6.0",
   "language": "julia",
   "name": "julia-1.6"
  },
  "language_info": {
   "name": "julia"
  },
  "orig_nbformat": 4
 },
 "nbformat": 4,
 "nbformat_minor": 2
}
