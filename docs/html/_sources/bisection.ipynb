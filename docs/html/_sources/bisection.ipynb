{
 "cells": [
  {
   "cell_type": "markdown",
   "metadata": {},
   "source": [
    "# Bisection"
   ]
  },
  {
   "cell_type": "markdown",
   "metadata": {},
   "source": [
    "to be written"
   ]
  },
  {
   "cell_type": "code",
   "execution_count": null,
   "metadata": {},
   "outputs": [],
   "source": [
    "using Roots  #required by find_zero\n",
    "using Printf #required by @sprintf\n",
    "using Plots"
   ]
  },
  {
   "cell_type": "markdown",
   "metadata": {},
   "source": [
    "## Root-finding procedures\n",
    "\n",
    "Suppose that we want to find the root of the following function:\n",
    "\n",
    "$$ Fun_1(x) = x - x\\cdot\\sqrt{x+1} + 5 $$"
   ]
  },
  {
   "cell_type": "code",
   "execution_count": 3,
   "metadata": {},
   "outputs": [
    {
     "data": {
      "text/plain": [
       "Fun1 (generic function with 1 method)"
      ]
     },
     "execution_count": 3,
     "metadata": {},
     "output_type": "execute_result"
    }
   ],
   "source": [
    "Fun1(x)=x-x*√(x+1)+5"
   ]
  },
  {
   "cell_type": "code",
   "execution_count": 4,
   "metadata": {},
   "outputs": [
    {
     "data": {
      "text/plain": [
       "101-element Vector{Float64}:\n",
       "   5.0\n",
       "   4.995119115182985\n",
       "   4.980910976997934\n",
       "   4.957947372470259\n",
       "   4.92671361735203\n",
       "   4.887627564304205\n",
       "   4.841053361559589\n",
       "   4.7873116632716295\n",
       "   4.726687370800101\n",
       "   4.6594356123118805\n",
       "   4.585786437626905\n",
       "   4.505948557919162\n",
       "   4.420112363097041\n",
       "   ⋮\n",
       " -14.10319624614305\n",
       " -14.460498941515414\n",
       " -14.820252419368678\n",
       " -15.18244373771521\n",
       " -15.547060156739057\n",
       " -15.914089133602552\n",
       " -16.283518317437338\n",
       " -16.65533554451143\n",
       " -17.02952883356448\n",
       " -17.40608638130377\n",
       " -17.784996558053976\n",
       " -18.166247903553995"
      ]
     },
     "execution_count": 4,
     "metadata": {},
     "output_type": "execute_result"
    }
   ],
   "source": [
    "grid_points = 0:.1:10\n",
    "fun_val=Array{Float64,1}(undef, length(grid_points))\n",
    "\n",
    "for (count, arg)∈enumerate(grid_points)\n",
    "    fun_val[count] = Fun1(arg)\n",
    "end\n",
    "\n",
    "map(Fun1,grid_points)"
   ]
  },
  {
   "cell_type": "markdown",
   "metadata": {},
   "source": [
    "This function looks as follows:"
   ]
  },
  {
   "cell_type": "code",
   "execution_count": null,
   "metadata": {},
   "outputs": [],
   "source": [
    "plot(grid_points, fun_val, label=\"function\")\n",
    "hline!([0], label=\"zero\")"
   ]
  },
  {
   "cell_type": "markdown",
   "metadata": {},
   "source": [
    "## Bisection"
   ]
  },
  {
   "cell_type": "code",
   "execution_count": 2,
   "metadata": {},
   "outputs": [
    {
     "ename": "LoadError",
     "evalue": "UndefVarError: Fun1 not defined",
     "output_type": "error",
     "traceback": [
      "UndefVarError: Fun1 not defined",
      "",
      "Stacktrace:",
      " [1] top-level scope",
      "   @ In[2]:4",
      " [2] eval",
      "   @ ./boot.jl:360 [inlined]",
      " [3] include_string(mapexpr::typeof(REPL.softscope), mod::Module, code::String, filename::String)",
      "   @ Base ./loading.jl:1094"
     ]
    }
   ],
   "source": [
    "xₗ  = 0\n",
    "xᵣ = 10\n",
    "mid_point  = (xᵣ + xₗ)/2\n",
    "Fun1(  xₗ  )*Fun1( xᵣ ) #it's negative\n",
    "\n",
    "for i ∈ 1:100\n",
    "    \n",
    "    mid_point  = (xᵣ + xₗ)/2\n",
    "    if Fun1( mid_point ) * Fun1(  xₗ  ) < 0\n",
    "         xᵣ = mid_point\n",
    "    else\n",
    "         xₗ = mid_point\n",
    "    end\n",
    "    println(\"i=$i, mid_point = $(round(mid_point, digits=3)), Fun1($(round(mid_point, digits=3))) = $(round(Fun1(mid_point), digits=3))\")\n",
    "\n",
    "    if abs(Fun1(mid_point)) < .001 #Tolerance error\n",
    "        println(\" 😃   abs(Fun1(mid_point))=$(abs(Fun1(mid_point))), which less than .001!!!\")\n",
    "        break\n",
    "    end\n",
    "    \n",
    "end #i ∈ 1:100"
   ]
  },
  {
   "cell_type": "code",
   "execution_count": null,
   "metadata": {},
   "outputs": [],
   "source": []
  },
  {
   "cell_type": "code",
   "execution_count": null,
   "metadata": {},
   "outputs": [],
   "source": []
  },
  {
   "cell_type": "code",
   "execution_count": null,
   "metadata": {},
   "outputs": [],
   "source": [
    "plot(grid_points, fun_val, label=\"function\")\n",
    "hline!([0], label=\"zero\")\n",
    "vline!([mid_point], label=\"solution\")"
   ]
  },
  {
   "cell_type": "code",
   "execution_count": null,
   "metadata": {},
   "outputs": [],
   "source": []
  },
  {
   "cell_type": "markdown",
   "metadata": {},
   "source": [
    "## Ilustration of the algorithm"
   ]
  },
  {
   "cell_type": "code",
   "execution_count": 128,
   "metadata": {},
   "outputs": [
    {
     "name": "stdout",
     "output_type": "stream",
     "text": [
      "i=1, mid_point = 5.0, Fun1(5.0) = -2.247\n",
      "i=2, mid_point = 2.5, Fun1(2.5) = 2.823\n",
      "i=3, mid_point = 3.75, Fun1(3.75) = 0.577\n",
      "i=4, mid_point = 4.375, Fun1(4.375) = -0.768\n",
      "i=5, mid_point = 4.062, Fun1(4.062) = -0.078\n",
      "i=6, mid_point = 3.906, Fun1(3.906) = 0.254\n",
      "i=7, mid_point = 3.984, Fun1(3.984) = 0.089\n",
      "i=8, mid_point = 4.023, Fun1(4.023) = 0.006\n",
      "i=9, mid_point = 4.043, Fun1(4.043) = -0.036\n",
      "i=10, mid_point = 4.033, Fun1(4.033) = -0.015\n",
      "i=11, mid_point = 4.028, Fun1(4.028) = -0.005\n",
      "i=12, mid_point = 4.026, Fun1(4.026) = 0.0\n",
      " 😃   abs(Fun1(mid_point))=0.0004735185227016103, which less than .001!!!\n"
     ]
    }
   ],
   "source": [
    "grid_points = 0:.1:20\n",
    "fun_val=Array{Float64,1}(undef, length(grid_points))\n",
    "\n",
    "for (count, arg)∈enumerate(grid_points)\n",
    "    fun_val[count] = Fun1(arg)\n",
    "end\n",
    "\n",
    "\n",
    "plot(grid_points, fun_val, label=\"function\")\n",
    "hline!([0], label=\"zero\")\n",
    "\n",
    "xₗ  = Array{Float64, 1}(undef, 100)\n",
    "xᵣ = Array{Float64, 1}(undef, 100)\n",
    "mid_point = Array{Float64, 1}(undef, 100)\n",
    "\n",
    "xₗ[1]   = 0 \n",
    "xᵣ[1]  = 20\n",
    "mid_point[1] = (xₗ[1] +xᵣ[1] )/2\n",
    "\n",
    "\n",
    "for i ∈ 1:99\n",
    "\n",
    "    if Fun1(mid_point[i]) * Fun1(  xₗ[i]  ) < 0\n",
    "         xᵣ[i+1] = mid_point[i]\n",
    "         xₗ[i+1] = xₗ[i]\n",
    "    else\n",
    "         xₗ[i+1] = mid_point[i]\n",
    "         xᵣ[i+1] = xᵣ[i]\n",
    "    end\n",
    "    \n",
    "    mid_point[i+1] = (xₗ[i+1] + xᵣ[i+1] )/2\n",
    "\n",
    "    \n",
    "    println(\"i=$i, mid_point = $(round(mid_point[i+1], digits=3)), Fun1($(round(mid_point[i+1], digits=3))) = $(round(Fun1(mid_point[i+1]), digits=3))\")\n",
    "    \n",
    "    if abs(Fun1(mid_point[i+1])) < .001 #Tolerance error        \n",
    "        println(\" 😃   abs(Fun1(mid_point))=$(abs(Fun1(mid_point[i+1]))), which less than .001!!!\")\n",
    "        \n",
    "        break\n",
    "    end\n",
    "    \n",
    "end #i ∈ 1:100\n"
   ]
  },
  {
   "cell_type": "code",
   "execution_count": 129,
   "metadata": {},
   "outputs": [
    {
     "name": "stderr",
     "output_type": "stream",
     "text": [
      "┌ Info: Saved animation to \n",
      "│   fn = /Users/pytka/Dropbox/Docs/Mannheim/adv_macro/Fall 2021/anim.gif\n",
      "└ @ Plots /Users/pytka/.julia/packages/Plots/SVksJ/src/animation.jl:104\n"
     ]
    },
    {
     "data": {
      "text/html": [
       "<img src=\"data:image/gif;base64,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\" />"
      ],
      "text/plain": [
       "Plots.AnimatedGif(\"/Users/pytka/Dropbox/Docs/Mannheim/adv_macro/Fall 2021/anim.gif\")"
      ]
     },
     "execution_count": 129,
     "metadata": {},
     "output_type": "execute_result"
    }
   ],
   "source": [
    "anim = @animate for j∈1:10\n",
    "    plot(grid_points, fun_val, label=\"function\", xlim=[2.5 7.5])\n",
    "    for i∈1:j\n",
    "        annotate!([( mid_point[i], Fun1(mid_point[i]), \"$i\")])\n",
    "    end\n",
    "    hline!([0], label=\"zero\")\n",
    "end\n",
    "\n",
    "gif(anim, \"anim.gif\", fps = 5)"
   ]
  },
  {
   "cell_type": "markdown",
   "metadata": {},
   "source": [
    "#BUILT-IN FUNCTIONS\n",
    "#Root finding procedure.\n",
    "#One of examples of such a procedure you should know: BISECTION.\n"
   ]
  },
  {
   "cell_type": "code",
   "execution_count": 130,
   "metadata": {},
   "outputs": [
    {
     "data": {
      "text/plain": [
       "4.026100199345813"
      ]
     },
     "execution_count": 130,
     "metadata": {},
     "output_type": "execute_result"
    }
   ],
   "source": [
    "solution = fzero(Fun1, 1)"
   ]
  },
  {
   "cell_type": "code",
   "execution_count": 131,
   "metadata": {},
   "outputs": [
    {
     "data": {
      "text/plain": [
       "8.881784197001252e-16"
      ]
     },
     "execution_count": 131,
     "metadata": {},
     "output_type": "execute_result"
    }
   ],
   "source": [
    "\n",
    "Fun1(solution)"
   ]
  },
  {
   "cell_type": "markdown",
   "metadata": {},
   "source": [
    "# Iterative root finding procedure"
   ]
  },
  {
   "cell_type": "markdown",
   "metadata": {},
   "source": [
    "$$\n",
    "\\begin{cases} \n",
    "Fun_1(x,y) = x - \\sqrt{x+y} - 3\\\\ \n",
    "Fun_2(x,y) = y - \\sqrt{x+\\frac{1}{y}} - 5\n",
    "\\end{cases}\n",
    "$$"
   ]
  },
  {
   "cell_type": "code",
   "execution_count": 132,
   "metadata": {},
   "outputs": [
    {
     "data": {
      "text/plain": [
       "Fun2 (generic function with 1 method)"
      ]
     },
     "execution_count": 132,
     "metadata": {},
     "output_type": "execute_result"
    }
   ],
   "source": [
    "Fun1(x,y)=x-√(x+y)-3\n",
    "Fun2(x,y)=y-√(x+1/y)-5"
   ]
  },
  {
   "cell_type": "code",
   "execution_count": 133,
   "metadata": {},
   "outputs": [
    {
     "data": {
      "text/plain": [
       "0.0"
      ]
     },
     "execution_count": 133,
     "metadata": {},
     "output_type": "execute_result"
    }
   ],
   "source": [
    "y0 = .7\n",
    "x0 = fzero( x -> Fun1(x,y0), 1)\n",
    "Fun1(x0,y0)\n"
   ]
  },
  {
   "cell_type": "code",
   "execution_count": 134,
   "metadata": {},
   "outputs": [
    {
     "data": {
      "text/plain": [
       "-6.929834998627596"
      ]
     },
     "execution_count": 134,
     "metadata": {},
     "output_type": "execute_result"
    }
   ],
   "source": [
    "#But\n",
    "Fun2(x0,y0)\n"
   ]
  },
  {
   "cell_type": "code",
   "execution_count": 135,
   "metadata": {},
   "outputs": [
    {
     "data": {
      "text/plain": [
       "0.0"
      ]
     },
     "execution_count": 135,
     "metadata": {},
     "output_type": "execute_result"
    }
   ],
   "source": [
    "y0 = fzero( y -> Fun2(x0,y), 1)\n",
    "\n",
    "Fun2(x0,y0)\n",
    "# Fun1(x0,y0)\n"
   ]
  },
  {
   "cell_type": "code",
   "execution_count": 136,
   "metadata": {},
   "outputs": [
    {
     "data": {
      "text/plain": [
       "-1.098452432583965"
      ]
     },
     "execution_count": 136,
     "metadata": {},
     "output_type": "execute_result"
    }
   ],
   "source": [
    "Fun1(x0,y0)"
   ]
  },
  {
   "cell_type": "code",
   "execution_count": 137,
   "metadata": {},
   "outputs": [
    {
     "name": "stdout",
     "output_type": "stream",
     "text": [
      "Iteration no. 1. x₀=5.487460691435179, y₀=0.7,\n",
      "Iteration no. 1. Fun1(x0,y0)=0.0, Fun2(x0,y0)=-6.929834998627596\n",
      "---\n",
      "Iteration no. 1. x₀=5.487460691435179, y₀=7.371312241577558,\n",
      "Iteration no. 1. Fun1(x0,y0)=-1.098452432583965, Fun2(x0,y0)=0.0\n",
      "================================================================\n",
      "Iteration no. 2. x₀=6.759035477189157, y₀=7.371312241577558,\n",
      "Iteration no. 2. Fun1(x0,y0)=4.440892098500626e-16, Fun2(x0,y0)=-0.2544631739539298\n",
      "---\n",
      "Iteration no. 2. x₀=6.759035477189157, y₀=7.624916086558346,\n",
      "Iteration no. 2. Fun1(x0,y0)=-0.033582558383038474, Fun2(x0,y0)=0.0\n",
      "================================================================\n",
      "Iteration no. 3. x₀=6.797713766620498, y₀=7.624916086558346,\n",
      "Iteration no. 3. Fun1(x0,y0)=4.440892098500626e-16, Fun2(x0,y0)=-0.007357218192534987\n",
      "---\n",
      "Iteration no. 3. x₀=6.797713766620498, y₀=7.6322493687398625,\n",
      "Iteration no. 3. Fun1(x0,y0)=-0.0009653637299931184, Fun2(x0,y0)=0.0\n",
      "================================================================\n",
      "Iteration no. 4. x₀=6.798825452905907, y₀=7.6322493687398625,\n",
      "Iteration no. 4. Fun1(x0,y0)=4.440892098500626e-16, Fun2(x0,y0)=-0.00021115812788430333\n",
      "---\n",
      "Iteration no. 4. x₀=6.798825452905907, y₀=7.6324598406132855,\n",
      "Iteration no. 4. Fun1(x0,y0)=-2.770212906888503e-5, Fun2(x0,y0)=0.0\n",
      "================================================================\n",
      "Iteration no. 5. x₀=6.798857353783775, y₀=7.6324598406132855,\n",
      "Iteration no. 5. Fun1(x0,y0)=4.440892098500626e-16, Fun2(x0,y0)=-6.059131589353228e-6\n",
      "---\n",
      "Iteration no. 5. x₀=6.798857353783775, y₀=7.6324658800535685,\n",
      "Iteration no. 5. Fun1(x0,y0)=-7.94902135670128e-7, Fun2(x0,y0)=8.881784197001252e-16\n",
      "================================================================\n",
      "Iteration no. 6. x₀=6.798858269167314, y₀=7.6324658800535685,\n",
      "Iteration no. 6. Fun1(x0,y0)=0.0, Fun2(x0,y0)=-1.7386426698351443e-7\n",
      "---\n",
      "Iteration no. 6. x₀=6.798858269167314, y₀=7.632466053352803,\n",
      "Iteration no. 6. Fun1(x0,y0)=-2.280938415921696e-8, Fun2(x0,y0)=0.0\n",
      "================================================================\n",
      "Iteration no. 7. x₀=6.798858295433861, y₀=7.632466053352803,\n",
      "Iteration no. 7. Fun1(x0,y0)=0.0, Fun2(x0,y0)=-4.988962132301822e-9\n",
      "---\n",
      "Iteration no. 7. x₀=6.798858295433861, y₀=7.632466058325552,\n",
      "Iteration no. 7. Fun1(x0,y0)=-6.545062269935897e-10, Fun2(x0,y0)=8.881784197001252e-16\n",
      "================================================================\n",
      "Iteration no. 8. x₀=6.79885829618757, y₀=7.632466058325552,\n",
      "Iteration no. 8. Fun1(x0,y0)=4.440892098500626e-16, Fun2(x0,y0)=-1.4315482133042678e-10\n",
      "---\n",
      "Iteration no. 8. x₀=6.79885829618757, y₀=7.632466058468243,\n",
      "Iteration no. 8. Fun1(x0,y0)=-1.8780532684559148e-11, Fun2(x0,y0)=0.0\n",
      "================================================================\n",
      "Iteration no. 9. x₀=6.798858296209197, y₀=7.632466058468243,\n",
      "Iteration no. 9. Fun1(x0,y0)=4.440892098500626e-16, Fun2(x0,y0)=-4.107825191113079e-12\n",
      "---\n",
      "Iteration no. 9. x₀=6.798858296209197, y₀=7.632466058472337,\n",
      "Iteration no. 9. Fun1(x0,y0)=-5.38680211548126e-13, Fun2(x0,y0)=0.0\n",
      "================================================================\n"
     ]
    },
    {
     "data": {
      "text/plain": [
       "0.0"
      ]
     },
     "execution_count": 137,
     "metadata": {},
     "output_type": "execute_result"
    }
   ],
   "source": [
    "y0 = .7\n",
    "for i∈1:9\n",
    "    global x0 = fzero( x -> Fun1(x,y0), 1)\n",
    "    println(\"Iteration no. $i. x₀=$x0, y₀=$y0,\")\n",
    "    println(\"Iteration no. $i. Fun1(x0,y0)=$(Fun1(x0,y0)), Fun2(x0,y0)=$(Fun2(x0,y0))\")\n",
    "    println(\"---\")\n",
    "    global y0 = fzero( y -> Fun2(x0,y), 1)\n",
    "    println(\"Iteration no. $i. x₀=$x0, y₀=$y0,\")\n",
    "    println(\"Iteration no. $i. Fun1(x0,y0)=$(Fun1(x0,y0)), Fun2(x0,y0)=$(Fun2(x0,y0))\")\n",
    "    println(\"================================================================\")\n",
    "end\n",
    "\n",
    "Fun1(x0,y0)\n",
    "Fun2(x0,y0)\n"
   ]
  },
  {
   "cell_type": "markdown",
   "metadata": {},
   "source": [
    "## Example of iterative procedure"
   ]
  },
  {
   "cell_type": "code",
   "execution_count": 138,
   "metadata": {},
   "outputs": [
    {
     "data": {
      "text/plain": [
       "0.8867"
      ]
     },
     "execution_count": 138,
     "metadata": {},
     "output_type": "execute_result"
    }
   ],
   "source": [
    "# Parameters\n",
    "\n",
    "α = .189 #price elasticity from Aguiar-Hurst (AER, 2007) https://www.aeaweb.org/articles?id=10.1257/aer.97.5.1533\n",
    "δ = .33\n",
    "L = 40\n",
    "R = 10\n",
    "y = 1\n",
    "β = .8867 #.997^L\n"
   ]
  },
  {
   "cell_type": "markdown",
   "metadata": {},
   "source": [
    "$$p_R = \\left( \\frac{1}{1+\\frac{c_R}{\\alpha}} \\right)^{-\\alpha}\\\\\n",
    "  p_W = \\left( \\frac{1-\\delta}{1+\\frac{c_W}{\\alpha}} \\right)^{-\\alpha}\\\\\n",
    "  c_R = \\sqrt{ \\beta \\frac{p_W}{p_R}  } c_W\\\\\n",
    "  p_R c_R \\cdot\\rho_R + p_W c_W \\cdot\\rho_W =  y\\cdot \\rho_W$$"
   ]
  },
  {
   "cell_type": "code",
   "execution_count": 139,
   "metadata": {},
   "outputs": [
    {
     "data": {
      "text/plain": [
       "cR (generic function with 1 method)"
      ]
     },
     "execution_count": 139,
     "metadata": {},
     "output_type": "execute_result"
    }
   ],
   "source": [
    "pR(cR)     = (1/(1+cR/α))^(-α)\n",
    "pW(cW)     = ((1-δ)/(1+cW/α))^(-α)\n",
    "cR(cW, cR) = √(β*pW(cW)/pR(cR)) * cW"
   ]
  },
  {
   "cell_type": "code",
   "execution_count": 140,
   "metadata": {},
   "outputs": [
    {
     "data": {
      "text/plain": [
       "0.0"
      ]
     },
     "execution_count": 140,
     "metadata": {},
     "output_type": "execute_result"
    }
   ],
   "source": [
    "cᴿ_value = .9 #Initial guess for retired consumption\n",
    "\n",
    "#Implied value of working consumption given cᴿ_value:\n",
    "cᵂ_value = fzero( cW -> pR(cR(cW,cᴿ_value))*cR(cW, cᴿ_value)*R + pW(cW)*cW*L-L*y, 1)\n",
    "\n",
    "pR(cR(cᵂ_value,cᴿ_value))*cR(cᵂ_value, cᴿ_value)*R + pW(cᵂ_value)*cᵂ_value*L-L*y\n"
   ]
  },
  {
   "cell_type": "code",
   "execution_count": 141,
   "metadata": {},
   "outputs": [
    {
     "data": {
      "text/plain": [
       "0.5523917350799546"
      ]
     },
     "execution_count": 141,
     "metadata": {},
     "output_type": "execute_result"
    }
   ],
   "source": [
    "#but cR(cᵂ_value , cᴿ_value) ≠ cᴿ_value --- contradiction\n",
    "cR(cᵂ_value , cᴿ_value)\n"
   ]
  },
  {
   "cell_type": "code",
   "execution_count": 142,
   "metadata": {},
   "outputs": [
    {
     "name": "stdout",
     "output_type": "stream",
     "text": [
      "------------------------------------------\n",
      "👻 Iterative procedure STARTS:\n",
      "Iteration No. 1, cᴿ=0.58347, cᵂ=0.55239\n",
      "Iteration No. 2, cᴿ=0.57968, cᵂ=0.56885\n",
      "Iteration No. 3, cᴿ=0.57990, cᵂ=0.56790\n",
      "Iteration No. 4, cᴿ=0.57989, cᵂ=0.56795\n",
      "Iteration No. 5, cᴿ=0.57989, cᵂ=0.56795\n",
      "Iteration No. 6, cᴿ=0.57989, cᵂ=0.56795\n",
      "Iteration No. 7, cᴿ=0.57989, cᵂ=0.56795\n",
      "  0.010281 seconds (13.61 k allocations: 343.814 KiB, 80.20% compilation time)\n",
      "------------------------------------------\n"
     ]
    }
   ],
   "source": [
    "println(\"------------------------------------------\")\n",
    "println(\"👻 Iterative procedure STARTS:\")\n",
    "@time for i ∈ 1:7\n",
    "    global cᵂ_value = fzero( cW -> pR(cR(cW,cᴿ_value))*cR(cW, cᴿ_value)*R + pW(cW)*cW*L-L*y, 1)\n",
    "    global cᴿ_value = cR(cᵂ_value, cᴿ_value)\n",
    "    println(\"Iteration No. $i, cᴿ=$(@sprintf(\"%.5f\", cᵂ_value)), cᵂ=$(@sprintf(\"%.5f\", cᴿ_value))\")\n",
    "end\n",
    "println(\"------------------------------------------\")\n"
   ]
  },
  {
   "cell_type": "code",
   "execution_count": 143,
   "metadata": {},
   "outputs": [
    {
     "data": {
      "text/plain": [
       "1.0590227361717552e-8"
      ]
     },
     "execution_count": 143,
     "metadata": {},
     "output_type": "execute_result"
    }
   ],
   "source": [
    "pR(cR(cᵂ_value,cᴿ_value))*cR(cᵂ_value, cᴿ_value)*R + pW(cᵂ_value)*cᵂ_value*L-L*y"
   ]
  },
  {
   "cell_type": "code",
   "execution_count": 144,
   "metadata": {},
   "outputs": [
    {
     "data": {
      "text/plain": [
       "0.567948706299423"
      ]
     },
     "execution_count": 144,
     "metadata": {},
     "output_type": "execute_result"
    }
   ],
   "source": [
    "cR(cᵂ_value , cᴿ_value)"
   ]
  },
  {
   "cell_type": "code",
   "execution_count": 145,
   "metadata": {},
   "outputs": [
    {
     "name": "stdout",
     "output_type": "stream",
     "text": [
      "Summary statistics:\n",
      "===================================================\n",
      "Retirement to working prices      💵   : 0.9244.\n",
      "Retirement to working cons.       🍎   : 0.9794.\n",
      "Retirement to working cons. exp.  💵🍎  : 0.9053.\n",
      "===================================================\n"
     ]
    }
   ],
   "source": [
    "println(\"Summary statistics:\")\n",
    "println(\"===================================================\")\n",
    "println(\"Retirement to working prices      💵   : $(@sprintf(\"%.4f\",(pR(cR(cᵂ_value, cᴿ_value ))/pW(cᵂ_value)))).\")\n",
    "println(\"Retirement to working cons.       🍎   : $(@sprintf(\"%.4f\",(cR(cᵂ_value,cᴿ_value)/cᵂ_value))).\")\n",
    "println(\"Retirement to working cons. exp.  💵🍎  : $(@sprintf(\"%.4f\",(pR(cR(cᵂ_value,cᴿ_value))*cR(cᵂ_value,cᴿ_value)/(pW(cᵂ_value)*cᵂ_value)))).\")\n",
    "println(\"===================================================\")\n"
   ]
  },
  {
   "cell_type": "code",
   "execution_count": null,
   "metadata": {},
   "outputs": [],
   "source": []
  }
 ],
 "metadata": {
  "kernelspec": {
   "display_name": "Julia 1.6.0",
   "language": "julia",
   "name": "julia-1.6"
  },
  "language_info": {
   "file_extension": ".jl",
   "mimetype": "application/julia",
   "name": "julia",
   "version": "1.6.0"
  },
  "orig_nbformat": 4
 },
 "nbformat": 4,
 "nbformat_minor": 2
}
