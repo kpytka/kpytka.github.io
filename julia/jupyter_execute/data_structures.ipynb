{
 "cells": [
  {
   "cell_type": "markdown",
   "metadata": {},
   "source": [
    "## Data structures\n",
    "\n",
    "\n"
   ]
  },
  {
   "cell_type": "markdown",
   "metadata": {},
   "source": [
    "(arrays)=\n",
    "### Arrays\n",
    "\n",
    "Arrays are one of the most important data structures for economists. They are equivalent of vectors and matrices in `Matlab` or `R`. \n",
    "Arrays are multi-dimensional objects containing numbers (or different objects).\n"
   ]
  },
  {
   "cell_type": "markdown",
   "metadata": {},
   "source": [
    "A vector is a one-dimensional array. To get a row vector you use the following convention:"
   ]
  },
  {
   "cell_type": "code",
   "execution_count": 1,
   "metadata": {},
   "outputs": [
    {
     "data": {
      "text/plain": [
       "1×3 Matrix{Int64}:\n",
       " 1  2  3"
      ]
     },
     "execution_count": 1,
     "metadata": {},
     "output_type": "execute_result"
    }
   ],
   "source": [
    "A = [1 2 3]"
   ]
  },
  {
   "cell_type": "markdown",
   "metadata": {},
   "source": [
    "You get column vectors by using `;` as the separator of elements:"
   ]
  },
  {
   "cell_type": "code",
   "execution_count": 2,
   "metadata": {},
   "outputs": [
    {
     "data": {
      "text/plain": [
       "3-element Vector{Int64}:\n",
       " 1\n",
       " 2\n",
       " 3"
      ]
     },
     "execution_count": 2,
     "metadata": {},
     "output_type": "execute_result"
    }
   ],
   "source": [
    "B = [1; 2; 3]"
   ]
  },
  {
   "cell_type": "markdown",
   "metadata": {},
   "source": [
    "All elements of arrays must be of the same type. In case of type incompatibility across elements, coercion is performed:"
   ]
  },
  {
   "cell_type": "code",
   "execution_count": 3,
   "metadata": {},
   "outputs": [
    {
     "name": "stdout",
     "output_type": "stream",
     "text": [
      "c = [1 π 2.3] = [1.0 3.141592653589793 2.3]\n",
      "typeof(c) = Matrix{Float64}\n"
     ]
    },
    {
     "data": {
      "text/plain": [
       "Matrix{Float64} (alias for Array{Float64, 2})"
      ]
     },
     "execution_count": 3,
     "metadata": {},
     "output_type": "execute_result"
    }
   ],
   "source": [
    "@show c = [1 π 2.3]\n",
    "\n",
    "@show typeof(c) #It's Float64 despite the first element being an integer."
   ]
  },
  {
   "cell_type": "code",
   "execution_count": 4,
   "metadata": {},
   "outputs": [
    {
     "data": {
      "text/plain": [
       "2×3 Matrix{Int64}:\n",
       " 1  2  3\n",
       " 3  4  5"
      ]
     },
     "execution_count": 4,
     "metadata": {},
     "output_type": "execute_result"
    }
   ],
   "source": [
    "X = [1 2 3;\n",
    "     3 4 5]"
   ]
  },
  {
   "cell_type": "markdown",
   "metadata": {},
   "source": [
    "It is a good practice to initialize arrays before assigning values to their elements.\n",
    "To create an empty one-dimensional array with `K` elements of type `TYPE` \n",
    "you use `Array{TYPE}(undef, K)`.\n",
    "Below an illustrating example:"
   ]
  },
  {
   "cell_type": "code",
   "execution_count": 5,
   "metadata": {},
   "outputs": [
    {
     "data": {
      "text/plain": [
       "10-element Vector{Float64}:\n",
       " 3.5e-323\n",
       " 8.4e-323\n",
       " 9.4e-323\n",
       " 1.1e-322\n",
       " 1.2e-322\n",
       " 1.24e-322\n",
       " 1.43e-322\n",
       " 1.5e-322\n",
       " 1.53e-322\n",
       " 5.0e-324"
      ]
     },
     "execution_count": 5,
     "metadata": {},
     "output_type": "execute_result"
    }
   ],
   "source": [
    "Array{Float64}(undef, 10)"
   ]
  },
  {
   "cell_type": "markdown",
   "metadata": {},
   "source": [
    "Argument `undef` means that nothing particular is assigned to all elements.\n",
    "Instead, existing values stored previously in the memory are assigned."
   ]
  },
  {
   "cell_type": "markdown",
   "metadata": {},
   "source": [
    "To create an array of dimensions $K\\times N\\times S\\times W$ you use\n",
    "`Array{TYPE}(undef, K, N, S, W)`.\n",
    "Below an illustrating example:\n"
   ]
  },
  {
   "cell_type": "code",
   "execution_count": 6,
   "metadata": {},
   "outputs": [
    {
     "data": {
      "text/plain": [
       "2×3×2×2 Array{Int64, 4}:\n",
       "[:, :, 1, 1] =\n",
       " 5630669552  5630669680  5630692496\n",
       " 5630669616  5630691888  5630691984\n",
       "\n",
       "[:, :, 2, 1] =\n",
       " 5630669712  5630669808  5630692176\n",
       " 5630669776  4930211680  4734170112\n",
       "\n",
       "[:, :, 1, 2] =\n",
       " 5630669904  5630670000  4734168896\n",
       " 5630669968  5630692368  4927447440\n",
       "\n",
       "[:, :, 2, 2] =\n",
       " 4734170336  0  0\n",
       "          0  0  0"
      ]
     },
     "execution_count": 6,
     "metadata": {},
     "output_type": "execute_result"
    }
   ],
   "source": [
    "Array{Int}(undef, 2, 3, 2, 2)"
   ]
  },
  {
   "cell_type": "markdown",
   "metadata": {},
   "source": [
    "To get an array with all elements constant, you use command `fill`:"
   ]
  },
  {
   "cell_type": "code",
   "execution_count": 7,
   "metadata": {},
   "outputs": [
    {
     "data": {
      "text/plain": [
       "4×3 Matrix{Float64}:\n",
       " 9.8696  9.8696  9.8696\n",
       " 9.8696  9.8696  9.8696\n",
       " 9.8696  9.8696  9.8696\n",
       " 9.8696  9.8696  9.8696"
      ]
     },
     "execution_count": 7,
     "metadata": {},
     "output_type": "execute_result"
    }
   ],
   "source": [
    "A = fill(π^2, 4, 3)"
   ]
  },
  {
   "cell_type": "markdown",
   "metadata": {},
   "source": [
    "To get an object of the same size and data type, function `similar` can be useful. Elements of the new objects will contain information previously allocated in the memory."
   ]
  },
  {
   "cell_type": "code",
   "execution_count": 8,
   "metadata": {},
   "outputs": [
    {
     "data": {
      "text/plain": [
       "4×3 Matrix{Float64}:\n",
       " 2.31091e-314  2.31091e-314  2.31091e-314\n",
       " 2.31091e-314  2.31091e-314  2.31091e-314\n",
       " 2.31091e-314  2.31091e-314  2.31091e-314\n",
       " 2.31091e-314  2.31091e-314  2.30435e-314"
      ]
     },
     "execution_count": 8,
     "metadata": {},
     "output_type": "execute_result"
    }
   ],
   "source": [
    "B = similar(A)"
   ]
  },
  {
   "cell_type": "markdown",
   "metadata": {},
   "source": [
    "Arrays with zero elements can be constructed with `zeros`:"
   ]
  },
  {
   "cell_type": "code",
   "execution_count": 9,
   "metadata": {},
   "outputs": [
    {
     "data": {
      "text/plain": [
       "3×2 Matrix{Float64}:\n",
       " 0.0  0.0\n",
       " 0.0  0.0\n",
       " 0.0  0.0"
      ]
     },
     "execution_count": 9,
     "metadata": {},
     "output_type": "execute_result"
    }
   ],
   "source": [
    "zeros(3,2)"
   ]
  },
  {
   "cell_type": "markdown",
   "metadata": {},
   "source": [
    "To get an identity square matrix of dimension $K$ function `I` from package `LinearAlgebra` can be used:\n",
    "\n",
    "````{margin}\n",
    "To load package to the memory, you use `using PackageName`. To install packages you use `Pkg` package:\n",
    "    ```\n",
    "    using Pkg; Pkg.add(\"PackageName\")\n",
    "    ```\n",
    "````"
   ]
  },
  {
   "cell_type": "code",
   "execution_count": 10,
   "metadata": {},
   "outputs": [
    {
     "data": {
      "text/plain": [
       "5×5 Diagonal{Bool, Vector{Bool}}:\n",
       " 1  ⋅  ⋅  ⋅  ⋅\n",
       " ⋅  1  ⋅  ⋅  ⋅\n",
       " ⋅  ⋅  1  ⋅  ⋅\n",
       " ⋅  ⋅  ⋅  1  ⋅\n",
       " ⋅  ⋅  ⋅  ⋅  1"
      ]
     },
     "execution_count": 10,
     "metadata": {},
     "output_type": "execute_result"
    }
   ],
   "source": [
    "using LinearAlgebra\n",
    "I(5)"
   ]
  },
  {
   "cell_type": "markdown",
   "metadata": {},
   "source": [
    "```{margin}\n",
    "`I` generates a matrix with boolean elements (with `true` and `false` values) but it can be used normally with arrays of other numeric types thanks to coercion.\n",
    "```"
   ]
  },
  {
   "cell_type": "markdown",
   "metadata": {},
   "source": [
    "#### Simple array operations\n",
    "\n",
    "Except square-bracket notations, accessing arrays in `Julia` is almost one-to-one analogy to `Matlab`:"
   ]
  },
  {
   "cell_type": "code",
   "execution_count": 11,
   "metadata": {},
   "outputs": [
    {
     "data": {
      "text/plain": [
       "2×5 Matrix{Int64}:\n",
       " 1  2  3  4   5\n",
       " 6  7  5  9  12"
      ]
     },
     "execution_count": 11,
     "metadata": {},
     "output_type": "execute_result"
    }
   ],
   "source": [
    "A = [1 2 3 4 5;\n",
    "     6 7 5 9 12]"
   ]
  },
  {
   "cell_type": "code",
   "execution_count": 12,
   "metadata": {},
   "outputs": [
    {
     "data": {
      "text/plain": [
       "(2, 5)"
      ]
     },
     "execution_count": 12,
     "metadata": {},
     "output_type": "execute_result"
    }
   ],
   "source": [
    "size(A)"
   ]
  },
  {
   "cell_type": "code",
   "execution_count": 13,
   "metadata": {},
   "outputs": [
    {
     "data": {
      "text/plain": [
       "5-element Vector{Int64}:\n",
       " 1\n",
       " 2\n",
       " 3\n",
       " 4\n",
       " 5"
      ]
     },
     "execution_count": 13,
     "metadata": {},
     "output_type": "execute_result"
    }
   ],
   "source": [
    "A[1,:] #1st row"
   ]
  },
  {
   "cell_type": "code",
   "execution_count": 14,
   "metadata": {},
   "outputs": [
    {
     "data": {
      "text/plain": [
       "2-element Vector{Int64}:\n",
       " 1\n",
       " 6"
      ]
     },
     "execution_count": 14,
     "metadata": {},
     "output_type": "execute_result"
    }
   ],
   "source": [
    "A[:,1] #1st column"
   ]
  },
  {
   "cell_type": "code",
   "execution_count": 15,
   "metadata": {},
   "outputs": [
    {
     "data": {
      "text/plain": [
       "2×2 Matrix{Int64}:\n",
       " 1  3\n",
       " 6  5"
      ]
     },
     "execution_count": 15,
     "metadata": {},
     "output_type": "execute_result"
    }
   ],
   "source": [
    "A[:,[1,3]] #1st and 3rd column"
   ]
  },
  {
   "cell_type": "code",
   "execution_count": 16,
   "metadata": {},
   "outputs": [
    {
     "data": {
      "text/plain": [
       "2×3 Matrix{Int64}:\n",
       " 3  4   5\n",
       " 5  9  12"
      ]
     },
     "execution_count": 16,
     "metadata": {},
     "output_type": "execute_result"
    }
   ],
   "source": [
    "A[:,3:end] #from 3rd to the last columns"
   ]
  },
  {
   "cell_type": "code",
   "execution_count": 17,
   "metadata": {},
   "outputs": [
    {
     "data": {
      "text/plain": [
       "3-element Vector{Int64}:\n",
       " 3\n",
       " 4\n",
       " 5"
      ]
     },
     "execution_count": 17,
     "metadata": {},
     "output_type": "execute_result"
    }
   ],
   "source": [
    "A[1,3:end] #1st row and from 3rd to the last columns"
   ]
  },
  {
   "cell_type": "markdown",
   "metadata": {},
   "source": [
    "Just like with scalars, arithmetic operations on arrays of _the same dimensions_ work in an analogous way:"
   ]
  },
  {
   "cell_type": "code",
   "execution_count": 18,
   "metadata": {},
   "outputs": [],
   "source": [
    "A = [1 2;3 4];\n",
    "B = I(2);"
   ]
  },
  {
   "cell_type": "code",
   "execution_count": 19,
   "metadata": {},
   "outputs": [
    {
     "data": {
      "text/plain": [
       "2×2 Matrix{Int64}:\n",
       " 2  2\n",
       " 3  5"
      ]
     },
     "execution_count": 19,
     "metadata": {},
     "output_type": "execute_result"
    }
   ],
   "source": [
    "A + B"
   ]
  },
  {
   "cell_type": "code",
   "execution_count": 20,
   "metadata": {},
   "outputs": [
    {
     "data": {
      "text/plain": [
       "2×2 Matrix{Int64}:\n",
       "  7  10\n",
       " 15  22"
      ]
     },
     "execution_count": 20,
     "metadata": {},
     "output_type": "execute_result"
    }
   ],
   "source": [
    "A*A"
   ]
  },
  {
   "cell_type": "code",
   "execution_count": 21,
   "metadata": {},
   "outputs": [
    {
     "data": {
      "text/plain": [
       "2×2 Matrix{Int64}:\n",
       " 1  2\n",
       " 3  4"
      ]
     },
     "execution_count": 21,
     "metadata": {},
     "output_type": "execute_result"
    }
   ],
   "source": [
    "A"
   ]
  },
  {
   "cell_type": "code",
   "execution_count": 22,
   "metadata": {},
   "outputs": [
    {
     "data": {
      "text/plain": [
       "2×2 adjoint(::Matrix{Int64}) with eltype Int64:\n",
       " 1  3\n",
       " 2  4"
      ]
     },
     "execution_count": 22,
     "metadata": {},
     "output_type": "execute_result"
    }
   ],
   "source": [
    "A' #transposition"
   ]
  },
  {
   "cell_type": "code",
   "execution_count": 23,
   "metadata": {},
   "outputs": [
    {
     "data": {
      "text/plain": [
       "2×2 Matrix{Float64}:\n",
       " -2.0   1.0\n",
       "  1.5  -0.5"
      ]
     },
     "execution_count": 23,
     "metadata": {},
     "output_type": "execute_result"
    }
   ],
   "source": [
    "A^(-1) #invert matrix"
   ]
  },
  {
   "cell_type": "code",
   "execution_count": 24,
   "metadata": {},
   "outputs": [
    {
     "data": {
      "text/plain": [
       "4"
      ]
     },
     "execution_count": 24,
     "metadata": {},
     "output_type": "execute_result"
    }
   ],
   "source": [
    "maximum(A) #notice that `max`` works in a bit different way than in Matlab!"
   ]
  },
  {
   "cell_type": "code",
   "execution_count": 25,
   "metadata": {},
   "outputs": [
    {
     "data": {
      "text/plain": [
       "2×2 Matrix{Float64}:\n",
       " 1.0          0.0\n",
       " 2.22045e-16  1.0"
      ]
     },
     "execution_count": 25,
     "metadata": {},
     "output_type": "execute_result"
    }
   ],
   "source": [
    "A^(-1)*A "
   ]
  },
  {
   "cell_type": "code",
   "execution_count": 26,
   "metadata": {},
   "outputs": [
    {
     "data": {
      "text/plain": [
       "6×6 Matrix{Int64}:\n",
       " 1  0  0  2  0  0\n",
       " 0  1  0  0  2  0\n",
       " 0  0  1  0  0  2\n",
       " 3  0  0  4  0  0\n",
       " 0  3  0  0  4  0\n",
       " 0  0  3  0  0  4"
      ]
     },
     "execution_count": 26,
     "metadata": {},
     "output_type": "execute_result"
    }
   ],
   "source": [
    "kron(A,I(3))"
   ]
  },
  {
   "cell_type": "markdown",
   "metadata": {},
   "source": [
    "Nonetheless, if we try to add an object of incompatible dimensions (including scalars),\n",
    "we will get an error message, just like in an example below:"
   ]
  },
  {
   "cell_type": "code",
   "execution_count": 27,
   "metadata": {},
   "outputs": [
    {
     "ename": "LoadError",
     "evalue": "MethodError: no method matching +(::Matrix{Int64}, ::Int64)\nFor element-wise addition, use broadcasting with dot syntax: array .+ scalar\n\u001b[0mClosest candidates are:\n\u001b[0m  +(::Any, ::Any, \u001b[91m::Any\u001b[39m, \u001b[91m::Any...\u001b[39m) at operators.jl:560\n\u001b[0m  +(\u001b[91m::T\u001b[39m, ::T) where T<:Union{Int128, Int16, Int32, Int64, Int8, UInt128, UInt16, UInt32, UInt64, UInt8} at int.jl:87\n\u001b[0m  +(\u001b[91m::Rational\u001b[39m, ::Integer) at rational.jl:288\n\u001b[0m  ...",
     "output_type": "error",
     "traceback": [
      "MethodError: no method matching +(::Matrix{Int64}, ::Int64)\nFor element-wise addition, use broadcasting with dot syntax: array .+ scalar\n\u001b[0mClosest candidates are:\n\u001b[0m  +(::Any, ::Any, \u001b[91m::Any\u001b[39m, \u001b[91m::Any...\u001b[39m) at operators.jl:560\n\u001b[0m  +(\u001b[91m::T\u001b[39m, ::T) where T<:Union{Int128, Int16, Int32, Int64, Int8, UInt128, UInt16, UInt32, UInt64, UInt8} at int.jl:87\n\u001b[0m  +(\u001b[91m::Rational\u001b[39m, ::Integer) at rational.jl:288\n\u001b[0m  ...",
      "",
      "Stacktrace:",
      " [1] top-level scope",
      "   @ In[27]:1",
      " [2] eval",
      "   @ ./boot.jl:360 [inlined]",
      " [3] include_string(mapexpr::typeof(REPL.softscope), mod::Module, code::String, filename::String)",
      "   @ Base ./loading.jl:1094"
     ]
    }
   ],
   "source": [
    "A + 1"
   ]
  },
  {
   "cell_type": "markdown",
   "metadata": {},
   "source": [
    "This can be perceived as a particularly bizzare and excessively formal thing. \n",
    "That said, at the development stage there were reasons for this.\n",
    "Furthermore, notice that in Mathematics this type of operations, $\\mathbb{A}+1$, in most cases is also forbidden.\n",
    "One (extremely inefficient but didactically useful) solution to this problem is to increase the size of the smaller object by using `repeat`.\n",
    "This function constructs an array by repeating the input _array_ a given number of times in each out of the provided dimension.\n",
    "\n",
    "Thus, to compute $\\mathbb{A}+1,$ we have to increase the size of $1$ in such a way that the new object fits the size of $\\mathbb{A}$.\n",
    "As we remember the size of $\\mathbb{A}$ is $2\\times 2.$\n",
    "Just to double check, let's use function `size`."
   ]
  },
  {
   "cell_type": "code",
   "execution_count": null,
   "metadata": {},
   "outputs": [
    {
     "data": {
      "text/plain": [
       "(2, 2)"
      ]
     },
     "metadata": {},
     "output_type": "display_data"
    }
   ],
   "source": [
    "size(A)"
   ]
  },
  {
   "cell_type": "markdown",
   "metadata": {},
   "source": [
    "```{margin}\n",
    "The first argument of `repeat` is the input array (note that we need to write the array form `[1]` fort this reason that a scalar object `1` is not accepted by the function), next arguments tell us how many times in each dimension the object should be repeated.\n",
    "```"
   ]
  },
  {
   "cell_type": "markdown",
   "metadata": {},
   "source": [
    "Below you can find `repeat` at play:"
   ]
  },
  {
   "cell_type": "code",
   "execution_count": null,
   "metadata": {},
   "outputs": [
    {
     "data": {
      "text/plain": [
       "3-element Vector{Int64}:\n",
       " 1\n",
       " 1\n",
       " 1"
      ]
     },
     "metadata": {},
     "output_type": "display_data"
    }
   ],
   "source": [
    "repeat([1], 3)"
   ]
  },
  {
   "cell_type": "code",
   "execution_count": null,
   "metadata": {},
   "outputs": [
    {
     "data": {
      "text/plain": [
       "3×2 Matrix{Int64}:\n",
       " 1  1\n",
       " 1  1\n",
       " 1  1"
      ]
     },
     "metadata": {},
     "output_type": "display_data"
    }
   ],
   "source": [
    "repeat([1], 3, 2)"
   ]
  },
  {
   "cell_type": "code",
   "execution_count": null,
   "metadata": {},
   "outputs": [
    {
     "data": {
      "text/plain": [
       "4×3×2 Array{Int64, 3}:\n",
       "[:, :, 1] =\n",
       " 1  1  1\n",
       " 1  1  1\n",
       " 1  1  1\n",
       " 1  1  1\n",
       "\n",
       "[:, :, 2] =\n",
       " 1  1  1\n",
       " 1  1  1\n",
       " 1  1  1\n",
       " 1  1  1"
      ]
     },
     "metadata": {},
     "output_type": "display_data"
    }
   ],
   "source": [
    "repeat([1], 4, 3, 2)"
   ]
  },
  {
   "cell_type": "code",
   "execution_count": null,
   "metadata": {},
   "outputs": [
    {
     "data": {
      "text/plain": [
       "4×3 Matrix{Int64}:\n",
       " 1  1  1\n",
       " 2  2  2\n",
       " 1  1  1\n",
       " 2  2  2"
      ]
     },
     "metadata": {},
     "output_type": "display_data"
    }
   ],
   "source": [
    "repeat([1; 2], 2, 3) #input argument: column vector"
   ]
  },
  {
   "cell_type": "code",
   "execution_count": null,
   "metadata": {},
   "outputs": [
    {
     "data": {
      "text/plain": [
       "2×6 Matrix{Int64}:\n",
       " 1  2  1  2  1  2\n",
       " 1  2  1  2  1  2"
      ]
     },
     "metadata": {},
     "output_type": "display_data"
    }
   ],
   "source": [
    "repeat([1 2], 2, 3) #input argument: row vector"
   ]
  },
  {
   "cell_type": "markdown",
   "metadata": {},
   "source": [
    "Consequently, we are in the position to compute $\\mathbb{A}+1:$"
   ]
  },
  {
   "cell_type": "code",
   "execution_count": null,
   "metadata": {},
   "outputs": [
    {
     "data": {
      "text/plain": [
       "2×2 Matrix{Int64}:\n",
       " 2  3\n",
       " 4  5"
      ]
     },
     "metadata": {},
     "output_type": "display_data"
    }
   ],
   "source": [
    "A + repeat([1], 2, 2)"
   ]
  },
  {
   "cell_type": "markdown",
   "metadata": {},
   "source": [
    "An addition of two arrays of different sizes can be conducted analogously:"
   ]
  },
  {
   "cell_type": "code",
   "execution_count": null,
   "metadata": {},
   "outputs": [
    {
     "data": {
      "text/plain": [
       "2×2 Matrix{Int64}:\n",
       " 1  2\n",
       " 4  5"
      ]
     },
     "metadata": {},
     "output_type": "display_data"
    }
   ],
   "source": [
    "A + repeat([0; 1], 1, 2)"
   ]
  },
  {
   "cell_type": "markdown",
   "metadata": {},
   "source": [
    ":::{note}\n",
    "That being said, by no means use this approach in your daily use.\n",
    "A _much more recommended_ and **efficient** way to operate on objects of different sizes is to use broadcasting or mapping.\n",
    "I discuss it in more details in [one of the further secions](broadcasting).\n",
    ":::"
   ]
  },
  {
   "cell_type": "markdown",
   "metadata": {},
   "source": [
    "(assign)=\n",
    "#### Assignment operator (`=`) and arrays: easy for Pythonistas, confusing for Matlabians"
   ]
  },
  {
   "cell_type": "markdown",
   "metadata": {},
   "source": [
    "What can be quite confusing at first for people with the `Matlab` background is how the assignment operator (`=`) works with arrays in `Julia`. \n",
    "In `Matlab` if we want to create a matrix `V1` that is a copy of another matrix `V0` it is enough to write:\n",
    "\n",
    "```\n",
    "    V1=V0\n",
    "```\n",
    "\n",
    "```{note}\n",
    "Henceforth, there are two _separate_ matrices in the memory, `V1` and `V0`. \n",
    "Any changes in either of those will not affect the other one.\n",
    "In `Julia` this works in a very different way. \n",
    "Exactly like in `Python`, running `V1=V0` will create a new _pointer_ to the memory allocated for `V0`. \n",
    "Both objects, `V1` and `V0`, share the same information.\n",
    "Consequently, any changes in the memory through accessing `V1` will affect the data pointed by `V0`, and vice versa.\n",
    "Below you can find an illustration of this language feature.\n",
    "```"
   ]
  },
  {
   "cell_type": "code",
   "execution_count": null,
   "metadata": {},
   "outputs": [
    {
     "name": "stdout",
     "output_type": "stream",
     "text": [
      "V₀ = [1 2 3] = [1 2 3]\n"
     ]
    }
   ],
   "source": [
    "@show V₀ = [1 2 3];"
   ]
  },
  {
   "cell_type": "code",
   "execution_count": null,
   "metadata": {},
   "outputs": [
    {
     "name": "stdout",
     "output_type": "stream",
     "text": [
      "V₁ = V₀ = [1 2 3]\n"
     ]
    }
   ],
   "source": [
    "@show V₁ = V₀;\n"
   ]
  },
  {
   "cell_type": "markdown",
   "metadata": {},
   "source": [
    "Running `V₁ = V₀` will create a new pointer to the memory associated with `V₀`.\n",
    "Now changes in either of those objects will affect both pointers:"
   ]
  },
  {
   "cell_type": "code",
   "execution_count": null,
   "metadata": {},
   "outputs": [
    {
     "name": "stdout",
     "output_type": "stream",
     "text": [
      "V₁[1] = 420 = 420\n",
      "V₁ = [420 2 128]\n",
      "V₀ = [420 2 128]\n",
      "V₀[3] = 128 = 128\n",
      "V₁ = [420 2 128]\n",
      "V₀ = [420 2 128]\n"
     ]
    }
   ],
   "source": [
    "@show V₁[1] = 420;\n",
    "@show V₁;\n",
    "@show V₀;\n",
    "\n",
    "@show V₀[3] = 128;\n",
    "@show V₁;\n",
    "@show V₀;"
   ]
  },
  {
   "cell_type": "markdown",
   "metadata": {},
   "source": [
    "```{margin}\n",
    "_Note to myself:_ explain it using better words.\n",
    "```\n",
    "\n",
    "This feature of `Julia` can be especially confusing in iterative procedures with updating values, such as value function iterations. \n",
    "In this case, trying to create a copy of one array but making rather a new pointer instead will result in meeting the convergence criterion immediately after the first iteration (_terrible sentence_).\n",
    "Obviously, this will not be correct.\n",
    "\n"
   ]
  },
  {
   "cell_type": "markdown",
   "metadata": {},
   "source": [
    "A remedy to this issue can be simply addressed by using `deepcopy`, which creates a _new object in the memory_ that contains the same information as the copied object."
   ]
  },
  {
   "cell_type": "code",
   "execution_count": null,
   "metadata": {},
   "outputs": [
    {
     "name": "stdout",
     "output_type": "stream",
     "text": [
      "V₀ = [1 2 3] = [1 2 3]\n",
      "V₁ = deepcopy(V₀) = [1 2 3]\n"
     ]
    }
   ],
   "source": [
    "@show V₀ = [1 2 3];\n",
    "@show V₁ = deepcopy(V₀);"
   ]
  },
  {
   "cell_type": "markdown",
   "metadata": {},
   "source": [
    "Now changes in either of those objects _will not_ affect values pointed by the other object:"
   ]
  },
  {
   "cell_type": "code",
   "execution_count": null,
   "metadata": {},
   "outputs": [
    {
     "name": "stdout",
     "output_type": "stream",
     "text": [
      "V₁[1] = 420 = 420\n",
      "V₁ = [420 2 3]\n",
      "V₀ = [1 2 3]\n",
      "V₀[3] = 128 = 128\n",
      "V₁ = [420 2 3]\n",
      "V₀ = [1 2 128]\n"
     ]
    }
   ],
   "source": [
    "@show V₁[1] = 420;\n",
    "@show V₁;\n",
    "@show V₀;\n",
    "\n",
    "@show V₀[3] = 128;\n",
    "@show V₁;\n",
    "@show V₀;"
   ]
  },
  {
   "cell_type": "markdown",
   "metadata": {},
   "source": [
    "An important thing that should be also stressed is that this feature works only in the presence of assignments without additional operations.\n",
    "If, for instance, code `V₁ = 2*V₀` involves two operations: (1) multiplication `*(2,V₀)`; and (2) making pointer `V₁` to memory containing _results_ from computing `*(2,V₀)` in the past.\n",
    "This means that memory spaces pointed by `V₁` and by `V₀` are two different things."
   ]
  },
  {
   "cell_type": "code",
   "execution_count": null,
   "metadata": {},
   "outputs": [
    {
     "name": "stdout",
     "output_type": "stream",
     "text": [
      "V₀ = [1 2 3] = [1 2 3]\n",
      "V₁ = 2V₀ = [2 4 6]\n"
     ]
    }
   ],
   "source": [
    "@show V₀ = [1 2 3];\n",
    "@show V₁ = 2*V₀;"
   ]
  },
  {
   "cell_type": "code",
   "execution_count": null,
   "metadata": {},
   "outputs": [
    {
     "name": "stdout",
     "output_type": "stream",
     "text": [
      "V₁[1] = 420 = 420\n",
      "V₁ = [420 4 6]\n",
      "V₀ = [1 2 3]\n",
      "V₀[3] = 128 = 128\n",
      "V₁ = [420 4 6]\n",
      "V₀ = [1 2 128]\n"
     ]
    }
   ],
   "source": [
    "@show V₁[1] = 420;\n",
    "@show V₁;\n",
    "@show V₀;\n",
    "\n",
    "@show V₀[3] = 128;\n",
    "@show V₁;\n",
    "@show V₀;"
   ]
  },
  {
   "cell_type": "markdown",
   "metadata": {},
   "source": [
    "### Dictionaries\n",
    "\n",
    "\n",
    "Dictionaries are very useful objects that are particularly useful in my daily workflow. \n",
    "They contain different objects and data structures of those types can be very different.\n",
    "Dictionaries are initialized with `Dict` and the list of the elements take arguments in the form `\"name_of_the_object\" => object`.\n",
    "An illustration below:\n",
    "\n"
   ]
  },
  {
   "cell_type": "code",
   "execution_count": 30,
   "metadata": {},
   "outputs": [
    {
     "data": {
      "text/plain": [
       "Dict{String, Any} with 2 entries:\n",
       "  \"Y\" => 1:10\n",
       "  \"X\" => 2"
      ]
     },
     "execution_count": 30,
     "metadata": {},
     "output_type": "execute_result"
    }
   ],
   "source": [
    "my_first_dict = Dict(\"X\" => 2,\n",
    "                     \"Y\" => 1:10)"
   ]
  },
  {
   "cell_type": "markdown",
   "metadata": {},
   "source": [
    "Alternatively you can use a bit different notation, which I personally prefer (and I am not sure why):  `Dict([ (\"name_of_the_object1\", object1) ])`.\n",
    "For example, if we want to create an object containing all parameters of our model, dictionaries are good candidates for it:"
   ]
  },
  {
   "cell_type": "code",
   "execution_count": 36,
   "metadata": {},
   "outputs": [
    {
     "data": {
      "text/plain": [
       "Dict{String, Any} with 4 entries:\n",
       "  \"b\"          => [0.55 0.0]\n",
       "  \"π\"          => [1 20; 2 21; … ; 9 28; 10 29]\n",
       "  \"vec_states\" => 1:2\n",
       "  \"β\"          => 0.996737"
      ]
     },
     "execution_count": 36,
     "metadata": {},
     "output_type": "execute_result"
    }
   ],
   "source": [
    "\n",
    "params = Dict([ \n",
    "                (\"β\" , (1/1.04)^(1/12)),\n",
    "                (\"b\" , [.55 0]) ,\n",
    "                (\"vec_states\" , 1:2) ,\n",
    "                (\"π\", [1:10 20:29])\n",
    "            ])\n"
   ]
  },
  {
   "cell_type": "markdown",
   "metadata": {},
   "source": [
    "Accessing elements of dictionaries has some similarities with arrays. The main difference is that we have to use names in quotates instead of indices:"
   ]
  },
  {
   "cell_type": "code",
   "execution_count": 37,
   "metadata": {},
   "outputs": [
    {
     "name": "stdout",
     "output_type": "stream",
     "text": [
      "params[\"β\"] = 0.9967369426185624\n"
     ]
    },
    {
     "data": {
      "text/plain": [
       "10×2 Matrix{Int64}:\n",
       "  1  20\n",
       "  2  21\n",
       "  3  22\n",
       "  4  23\n",
       "  5  24\n",
       "  6  25\n",
       "  7  26\n",
       "  8  27\n",
       "  9  28\n",
       " 10  29"
      ]
     },
     "execution_count": 37,
     "metadata": {},
     "output_type": "execute_result"
    }
   ],
   "source": [
    "@show params[\"β\"]\n",
    "params[\"π\"]"
   ]
  },
  {
   "cell_type": "markdown",
   "metadata": {},
   "source": [
    "We can normally work on objects inside dictionaries. \n",
    "Suppose we want to increase values of all rows but the last one of the first column of array `π` by one we can do it by: "
   ]
  },
  {
   "cell_type": "code",
   "execution_count": 38,
   "metadata": {},
   "outputs": [
    {
     "data": {
      "text/plain": [
       "10×2 Matrix{Int64}:\n",
       "  2  20\n",
       "  3  21\n",
       "  4  22\n",
       "  5  23\n",
       "  6  24\n",
       "  7  25\n",
       "  8  26\n",
       "  9  27\n",
       " 10  28\n",
       " 10  29"
      ]
     },
     "execution_count": 38,
     "metadata": {},
     "output_type": "execute_result"
    }
   ],
   "source": [
    "params[\"π\"][1:(end-1),1]  .+= 1;\n",
    "params[\"π\"]"
   ]
  },
  {
   "cell_type": "markdown",
   "metadata": {},
   "source": [
    "We can also add new elements to existing dictionaries. It is super simple:"
   ]
  },
  {
   "cell_type": "code",
   "execution_count": 54,
   "metadata": {},
   "outputs": [
    {
     "data": {
      "text/plain": [
       "12"
      ]
     },
     "execution_count": 54,
     "metadata": {},
     "output_type": "execute_result"
    }
   ],
   "source": [
    "params[\"Σ\"] = 12"
   ]
  },
  {
   "cell_type": "markdown",
   "metadata": {},
   "source": [
    "Now in in `params` there is a new object `Σ`:"
   ]
  },
  {
   "cell_type": "code",
   "execution_count": 59,
   "metadata": {},
   "outputs": [
    {
     "data": {
      "text/plain": [
       "Dict{String, Any} with 5 entries:\n",
       "  \"Σ\"          => 12\n",
       "  \"b\"          => [0.55 0.0]\n",
       "  \"π\"          => [2 20; 3 21; … ; 10 28; 10 29]\n",
       "  \"vec_states\" => 1:2\n",
       "  \"β\"          => 0.996737"
      ]
     },
     "execution_count": 59,
     "metadata": {},
     "output_type": "execute_result"
    }
   ],
   "source": [
    "params "
   ]
  },
  {
   "cell_type": "markdown",
   "metadata": {},
   "source": [
    "In my own workflow, dictionaries are super useful for putting all blocks of models into one object.\n",
    "I create a dictionary `economy` with all parameters, value functions, simulations inside.\n",
    "Thanks to this during analyses I can explore different parametrizations, counterfactual calibrations and what not in a very organized way.\n",
    "\n"
   ]
  },
  {
   "cell_type": "markdown",
   "metadata": {},
   "source": [
    "```{note}\n",
    "You have to remember the assignment operator `=` with whole dictionaries works in a very similar way as with arrays, _i.e._ it refers to memory containing information rather than information itself.\n",
    "```"
   ]
  },
  {
   "cell_type": "code",
   "execution_count": null,
   "metadata": {},
   "outputs": [
    {
     "name": "stdout",
     "output_type": "stream",
     "text": [
      "Before assignment:\n",
      "equation[\"c\"] = π\n",
      "equation_copy[\"c\"] = π\n",
      "ASSIGNMENT: equation_copy[\"c\"] = 420\n",
      "After assignment:\n",
      "equation[\"c\"] = 420\n",
      "equation_copy[\"c\"] = 420\n"
     ]
    }
   ],
   "source": [
    "equation_copy = equation;\n",
    "\n",
    "println(\"Before assignment:\")\n",
    "@show equation[\"c\"];\n",
    "@show equation_copy[\"c\"];\n",
    "\n",
    "\n",
    "println(\"ASSIGNMENT: equation_copy[\\\"c\\\"] = 420\")\n",
    "equation_copy[\"c\"] = 420;\n",
    "\n",
    "println(\"After assignment:\")\n",
    "@show equation[\"c\"];\n",
    "@show equation_copy[\"c\"];\n"
   ]
  },
  {
   "cell_type": "markdown",
   "metadata": {},
   "source": [
    "(unpack)=\n",
    "#### Too many repetitions of dictionary names? `@unpack` should help!"
   ]
  },
  {
   "cell_type": "markdown",
   "metadata": {},
   "source": [
    "(multiply_coefs)=\n",
    "```{note}\n",
    "Suppose that we have a dictionary `equation` containing a range of argumnents $\\mathbf{x}=\\left(1+\\frac{(i-1)}{10}\\right)_{i=1}^{100}$ and values of coefficients $(a=1,b=12,c=\\pi)$ characterizing a certain quadratic equation $ax^2 + bx +c.$ \n",
    "```\n",
    "\n",
    "Then, our dictionary will be of the following form:\n"
   ]
  },
  {
   "cell_type": "code",
   "execution_count": 48,
   "metadata": {},
   "outputs": [
    {
     "data": {
      "text/plain": [
       "Dict{String, Any} with 4 entries:\n",
       "  \"c\" => π\n",
       "  \"x\" => [1.0, 1.1, 1.2, 1.3, 1.4, 1.5, 1.6, 1.7, 1.8, 1.9  …  10.0, 10.1, 10.2…\n",
       "  \"b\" => 12\n",
       "  \"a\" => 1"
      ]
     },
     "execution_count": 48,
     "metadata": {},
     "output_type": "execute_result"
    }
   ],
   "source": [
    "equation  = Dict([\n",
    "                    (\"x\" , collect(range(1, step=.1, length=100)) ),\n",
    "                    (\"a\", 1),\n",
    "                    (\"b\", 12),\n",
    "                    (\"c\", π)\n",
    "                ])"
   ]
  },
  {
   "cell_type": "markdown",
   "metadata": {},
   "source": [
    "(polyn_eval)=\n",
    "```{note}\n",
    "Now suppose we want to evaluate the function calibrated with $(a=1,b=12,c=\\pi)$ at $\\mathbb{x}.$\n",
    "```\n",
    "One way to do it is as follows:\n"
   ]
  },
  {
   "cell_type": "markdown",
   "metadata": {},
   "source": [
    "```{margin}\n",
    "Here I broadcast functions using `@.` macro.\n",
    "Broadcasting in general is discussed in [this](broadcasting) section, while `@.` macro in [this](at_dot) subsection.\n",
    "```"
   ]
  },
  {
   "cell_type": "code",
   "execution_count": 3,
   "metadata": {},
   "outputs": [
    {
     "data": {
      "text/plain": [
       "100-element Vector{Float64}:\n",
       "  16.141592653589793\n",
       "  17.551592653589793\n",
       "  18.981592653589793\n",
       "  20.431592653589796\n",
       "  21.90159265358979\n",
       "  23.391592653589793\n",
       "  24.9015926535898\n",
       "  26.431592653589792\n",
       "  27.981592653589797\n",
       "  29.55159265358979\n",
       "  31.141592653589793\n",
       "  32.751592653589796\n",
       "  34.38159265358979\n",
       "   ⋮\n",
       " 216.78159265358983\n",
       " 219.95159265358978\n",
       " 223.14159265358978\n",
       " 226.35159265358976\n",
       " 229.58159265358978\n",
       " 232.8315926535898\n",
       " 236.10159265358982\n",
       " 239.39159265358978\n",
       " 242.70159265358978\n",
       " 246.03159265358974\n",
       " 249.38159265358982\n",
       " 252.7515926535898"
      ]
     },
     "execution_count": 3,
     "metadata": {},
     "output_type": "execute_result"
    }
   ],
   "source": [
    "equation[\"y\"] = @. equation[\"a\"]*equation[\"x\"]^2 + equation[\"b\"]*equation[\"x\"] + equation[\"c\"]"
   ]
  },
  {
   "cell_type": "markdown",
   "metadata": {},
   "source": [
    "The code works but it does not have the nicest look and might be difficult to change.\n",
    "In this case, macro `@unpack` from package `Parameters` can be helpful in making the code more legible.\n",
    "This macro has the following syntax:  `@unpack object_1, object_2 = dictionary_1`.\n",
    "`@unpack` extracts objects with names `object_1` and `object_2` from `dictionary_1` and makes them available in the current local scope. `dictionary_1` might have other objects inside but `@unpack` extracts only those explicitly mentioned objects.\n",
    "Below you can see how it works\n",
    "\n",
    "```{margin}\n",
    "Note to myself: in the future you need to write a section on scopes.\n",
    "```"
   ]
  },
  {
   "cell_type": "code",
   "execution_count": 4,
   "metadata": {},
   "outputs": [
    {
     "ename": "LoadError",
     "evalue": "UndefVarError: a not defined",
     "output_type": "error",
     "traceback": [
      "UndefVarError: a not defined",
      "",
      "Stacktrace:",
      " [1] top-level scope",
      "   @ show.jl:955",
      " [2] eval",
      "   @ ./boot.jl:360 [inlined]",
      " [3] include_string(mapexpr::typeof(REPL.softscope), mod::Module, code::String, filename::String)",
      "   @ Base ./loading.jl:1094"
     ]
    }
   ],
   "source": [
    "@show a #object a is only defined in dictionary equation, so you cannot access it"
   ]
  },
  {
   "cell_type": "code",
   "execution_count": 5,
   "metadata": {},
   "outputs": [
    {
     "name": "stdout",
     "output_type": "stream",
     "text": [
      "a = 1\n"
     ]
    },
    {
     "data": {
      "text/plain": [
       "1"
      ]
     },
     "execution_count": 5,
     "metadata": {},
     "output_type": "execute_result"
    }
   ],
   "source": [
    "using Parameters\n",
    "@unpack a, b, c, x = equation\n",
    "@show a #now it works\n"
   ]
  },
  {
   "cell_type": "markdown",
   "metadata": {},
   "source": [
    "Now to evaluate our quadratic function at $\\mathbb{x}$ we can do it by:"
   ]
  },
  {
   "cell_type": "code",
   "execution_count": 6,
   "metadata": {},
   "outputs": [
    {
     "data": {
      "text/plain": [
       "100-element Vector{Float64}:\n",
       "  16.141592653589793\n",
       "  17.551592653589793\n",
       "  18.981592653589793\n",
       "  20.431592653589796\n",
       "  21.90159265358979\n",
       "  23.391592653589793\n",
       "  24.9015926535898\n",
       "  26.431592653589792\n",
       "  27.981592653589797\n",
       "  29.55159265358979\n",
       "  31.141592653589793\n",
       "  32.751592653589796\n",
       "  34.38159265358979\n",
       "   ⋮\n",
       " 216.78159265358983\n",
       " 219.95159265358978\n",
       " 223.14159265358978\n",
       " 226.35159265358976\n",
       " 229.58159265358978\n",
       " 232.8315926535898\n",
       " 236.10159265358982\n",
       " 239.39159265358978\n",
       " 242.70159265358978\n",
       " 246.03159265358974\n",
       " 249.38159265358982\n",
       " 252.7515926535898"
      ]
     },
     "execution_count": 6,
     "metadata": {},
     "output_type": "execute_result"
    }
   ],
   "source": [
    "equation[\"y\"] = @. a*x^2 + b*x + c"
   ]
  },
  {
   "cell_type": "markdown",
   "metadata": {},
   "source": [
    "You have to remember that in `@unpack`, the assignment (`=`) operator works normally... for `Julia`. This means that if `object_1` is a scalar while `object_2` is an array, working with those objects can be very different.\n",
    "This topic was discussed in [this](assign) section.\n",
    "Below you can find an example illustrating those differences:\n"
   ]
  },
  {
   "cell_type": "code",
   "execution_count": 7,
   "metadata": {},
   "outputs": [
    {
     "name": "stdout",
     "output_type": "stream",
     "text": [
      "equation[\"a\"] = 1\n",
      "a = 1\n",
      "a += 1 = 2\n",
      "equation[\"a\"] = 1\n",
      "a = 2\n"
     ]
    },
    {
     "data": {
      "text/plain": [
       "2"
      ]
     },
     "execution_count": 7,
     "metadata": {},
     "output_type": "execute_result"
    }
   ],
   "source": [
    "@show equation[\"a\"];\n",
    "@show a;\n",
    "\n",
    "@show a += 1;\n",
    "\n",
    "@show equation[\"a\"]; # `a += 1;` didn't change  the value of `equation[\"a\"]`\n",
    "@show a;             # `a += 1;`        changed the value of `a`"
   ]
  },
  {
   "cell_type": "code",
   "execution_count": 8,
   "metadata": {},
   "outputs": [
    {
     "name": "stdout",
     "output_type": "stream",
     "text": [
      "equation[\"x\"] = [1.0, 1.1, 1.2, 1.3, 1.4, 1.5, 1.6, 1.7, 1.8, 1.9, 2.0, 2.1, 2.2, 2.3, 2.4, 2.5, 2.6, 2.7, 2.8, 2.9, 3.0, 3.1, 3.2, 3.3, 3.4, 3.5, 3.6, 3.7, 3.8, 3.9, 4.0, 4.1, 4.2, 4.3, 4.4, 4.5, 4.6, 4.7, 4.8, 4.9, 5.0, 5.1, 5.2, 5.3, 5.4, 5.5, 5.6, 5.7, 5.8, 5.9, 6.0, 6.1, 6.2, 6.3, 6.4, 6.5, 6.6, 6.7, 6.8, 6.9, 7.0, 7.1, 7.2, 7.3, 7.4, 7.5, 7.6, 7.7, 7.8, 7.9, 8.0, 8.1, 8.2, 8.3, 8.4, 8.5, 8.6, 8.7, 8.8, 8.9, 9.0, 9.1, 9.2, 9.3, 9.4, 9.5, 9.6, 9.7, 9.8, 9.9, 10.0, 10.1, 10.2, 10.3, 10.4, 10.5, 10.6, 10.7, 10.8, 10.9]\n",
      "x = [1.0, 1.1, 1.2, 1.3, 1.4, 1.5, 1.6, 1.7, 1.8, 1.9, 2.0, 2.1, 2.2, 2.3, 2.4, 2.5, 2.6, 2.7, 2.8, 2.9, 3.0, 3.1, 3.2, 3.3, 3.4, 3.5, 3.6, 3.7, 3.8, 3.9, 4.0, 4.1, 4.2, 4.3, 4.4, 4.5, 4.6, 4.7, 4.8, 4.9, 5.0, 5.1, 5.2, 5.3, 5.4, 5.5, 5.6, 5.7, 5.8, 5.9, 6.0, 6.1, 6.2, 6.3, 6.4, 6.5, 6.6, 6.7, 6.8, 6.9, 7.0, 7.1, 7.2, 7.3, 7.4, 7.5, 7.6, 7.7, 7.8, 7.9, 8.0, 8.1, 8.2, 8.3, 8.4, 8.5, 8.6, 8.7, 8.8, 8.9, 9.0, 9.1, 9.2, 9.3, 9.4, 9.5, 9.6, 9.7, 9.8, 9.9, 10.0, 10.1, 10.2, 10.3, 10.4, 10.5, 10.6, 10.7, 10.8, 10.9]\n",
      "x .+= 1 = [2.0, 2.1, 2.2, 2.3, 2.4, 2.5, 2.6, 2.7, 2.8, 2.9, 3.0, 3.1, 3.2, 3.3, 3.4, 3.5, 3.6, 3.7, 3.8, 3.9, 4.0, 4.1, 4.2, 4.3, 4.4, 4.5, 4.6, 4.7, 4.8, 4.9, 5.0, 5.1, 5.2, 5.3, 5.4, 5.5, 5.6, 5.7, 5.8, 5.9, 6.0, 6.1, 6.2, 6.3, 6.4, 6.5, 6.6, 6.7, 6.8, 6.9, 7.0, 7.1, 7.2, 7.3, 7.4, 7.5, 7.6, 7.7, 7.8, 7.9, 8.0, 8.1, 8.2, 8.3, 8.4, 8.5, 8.6, 8.7, 8.8, 8.9, 9.0, 9.1, 9.2, 9.3, 9.4, 9.5, 9.6, 9.7, 9.8, 9.9, 10.0, 10.1, 10.2, 10.3, 10.4, 10.5, 10.6, 10.7, 10.8, 10.9, 11.0, 11.1, 11.2, 11.3, 11.4, 11.5, 11.6, 11.7, 11.8, 11.9]\n",
      "equation[\"x\"] = [2.0, 2.1, 2.2, 2.3, 2.4, 2.5, 2.6, 2.7, 2.8, 2.9, 3.0, 3.1, 3.2, 3.3, 3.4, 3.5, 3.6, 3.7, 3.8, 3.9, 4.0, 4.1, 4.2, 4.3, 4.4, 4.5, 4.6, 4.7, 4.8, 4.9, 5.0, 5.1, 5.2, 5.3, 5.4, 5.5, 5.6, 5.7, 5.8, 5.9, 6.0, 6.1, 6.2, 6.3, 6.4, 6.5, 6.6, 6.7, 6.8, 6.9, 7.0, 7.1, 7.2, 7.3, 7.4, 7.5, 7.6, 7.7, 7.8, 7.9, 8.0, 8.1, 8.2, 8.3, 8.4, 8.5, 8.6, 8.7, 8.8, 8.9, 9.0, 9.1, 9.2, 9.3, 9.4, 9.5, 9.6, 9.7, 9.8, 9.9, 10.0, 10.1, 10.2, 10.3, 10.4, 10.5, 10.6, 10.7, 10.8, 10.9, 11.0, 11.1, 11.2, 11.3, 11.4, 11.5, 11.6, 11.7, 11.8, 11.9]\n",
      "x = [2.0, 2.1, 2.2, 2.3, 2.4, 2.5, 2.6, 2.7, 2.8, 2.9, 3.0, 3.1, 3.2, 3.3, 3.4, 3.5, 3.6, 3.7, 3.8, 3.9, 4.0, 4.1, 4.2, 4.3, 4.4, 4.5, 4.6, 4.7, 4.8, 4.9, 5.0, 5.1, 5.2, 5.3, 5.4, 5.5, 5.6, 5.7, 5.8, 5.9, 6.0, 6.1, 6.2, 6.3, 6.4, 6.5, 6.6, 6.7, 6.8, 6.9, 7.0, 7.1, 7.2, 7.3, 7.4, 7.5, 7.6, 7.7, 7.8, 7.9, 8.0, 8.1, 8.2, 8.3, 8.4, 8.5, 8.6, 8.7, 8.8, 8.9, 9.0, 9.1, 9.2, 9.3, 9.4, 9.5, 9.6, 9.7, 9.8, 9.9, 10.0, 10.1, 10.2, 10.3, 10.4, 10.5, 10.6, 10.7, 10.8, 10.9, 11.0, 11.1, 11.2, 11.3, 11.4, 11.5, 11.6, 11.7, 11.8, 11.9]\n"
     ]
    },
    {
     "data": {
      "text/plain": [
       "100-element Vector{Float64}:\n",
       "  2.0\n",
       "  2.1\n",
       "  2.2\n",
       "  2.3\n",
       "  2.4\n",
       "  2.5\n",
       "  2.6\n",
       "  2.7\n",
       "  2.8\n",
       "  2.9\n",
       "  3.0\n",
       "  3.1\n",
       "  3.2\n",
       "  ⋮\n",
       " 10.8\n",
       " 10.9\n",
       " 11.0\n",
       " 11.1\n",
       " 11.2\n",
       " 11.3\n",
       " 11.4\n",
       " 11.5\n",
       " 11.6\n",
       " 11.7\n",
       " 11.8\n",
       " 11.9"
      ]
     },
     "execution_count": 8,
     "metadata": {},
     "output_type": "execute_result"
    }
   ],
   "source": [
    "@show equation[\"x\"];\n",
    "@show x;\n",
    "\n",
    "\n",
    "@show x .+= 1;\n",
    "\n",
    "@show equation[\"x\"]; # `x .+= 1;`        CHANGED the value of `equation[\"x\"]`\n",
    "@show x;             # `x .+= 1;`        changed the value of `x`"
   ]
  },
  {
   "cell_type": "markdown",
   "metadata": {},
   "source": [
    "While `a+=1` _did not_ have impact on `equation[\"a\"]`, `x .+= 1` affected `equation[\"x\"]`. It is important to remember this feature of the language."
   ]
  },
  {
   "cell_type": "markdown",
   "metadata": {},
   "source": [
    "### Ranges\n",
    "\n"
   ]
  },
  {
   "cell_type": "markdown",
   "metadata": {},
   "source": [
    "Ranges are quite intuitive objects.\n",
    "They collect elements from a certain range of values.\n",
    "They can be created either by using `:` operator (just like in `R` and `Matlab`) or by using `range` function.\n",
    "For instance, if we want to create a range from 5 through 120, we can use two options:"
   ]
  },
  {
   "cell_type": "code",
   "execution_count": null,
   "metadata": {},
   "outputs": [
    {
     "name": "stdout",
     "output_type": "stream",
     "text": [
      "5:120 = 5:120\n",
      "range(5, stop = 120) = 5:120\n"
     ]
    }
   ],
   "source": [
    "@show 5:120;\n",
    "@show range(5, stop=120);"
   ]
  },
  {
   "cell_type": "markdown",
   "metadata": {},
   "source": [
    "Notice that you are not allowed to use `range(5,120)` because at least one of `length`, `stop`, or `step` must be specified explicitely.\n",
    "\n",
    "\n",
    "If we want, we can set the size step. Again, it can be done in two ways:"
   ]
  },
  {
   "cell_type": "code",
   "execution_count": null,
   "metadata": {},
   "outputs": [
    {
     "name": "stdout",
     "output_type": "stream",
     "text": [
      "5:0.5:120 = 5.0:0.5:120.0\n",
      "range(5, stop = 120, step = 0.5) = 5.0:0.5:120.0\n"
     ]
    }
   ],
   "source": [
    "@show 5:.5:120;\n",
    "@show range(5, stop=120, step=.5);"
   ]
  },
  {
   "cell_type": "markdown",
   "metadata": {},
   "source": [
    "You can perform normal arithmetic operations:"
   ]
  },
  {
   "cell_type": "code",
   "execution_count": null,
   "metadata": {},
   "outputs": [
    {
     "data": {
      "text/plain": [
       "2:2:10"
      ]
     },
     "metadata": {},
     "output_type": "display_data"
    }
   ],
   "source": [
    "(1:5)*2"
   ]
  },
  {
   "cell_type": "markdown",
   "metadata": {},
   "source": [
    "However, be careful about the order of operations. \n",
    "Arithmetic operations have a higher priority in `Julia`.\n",
    "For `Matlab` users that is the same, but it might be problematic for `R` users, where the order is different.\n",
    "In `Julia`if you type `1:5+1`, you will give you `1:6`, while in `R` you will get `2:6`."
   ]
  },
  {
   "cell_type": "code",
   "execution_count": null,
   "metadata": {},
   "outputs": [
    {
     "data": {
      "text/plain": [
       "1:6"
      ]
     },
     "metadata": {},
     "output_type": "display_data"
    }
   ],
   "source": [
    "1:5+1"
   ]
  },
  {
   "cell_type": "markdown",
   "metadata": {},
   "source": [
    "Another important difference between other languages and `Julia` is the fact that arrays and ranges are not compatible with each other.\n",
    "This means that arithmetic operations will give you an error message, even if objects are of the same size: "
   ]
  },
  {
   "cell_type": "code",
   "execution_count": null,
   "metadata": {},
   "outputs": [
    {
     "ename": "LoadError",
     "evalue": "MethodError: no method matching +(::Int64, ::Vector{Int64})\nFor element-wise addition, use broadcasting with dot syntax: scalar .+ array\n\u001b[0mClosest candidates are:\n\u001b[0m  +(::Any, ::Any, \u001b[91m::Any\u001b[39m, \u001b[91m::Any...\u001b[39m) at operators.jl:560\n\u001b[0m  +(::T, \u001b[91m::T\u001b[39m) where T<:Union{Int128, Int16, Int32, Int64, Int8, UInt128, UInt16, UInt32, UInt64, UInt8} at int.jl:87\n\u001b[0m  +(::Union{Int16, Int32, Int64, Int8}, \u001b[91m::BigInt\u001b[39m) at gmp.jl:534\n\u001b[0m  ...",
     "output_type": "error",
     "traceback": [
      "MethodError: no method matching +(::Int64, ::Vector{Int64})\n",
      "For element-wise addition, use broadcasting with dot syntax: scalar .+ array\n",
      "\u001b[0mClosest candidates are:\n",
      "\u001b[0m  +(::Any, ::Any, \u001b[91m::Any\u001b[39m, \u001b[91m::Any...\u001b[39m) at operators.jl:560\n",
      "\u001b[0m  +(::T, \u001b[91m::T\u001b[39m) where T<:Union{Int128, Int16, Int32, Int64, Int8, UInt128, UInt16, UInt32, UInt64, UInt8} at int.jl:87\n",
      "\u001b[0m  +(::Union{Int16, Int32, Int64, Int8}, \u001b[91m::BigInt\u001b[39m) at gmp.jl:534\n",
      "\u001b[0m  ...\n",
      "\n",
      "Stacktrace:\n",
      " [1] top-level scope\n",
      "   @ In[293]:1\n",
      " [2] eval\n",
      "   @ ./boot.jl:360 [inlined]\n",
      " [3] include_string(mapexpr::typeof(REPL.softscope), mod::Module, code::String, filename::String)\n",
      "   @ Base ./loading.jl:1094"
     ]
    }
   ],
   "source": [
    "1:3 + [1; 2; 3]"
   ]
  },
  {
   "cell_type": "markdown",
   "metadata": {},
   "source": [
    "You can extract all element from a range and create an array by using `collect`:"
   ]
  },
  {
   "cell_type": "code",
   "execution_count": null,
   "metadata": {},
   "outputs": [
    {
     "data": {
      "text/plain": [
       "3-element Vector{Int64}:\n",
       " 1\n",
       " 2\n",
       " 3"
      ]
     },
     "metadata": {},
     "output_type": "display_data"
    }
   ],
   "source": [
    "collect(1:3)"
   ]
  },
  {
   "cell_type": "markdown",
   "metadata": {},
   "source": [
    "In this case, arithmetic operations are allowed:\n"
   ]
  },
  {
   "cell_type": "code",
   "execution_count": null,
   "metadata": {},
   "outputs": [
    {
     "data": {
      "text/plain": [
       "3-element Vector{Int64}:\n",
       " 2\n",
       " 4\n",
       " 6"
      ]
     },
     "metadata": {},
     "output_type": "display_data"
    }
   ],
   "source": [
    "collect(1:3) + [1; 2; 3]"
   ]
  },
  {
   "cell_type": "markdown",
   "metadata": {},
   "source": [
    "### Tuples\n",
    "\n",
    "To be written. An example of a tuple:"
   ]
  },
  {
   "cell_type": "code",
   "execution_count": null,
   "metadata": {},
   "outputs": [
    {
     "data": {
      "text/plain": [
       "(1, 2, 3)"
      ]
     },
     "metadata": {},
     "output_type": "display_data"
    }
   ],
   "source": [
    "(1,2,3)"
   ]
  },
  {
   "cell_type": "markdown",
   "metadata": {},
   "source": [
    "### Sets"
   ]
  },
  {
   "cell_type": "markdown",
   "metadata": {},
   "source": [
    "To be written"
   ]
  },
  {
   "cell_type": "markdown",
   "metadata": {},
   "source": []
  }
 ],
 "metadata": {
  "kernelspec": {
   "display_name": "Julia 1.6.0",
   "language": "julia",
   "name": "julia-1.6"
  },
  "language_info": {
   "file_extension": ".jl",
   "mimetype": "application/julia",
   "name": "julia",
   "version": "1.6.0"
  }
 },
 "nbformat": 4,
 "nbformat_minor": 2
}